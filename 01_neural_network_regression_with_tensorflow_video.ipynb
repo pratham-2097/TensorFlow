{
  "nbformat": 4,
  "nbformat_minor": 0,
  "metadata": {
    "colab": {
      "provenance": [],
      "gpuType": "T4"
    },
    "kernelspec": {
      "name": "python3",
      "display_name": "Python 3"
    },
    "language_info": {
      "name": "python"
    }
  },
  "cells": [
    {
      "cell_type": "markdown",
      "source": [
        "Introduction to Regression with Tensor flow"
      ],
      "metadata": {
        "id": "gMiuuKTedQvy"
      }
    },
    {
      "cell_type": "markdown",
      "source": [
        "def: Predicting a numerical vraible based on some other combination of variables, even shorter ... predicting anumber."
      ],
      "metadata": {
        "id": "CB0hF9n9d80f"
      }
    },
    {
      "cell_type": "code",
      "source": [
        "%matplotlib inline\n",
        "import tensorflow as tf\n",
        "print(tf.__version__)"
      ],
      "metadata": {
        "id": "V4IqFpe9eVIM",
        "colab": {
          "base_uri": "https://localhost:8080/"
        },
        "outputId": "ea8a5013-f7ff-46b6-bfcb-355a14a8dc2f"
      },
      "execution_count": null,
      "outputs": [
        {
          "output_type": "stream",
          "name": "stdout",
          "text": [
            "2.12.0\n"
          ]
        }
      ]
    },
    {
      "cell_type": "markdown",
      "source": [
        "#  createing data to view and fit"
      ],
      "metadata": {
        "id": "2I9aExXKekQl"
      }
    },
    {
      "cell_type": "code",
      "source": [
        "import numpy as np\n",
        "import matplotlib.pyplot as plt\n",
        "\n",
        "# create features\n",
        "X = np.array([-7.0,-4.0,-1.0,2.0,5.0,8.0,11.0,14.0])\n",
        "\n",
        "# CReate labels\n",
        "y = np.array([3.0,6.0,9.0,12.0,15.0,18.0,21.0,24.0])\n",
        "\n",
        "# Visualize it\n",
        "plt.scatter(X,y)"
      ],
      "metadata": {
        "id": "QDYL6qqye22g",
        "colab": {
          "base_uri": "https://localhost:8080/",
          "height": 453
        },
        "outputId": "b876a2eb-e7c3-4dea-8c0c-9bc8a787f511"
      },
      "execution_count": null,
      "outputs": [
        {
          "output_type": "execute_result",
          "data": {
            "text/plain": [
              "<matplotlib.collections.PathCollection at 0x7f8dee7be950>"
            ]
          },
          "metadata": {},
          "execution_count": 2
        },
        {
          "output_type": "display_data",
          "data": {
            "text/plain": [
              "<Figure size 640x480 with 1 Axes>"
            ],
            "image/png": "[encoded data removed]"
          },
          "metadata": {}
        }
      ]
    },
    {
      "cell_type": "code",
      "source": [
        "y==X + 10"
      ],
      "metadata": {
        "id": "tMkp2efMfYPF",
        "colab": {
          "base_uri": "https://localhost:8080/"
        },
        "outputId": "bebdabf4-c604-4588-bd88-55fee2db4b2e"
      },
      "execution_count": null,
      "outputs": [
        {
          "output_type": "execute_result",
          "data": {
            "text/plain": [
              "array([ True,  True,  True,  True,  True,  True,  True,  True])"
            ]
          },
          "metadata": {},
          "execution_count": 3
        }
      ]
    },
    {
      "cell_type": "markdown",
      "source": [
        "#  input and output shapes\n"
      ],
      "metadata": {
        "id": "btr-mrXWfqGr"
      }
    },
    {
      "cell_type": "code",
      "source": [
        "#  create a demo tensor for our housimg prediction model\n",
        "house_info = tf.constant([\"bedroom\",'bathroom','garage'])\n",
        "house_price = tf.constant(['939700'])\n",
        "house_info,house_price"
      ],
      "metadata": {
        "id": "WMD0VOCXgAnL",
        "colab": {
          "base_uri": "https://localhost:8080/"
        },
        "outputId": "211f6961-c531-41aa-a52f-bfa6a19ee4a3"
      },
      "execution_count": null,
      "outputs": [
        {
          "output_type": "execute_result",
          "data": {
            "text/plain": [
              "(<tf.Tensor: shape=(3,), dtype=string, numpy=array([b'bedroom', b'bathroom', b'garage'], dtype=object)>,\n",
              " <tf.Tensor: shape=(1,), dtype=string, numpy=array([b'939700'], dtype=object)>)"
            ]
          },
          "metadata": {},
          "execution_count": 4
        }
      ]
    },
    {
      "cell_type": "code",
      "source": [
        "X[0],y[0]"
      ],
      "metadata": {
        "id": "Ooay5M1ShASC",
        "colab": {
          "base_uri": "https://localhost:8080/"
        },
        "outputId": "ec64ebdd-0e5b-44f5-9a05-7e87730370bc"
      },
      "execution_count": null,
      "outputs": [
        {
          "output_type": "execute_result",
          "data": {
            "text/plain": [
              "(-7.0, 3.0)"
            ]
          },
          "metadata": {},
          "execution_count": 5
        }
      ]
    },
    {
      "cell_type": "code",
      "source": [
        "\n",
        "\n",
        "X[1],y[1]"
      ],
      "metadata": {
        "id": "kcJI-Qn-hHB3",
        "colab": {
          "base_uri": "https://localhost:8080/"
        },
        "outputId": "502577ad-baa5-4896-c2f3-ff3319258a7b"
      },
      "execution_count": null,
      "outputs": [
        {
          "output_type": "execute_result",
          "data": {
            "text/plain": [
              "(-4.0, 6.0)"
            ]
          },
          "metadata": {},
          "execution_count": 6
        }
      ]
    },
    {
      "cell_type": "code",
      "source": [
        "input_shape = X.shape\n",
        "output_shape = y.shape\n",
        "input_shape, output_shape"
      ],
      "metadata": {
        "id": "5cdVjkPYgf0B",
        "colab": {
          "base_uri": "https://localhost:8080/"
        },
        "outputId": "a316dfcf-b62a-43d0-b0d5-6a8eed471adc"
      },
      "execution_count": null,
      "outputs": [
        {
          "output_type": "execute_result",
          "data": {
            "text/plain": [
              "((8,), (8,))"
            ]
          },
          "metadata": {},
          "execution_count": 7
        }
      ]
    },
    {
      "cell_type": "code",
      "source": [
        "input_shape = X[0].shape\n",
        "output_shape = y[0].shape\n",
        "input_shape, output_shape\n",
        "\n"
      ],
      "metadata": {
        "id": "fccjqR77gxLl",
        "colab": {
          "base_uri": "https://localhost:8080/"
        },
        "outputId": "ed42a0e7-a660-4148-9b39-1ee6d67c8d75"
      },
      "execution_count": null,
      "outputs": [
        {
          "output_type": "execute_result",
          "data": {
            "text/plain": [
              "((), ())"
            ]
          },
          "metadata": {},
          "execution_count": 8
        }
      ]
    },
    {
      "cell_type": "code",
      "source": [
        "X[0].ndim"
      ],
      "metadata": {
        "id": "_9FLNDkAhzSk",
        "colab": {
          "base_uri": "https://localhost:8080/"
        },
        "outputId": "ad293f29-cda9-49ae-8471-7e501d0278cb"
      },
      "execution_count": null,
      "outputs": [
        {
          "output_type": "execute_result",
          "data": {
            "text/plain": [
              "0"
            ]
          },
          "metadata": {},
          "execution_count": 9
        }
      ]
    },
    {
      "cell_type": "code",
      "source": [
        "#  turning numpy arrays into tensors\n",
        "X = tf.cast(tf.constant(X ), dtype = tf.float32)\n",
        "y = tf.cast(tf.constant(y) ,  dtype = tf.float32)\n",
        "X,y"
      ],
      "metadata": {
        "id": "lO8tTISNh1eK",
        "colab": {
          "base_uri": "https://localhost:8080/"
        },
        "outputId": "30b19872-52e9-499b-ea5f-66ae49f5b38d"
      },
      "execution_count": null,
      "outputs": [
        {
          "output_type": "execute_result",
          "data": {
            "text/plain": [
              "(<tf.Tensor: shape=(8,), dtype=float32, numpy=array([-7., -4., -1.,  2.,  5.,  8., 11., 14.], dtype=float32)>,\n",
              " <tf.Tensor: shape=(8,), dtype=float32, numpy=array([ 3.,  6.,  9., 12., 15., 18., 21., 24.], dtype=float32)>)"
            ]
          },
          "metadata": {},
          "execution_count": 10
        }
      ]
    },
    {
      "cell_type": "code",
      "source": [
        "input_shape = X[0].shape\n",
        "output_shape = y[0].shape\n",
        "input_shape, output_shape"
      ],
      "metadata": {
        "id": "Y5kye1vWiB2W",
        "colab": {
          "base_uri": "https://localhost:8080/"
        },
        "outputId": "99896706-96e6-488b-b42a-1971193f368c"
      },
      "execution_count": null,
      "outputs": [
        {
          "output_type": "execute_result",
          "data": {
            "text/plain": [
              "(TensorShape([]), TensorShape([]))"
            ]
          },
          "metadata": {},
          "execution_count": 11
        }
      ]
    },
    {
      "cell_type": "code",
      "source": [
        "plt.scatter(X,y)"
      ],
      "metadata": {
        "id": "Cjt2yCxejFMt",
        "colab": {
          "base_uri": "https://localhost:8080/",
          "height": 453
        },
        "outputId": "37889c85-8ed2-4cb7-e610-5e5a29497aee"
      },
      "execution_count": null,
      "outputs": [
        {
          "output_type": "execute_result",
          "data": {
            "text/plain": [
              "<matplotlib.collections.PathCollection at 0x7f8dec42b8b0>"
            ]
          },
          "metadata": {},
          "execution_count": 12
        },
        {
          "output_type": "display_data",
          "data": {
            "text/plain": [
              "<Figure size 640x480 with 1 Axes>"
            ],
            "image/png": "[encoded data removed]"
          },
          "metadata": {}
        }
      ]
    },
    {
      "cell_type": "markdown",
      "source": [
        "# Steps in modelling with tensorflow\n",
        "### 1 **creating a model** - defining the iput and output layers as well as the hidden layers of a deep leanring model\n",
        "### 2 **compiling a model** - defines the loss function( in other words tells our model how wrong it is) and the optimizer (tells our model how to improve the patterns its leanring) and evaluation matircs(what we can useto interpret the performance of our model)\n",
        "### 3 **fitting a model** - letting a model try to find patterns between X and y (features and labels)\n"
      ],
      "metadata": {
        "id": "rFa3jCRLjLYB"
      }
    },
    {
      "cell_type": "code",
      "source": [
        "#  set random seed\n",
        "tf.random.set_seed(42)\n",
        "\n",
        "#  1 create a model using the sequential API\n",
        "model = tf.keras.Sequential([tf.keras.layers.Dense(1), tf.keras.layers.Dense(1)])\n",
        "# or\n",
        "#  model = tf.keras.Sequential\n",
        "#  model.add(tf.keras.layers.Dense(1))\n",
        "#  model.add(tf.keras.layers.Dense(1))\n",
        "\n",
        "#  2 compile the model\n",
        "model.compile(loss = tf.keras.losses.mae,               # mae is te mean absolute error\n",
        "              optimizer = tf.keras.optimizers.SGD(),      # SGD is sochastic Gradient Descent\n",
        "              metrics = ['mae'] )\n",
        "\n",
        "# 3 fit the model\n",
        "\n",
        "model.fit(tf.expand_dims(X, axis=-1), y, epochs=5)"
      ],
      "metadata": {
        "id": "7z-2ZF8tkFGL",
        "colab": {
          "base_uri": "https://localhost:8080/"
        },
        "outputId": "f364a157-e196-4836-ebed-ac8bac9ee2e8"
      },
      "execution_count": null,
      "outputs": [
        {
          "output_type": "stream",
          "name": "stdout",
          "text": [
            "Epoch 1/5\n",
            "1/1 [==============================] - 2s 2s/step - loss: 18.5638 - mae: 18.5638\n",
            "Epoch 2/5\n",
            "1/1 [==============================] - 0s 16ms/step - loss: 17.6455 - mae: 17.6455\n",
            "Epoch 3/5\n",
            "1/1 [==============================] - 0s 17ms/step - loss: 16.7875 - mae: 16.7875\n",
            "Epoch 4/5\n",
            "1/1 [==============================] - 0s 14ms/step - loss: 15.9798 - mae: 15.9798\n",
            "Epoch 5/5\n",
            "1/1 [==============================] - 0s 14ms/step - loss: 15.2131 - mae: 15.2131\n"
          ]
        },
        {
          "output_type": "execute_result",
          "data": {
            "text/plain": [
              "<keras.callbacks.History at 0x7f8de93d8e50>"
            ]
          },
          "metadata": {},
          "execution_count": 13
        }
      ]
    },
    {
      "cell_type": "code",
      "source": [
        "#  check out X and y\n",
        "X,y\n"
      ],
      "metadata": {
        "id": "__OXWeU6rxqc",
        "colab": {
          "base_uri": "https://localhost:8080/"
        },
        "outputId": "854250a0-7e16-460f-f04f-dba0cce4b681"
      },
      "execution_count": null,
      "outputs": [
        {
          "output_type": "execute_result",
          "data": {
            "text/plain": [
              "(<tf.Tensor: shape=(8,), dtype=float32, numpy=array([-7., -4., -1.,  2.,  5.,  8., 11., 14.], dtype=float32)>,\n",
              " <tf.Tensor: shape=(8,), dtype=float32, numpy=array([ 3.,  6.,  9., 12., 15., 18., 21., 24.], dtype=float32)>)"
            ]
          },
          "metadata": {},
          "execution_count": 14
        }
      ]
    },
    {
      "cell_type": "code",
      "source": [
        "y_predict = model.predict([17.0])\n",
        "y_predict"
      ],
      "metadata": {
        "id": "QaZnGoSLtZuE",
        "colab": {
          "base_uri": "https://localhost:8080/"
        },
        "outputId": "e4711578-8a67-4819-bd38-cb92acc7f1c8"
      },
      "execution_count": null,
      "outputs": [
        {
          "output_type": "stream",
          "name": "stdout",
          "text": [
            "1/1 [==============================] - 0s 463ms/step\n"
          ]
        },
        {
          "output_type": "execute_result",
          "data": {
            "text/plain": [
              "array([[-5.7892265]], dtype=float32)"
            ]
          },
          "metadata": {},
          "execution_count": 15
        }
      ]
    },
    {
      "cell_type": "code",
      "source": [
        "y_predict + 12"
      ],
      "metadata": {
        "id": "QULgmoectiV1",
        "colab": {
          "base_uri": "https://localhost:8080/"
        },
        "outputId": "b6973081-5a89-44a9-dd58-6e5221e8f6a4"
      },
      "execution_count": null,
      "outputs": [
        {
          "output_type": "execute_result",
          "data": {
            "text/plain": [
              "array([[6.2107735]], dtype=float32)"
            ]
          },
          "metadata": {},
          "execution_count": 16
        }
      ]
    },
    {
      "cell_type": "markdown",
      "source": [
        "## Improving our model\n",
        "\n",
        "we can improve our model by altering the steps we took to create a model.\n",
        "1.**Creating a model** - here we might add more layers, increase the number of hidden units (all called neurons) within each of the hidden layers, change the activation function eachlayer.\n",
        "2. **Compiling a model** - here we might change the optimization function or perhaps the **learning rate**  of the optimization function.\n",
        "3. **Fitting a model** - here we might fit a model for more **epochs** (leave it training fir longer) or on more data (give the models more examples to improve from)"
      ],
      "metadata": {
        "id": "sqxdA7ZWuLd7"
      }
    },
    {
      "cell_type": "code",
      "source": [
        "#  Lets rebuild our model\n",
        "\n",
        "# 1 create the model\n",
        "model = tf.keras.Sequential([\n",
        "    tf.keras.layers.Dense(1)\n",
        "    ])\n",
        "\n",
        "# 2 compile the model\n",
        "\n",
        "model.compile(loss = tf.keras.losses.mae,\n",
        "                optimizer = tf.keras.optimizers.SGD(),\n",
        "              metrics = ['mae'])\n",
        "\n",
        "# 3 Fit the model (\"this time we will trian for a longer time\")\n",
        "model.fit(tf.expand_dims(X, axis=-1), y, epochs=100)"
      ],
      "metadata": {
        "id": "SPvlTuVPubul",
        "colab": {
          "base_uri": "https://localhost:8080/"
        },
        "outputId": "8f5b0eb5-c84d-440d-99f7-cc0f69bde685"
      },
      "execution_count": null,
      "outputs": [
        {
          "output_type": "stream",
          "name": "stdout",
          "text": [
            "Epoch 1/100\n",
            "1/1 [==============================] - 1s 670ms/step - loss: 9.0161 - mae: 9.0161\n",
            "Epoch 2/100\n",
            "1/1 [==============================] - 0s 15ms/step - loss: 8.8836 - mae: 8.8836\n",
            "Epoch 3/100\n",
            "1/1 [==============================] - 0s 16ms/step - loss: 8.7511 - mae: 8.7511\n",
            "Epoch 4/100\n",
            "1/1 [==============================] - 0s 22ms/step - loss: 8.6186 - mae: 8.6186\n",
            "Epoch 5/100\n",
            "1/1 [==============================] - 0s 35ms/step - loss: 8.4861 - mae: 8.4861\n",
            "Epoch 6/100\n",
            "1/1 [==============================] - 0s 30ms/step - loss: 8.3536 - mae: 8.3536\n",
            "Epoch 7/100\n",
            "1/1 [==============================] - 0s 10ms/step - loss: 8.2211 - mae: 8.2211\n",
            "Epoch 8/100\n",
            "1/1 [==============================] - 0s 25ms/step - loss: 8.0886 - mae: 8.0886\n",
            "Epoch 9/100\n",
            "1/1 [==============================] - 0s 20ms/step - loss: 7.9561 - mae: 7.9561\n",
            "Epoch 10/100\n",
            "1/1 [==============================] - 0s 15ms/step - loss: 7.8236 - mae: 7.8236\n",
            "Epoch 11/100\n",
            "1/1 [==============================] - 0s 28ms/step - loss: 7.6911 - mae: 7.6911\n",
            "Epoch 12/100\n",
            "1/1 [==============================] - 0s 28ms/step - loss: 7.5586 - mae: 7.5586\n",
            "Epoch 13/100\n",
            "1/1 [==============================] - 0s 45ms/step - loss: 7.4261 - mae: 7.4261\n",
            "Epoch 14/100\n",
            "1/1 [==============================] - 0s 19ms/step - loss: 7.4025 - mae: 7.4025\n",
            "Epoch 15/100\n",
            "1/1 [==============================] - 0s 64ms/step - loss: 7.3969 - mae: 7.3969\n",
            "Epoch 16/100\n",
            "1/1 [==============================] - 0s 22ms/step - loss: 7.3913 - mae: 7.3913\n",
            "Epoch 17/100\n",
            "1/1 [==============================] - 0s 18ms/step - loss: 7.3856 - mae: 7.3856\n",
            "Epoch 18/100\n",
            "1/1 [==============================] - 0s 33ms/step - loss: 7.3800 - mae: 7.3800\n",
            "Epoch 19/100\n",
            "1/1 [==============================] - 0s 17ms/step - loss: 7.3744 - mae: 7.3744\n",
            "Epoch 20/100\n",
            "1/1 [==============================] - 0s 16ms/step - loss: 7.3687 - mae: 7.3687\n",
            "Epoch 21/100\n",
            "1/1 [==============================] - 0s 12ms/step - loss: 7.3631 - mae: 7.3631\n",
            "Epoch 22/100\n",
            "1/1 [==============================] - 0s 12ms/step - loss: 7.3575 - mae: 7.3575\n",
            "Epoch 23/100\n",
            "1/1 [==============================] - 0s 11ms/step - loss: 7.3519 - mae: 7.3519\n",
            "Epoch 24/100\n",
            "1/1 [==============================] - 0s 13ms/step - loss: 7.3463 - mae: 7.3463\n",
            "Epoch 25/100\n",
            "1/1 [==============================] - 0s 11ms/step - loss: 7.3406 - mae: 7.3406\n",
            "Epoch 26/100\n",
            "1/1 [==============================] - 0s 12ms/step - loss: 7.3350 - mae: 7.3350\n",
            "Epoch 27/100\n",
            "1/1 [==============================] - 0s 12ms/step - loss: 7.3294 - mae: 7.3294\n",
            "Epoch 28/100\n",
            "1/1 [==============================] - 0s 11ms/step - loss: 7.3238 - mae: 7.3238\n",
            "Epoch 29/100\n",
            "1/1 [==============================] - 0s 14ms/step - loss: 7.3181 - mae: 7.3181\n",
            "Epoch 30/100\n",
            "1/1 [==============================] - 0s 13ms/step - loss: 7.3125 - mae: 7.3125\n",
            "Epoch 31/100\n",
            "1/1 [==============================] - 0s 11ms/step - loss: 7.3069 - mae: 7.3069\n",
            "Epoch 32/100\n",
            "1/1 [==============================] - 0s 13ms/step - loss: 7.3013 - mae: 7.3013\n",
            "Epoch 33/100\n",
            "1/1 [==============================] - 0s 14ms/step - loss: 7.2956 - mae: 7.2956\n",
            "Epoch 34/100\n",
            "1/1 [==============================] - 0s 13ms/step - loss: 7.2900 - mae: 7.2900\n",
            "Epoch 35/100\n",
            "1/1 [==============================] - 0s 11ms/step - loss: 7.2844 - mae: 7.2844\n",
            "Epoch 36/100\n",
            "1/1 [==============================] - 0s 11ms/step - loss: 7.2787 - mae: 7.2787\n",
            "Epoch 37/100\n",
            "1/1 [==============================] - 0s 21ms/step - loss: 7.2731 - mae: 7.2731\n",
            "Epoch 38/100\n",
            "1/1 [==============================] - 0s 27ms/step - loss: 7.2675 - mae: 7.2675\n",
            "Epoch 39/100\n",
            "1/1 [==============================] - 0s 22ms/step - loss: 7.2619 - mae: 7.2619\n",
            "Epoch 40/100\n",
            "1/1 [==============================] - 0s 15ms/step - loss: 7.2562 - mae: 7.2562\n",
            "Epoch 41/100\n",
            "1/1 [==============================] - 0s 18ms/step - loss: 7.2506 - mae: 7.2506\n",
            "Epoch 42/100\n",
            "1/1 [==============================] - 0s 24ms/step - loss: 7.2450 - mae: 7.2450\n",
            "Epoch 43/100\n",
            "1/1 [==============================] - 0s 20ms/step - loss: 7.2394 - mae: 7.2394\n",
            "Epoch 44/100\n",
            "1/1 [==============================] - 0s 21ms/step - loss: 7.2338 - mae: 7.2338\n",
            "Epoch 45/100\n",
            "1/1 [==============================] - 0s 11ms/step - loss: 7.2281 - mae: 7.2281\n",
            "Epoch 46/100\n",
            "1/1 [==============================] - 0s 10ms/step - loss: 7.2225 - mae: 7.2225\n",
            "Epoch 47/100\n",
            "1/1 [==============================] - 0s 11ms/step - loss: 7.2169 - mae: 7.2169\n",
            "Epoch 48/100\n",
            "1/1 [==============================] - 0s 14ms/step - loss: 7.2113 - mae: 7.2113\n",
            "Epoch 49/100\n",
            "1/1 [==============================] - 0s 16ms/step - loss: 7.2056 - mae: 7.2056\n",
            "Epoch 50/100\n",
            "1/1 [==============================] - 0s 42ms/step - loss: 7.2000 - mae: 7.2000\n",
            "Epoch 51/100\n",
            "1/1 [==============================] - 0s 23ms/step - loss: 7.1944 - mae: 7.1944\n",
            "Epoch 52/100\n",
            "1/1 [==============================] - 0s 33ms/step - loss: 7.1888 - mae: 7.1888\n",
            "Epoch 53/100\n",
            "1/1 [==============================] - 0s 18ms/step - loss: 7.1831 - mae: 7.1831\n",
            "Epoch 54/100\n",
            "1/1 [==============================] - 0s 11ms/step - loss: 7.1775 - mae: 7.1775\n",
            "Epoch 55/100\n",
            "1/1 [==============================] - 0s 13ms/step - loss: 7.1719 - mae: 7.1719\n",
            "Epoch 56/100\n",
            "1/1 [==============================] - 0s 20ms/step - loss: 7.1663 - mae: 7.1663\n",
            "Epoch 57/100\n",
            "1/1 [==============================] - 0s 25ms/step - loss: 7.1606 - mae: 7.1606\n",
            "Epoch 58/100\n",
            "1/1 [==============================] - 0s 12ms/step - loss: 7.1550 - mae: 7.1550\n",
            "Epoch 59/100\n",
            "1/1 [==============================] - 0s 19ms/step - loss: 7.1494 - mae: 7.1494\n",
            "Epoch 60/100\n",
            "1/1 [==============================] - 0s 27ms/step - loss: 7.1438 - mae: 7.1438\n",
            "Epoch 61/100\n",
            "1/1 [==============================] - 0s 19ms/step - loss: 7.1381 - mae: 7.1381\n",
            "Epoch 62/100\n",
            "1/1 [==============================] - 0s 20ms/step - loss: 7.1325 - mae: 7.1325\n",
            "Epoch 63/100\n",
            "1/1 [==============================] - 0s 17ms/step - loss: 7.1269 - mae: 7.1269\n",
            "Epoch 64/100\n",
            "1/1 [==============================] - 0s 17ms/step - loss: 7.1213 - mae: 7.1213\n",
            "Epoch 65/100\n",
            "1/1 [==============================] - 0s 20ms/step - loss: 7.1156 - mae: 7.1156\n",
            "Epoch 66/100\n",
            "1/1 [==============================] - 0s 15ms/step - loss: 7.1100 - mae: 7.1100\n",
            "Epoch 67/100\n",
            "1/1 [==============================] - 0s 29ms/step - loss: 7.1044 - mae: 7.1044\n",
            "Epoch 68/100\n",
            "1/1 [==============================] - 0s 16ms/step - loss: 7.0988 - mae: 7.0988\n",
            "Epoch 69/100\n",
            "1/1 [==============================] - 0s 15ms/step - loss: 7.0931 - mae: 7.0931\n",
            "Epoch 70/100\n",
            "1/1 [==============================] - 0s 13ms/step - loss: 7.0875 - mae: 7.0875\n",
            "Epoch 71/100\n",
            "1/1 [==============================] - 0s 16ms/step - loss: 7.0819 - mae: 7.0819\n",
            "Epoch 72/100\n",
            "1/1 [==============================] - 0s 14ms/step - loss: 7.0763 - mae: 7.0763\n",
            "Epoch 73/100\n",
            "1/1 [==============================] - 0s 16ms/step - loss: 7.0706 - mae: 7.0706\n",
            "Epoch 74/100\n",
            "1/1 [==============================] - 0s 14ms/step - loss: 7.0650 - mae: 7.0650\n",
            "Epoch 75/100\n",
            "1/1 [==============================] - 0s 15ms/step - loss: 7.0594 - mae: 7.0594\n",
            "Epoch 76/100\n",
            "1/1 [==============================] - 0s 9ms/step - loss: 7.0538 - mae: 7.0538\n",
            "Epoch 77/100\n",
            "1/1 [==============================] - 0s 13ms/step - loss: 7.0481 - mae: 7.0481\n",
            "Epoch 78/100\n",
            "1/1 [==============================] - 0s 14ms/step - loss: 7.0425 - mae: 7.0425\n",
            "Epoch 79/100\n",
            "1/1 [==============================] - 0s 15ms/step - loss: 7.0369 - mae: 7.0369\n",
            "Epoch 80/100\n",
            "1/1 [==============================] - 0s 16ms/step - loss: 7.0313 - mae: 7.0313\n",
            "Epoch 81/100\n",
            "1/1 [==============================] - 0s 15ms/step - loss: 7.0256 - mae: 7.0256\n",
            "Epoch 82/100\n",
            "1/1 [==============================] - 0s 10ms/step - loss: 7.0200 - mae: 7.0200\n",
            "Epoch 83/100\n",
            "1/1 [==============================] - 0s 25ms/step - loss: 7.0144 - mae: 7.0144\n",
            "Epoch 84/100\n",
            "1/1 [==============================] - 0s 14ms/step - loss: 7.0088 - mae: 7.0088\n",
            "Epoch 85/100\n",
            "1/1 [==============================] - 0s 23ms/step - loss: 7.0031 - mae: 7.0031\n",
            "Epoch 86/100\n",
            "1/1 [==============================] - 0s 22ms/step - loss: 6.9975 - mae: 6.9975\n",
            "Epoch 87/100\n",
            "1/1 [==============================] - 0s 13ms/step - loss: 6.9919 - mae: 6.9919\n",
            "Epoch 88/100\n",
            "1/1 [==============================] - 0s 11ms/step - loss: 6.9863 - mae: 6.9863\n",
            "Epoch 89/100\n",
            "1/1 [==============================] - 0s 30ms/step - loss: 6.9806 - mae: 6.9806\n",
            "Epoch 90/100\n",
            "1/1 [==============================] - 0s 15ms/step - loss: 6.9750 - mae: 6.9750\n",
            "Epoch 91/100\n",
            "1/1 [==============================] - 0s 16ms/step - loss: 6.9694 - mae: 6.9694\n",
            "Epoch 92/100\n",
            "1/1 [==============================] - 0s 21ms/step - loss: 6.9638 - mae: 6.9638\n",
            "Epoch 93/100\n",
            "1/1 [==============================] - 0s 22ms/step - loss: 6.9581 - mae: 6.9581\n",
            "Epoch 94/100\n",
            "1/1 [==============================] - 0s 11ms/step - loss: 6.9525 - mae: 6.9525\n",
            "Epoch 95/100\n",
            "1/1 [==============================] - 0s 25ms/step - loss: 6.9469 - mae: 6.9469\n",
            "Epoch 96/100\n",
            "1/1 [==============================] - 0s 19ms/step - loss: 6.9413 - mae: 6.9413\n",
            "Epoch 97/100\n",
            "1/1 [==============================] - 0s 15ms/step - loss: 6.9356 - mae: 6.9356\n",
            "Epoch 98/100\n",
            "1/1 [==============================] - 0s 12ms/step - loss: 6.9300 - mae: 6.9300\n",
            "Epoch 99/100\n",
            "1/1 [==============================] - 0s 15ms/step - loss: 6.9244 - mae: 6.9244\n",
            "Epoch 100/100\n",
            "1/1 [==============================] - 0s 13ms/step - loss: 6.9188 - mae: 6.9188\n"
          ]
        },
        {
          "output_type": "execute_result",
          "data": {
            "text/plain": [
              "<keras.callbacks.History at 0x7f8de9b1f070>"
            ]
          },
          "metadata": {},
          "execution_count": 17
        }
      ]
    },
    {
      "cell_type": "code",
      "source": [
        "X,y"
      ],
      "metadata": {
        "id": "M7T0YYDiz9w8",
        "colab": {
          "base_uri": "https://localhost:8080/"
        },
        "outputId": "a575fce1-9674-45c7-c06b-98f2541a6ad1"
      },
      "execution_count": null,
      "outputs": [
        {
          "output_type": "execute_result",
          "data": {
            "text/plain": [
              "(<tf.Tensor: shape=(8,), dtype=float32, numpy=array([-7., -4., -1.,  2.,  5.,  8., 11., 14.], dtype=float32)>,\n",
              " <tf.Tensor: shape=(8,), dtype=float32, numpy=array([ 3.,  6.,  9., 12., 15., 18., 21., 24.], dtype=float32)>)"
            ]
          },
          "metadata": {},
          "execution_count": 18
        }
      ]
    },
    {
      "cell_type": "code",
      "source": [
        "model.predict([17.0])"
      ],
      "metadata": {
        "id": "NnbhzUvvz2nC",
        "colab": {
          "base_uri": "https://localhost:8080/"
        },
        "outputId": "8d6f4ca1-66d9-486e-ce3e-363f9092aff0"
      },
      "execution_count": null,
      "outputs": [
        {
          "output_type": "stream",
          "name": "stdout",
          "text": [
            "1/1 [==============================] - 0s 237ms/step\n"
          ]
        },
        {
          "output_type": "execute_result",
          "data": {
            "text/plain": [
              "array([[30.2965]], dtype=float32)"
            ]
          },
          "metadata": {},
          "execution_count": 19
        }
      ]
    },
    {
      "cell_type": "code",
      "source": [
        "#  Lets rebuild our model\n",
        "\n",
        "# 1 create the model\n",
        "model = tf.keras.Sequential([\n",
        "    tf.keras.layers.Dense(50, activation ='relu'),\n",
        "    tf.keras.layers.Dense(50, activation ='relu'),\n",
        "    tf.keras.layers.Dense(50, activation ='relu'),\n",
        "\n",
        "\n",
        "\n",
        "    tf.keras.layers.Dense(1)\n",
        "    ])\n",
        "\n",
        "# 2 compile the model\n",
        "\n",
        "model.compile(loss = tf.keras.losses.mae,\n",
        "                optimizer = tf.keras.optimizers.Adam(lr =0.001),\n",
        "              metrics = ['mae'])\n",
        "\n",
        "# 3 Fit the model (\"this time we will trian for a longer time\")\n",
        "model.fit(tf.expand_dims(X, axis=-1), y, epochs=100)"
      ],
      "metadata": {
        "id": "t262yQHBz7QQ",
        "colab": {
          "base_uri": "https://localhost:8080/"
        },
        "outputId": "d6854f4d-73ba-4c08-d305-da302eaeb9b5"
      },
      "execution_count": null,
      "outputs": [
        {
          "output_type": "stream",
          "name": "stderr",
          "text": [
            "WARNING:absl:`lr` is deprecated in Keras optimizer, please use `learning_rate` or use the legacy optimizer, e.g.,tf.keras.optimizers.legacy.Adam.\n"
          ]
        },
        {
          "output_type": "stream",
          "name": "stdout",
          "text": [
            "Epoch 1/100\n",
            "1/1 [==============================] - 3s 3s/step - loss: 12.8599 - mae: 12.8599\n",
            "Epoch 2/100\n",
            "1/1 [==============================] - 0s 16ms/step - loss: 12.6877 - mae: 12.6877\n",
            "Epoch 3/100\n",
            "1/1 [==============================] - 0s 16ms/step - loss: 12.5292 - mae: 12.5292\n",
            "Epoch 4/100\n",
            "1/1 [==============================] - 0s 16ms/step - loss: 12.3725 - mae: 12.3725\n",
            "Epoch 5/100\n",
            "1/1 [==============================] - 0s 17ms/step - loss: 12.2160 - mae: 12.2160\n",
            "Epoch 6/100\n",
            "1/1 [==============================] - 0s 15ms/step - loss: 12.0593 - mae: 12.0593\n",
            "Epoch 7/100\n",
            "1/1 [==============================] - 0s 12ms/step - loss: 11.9012 - mae: 11.9012\n",
            "Epoch 8/100\n",
            "1/1 [==============================] - 0s 29ms/step - loss: 11.7402 - mae: 11.7402\n",
            "Epoch 9/100\n",
            "1/1 [==============================] - 0s 23ms/step - loss: 11.5768 - mae: 11.5768\n",
            "Epoch 10/100\n",
            "1/1 [==============================] - 0s 23ms/step - loss: 11.4112 - mae: 11.4112\n",
            "Epoch 11/100\n",
            "1/1 [==============================] - 0s 15ms/step - loss: 11.2484 - mae: 11.2484\n",
            "Epoch 12/100\n",
            "1/1 [==============================] - 0s 19ms/step - loss: 11.0865 - mae: 11.0865\n",
            "Epoch 13/100\n",
            "1/1 [==============================] - 0s 25ms/step - loss: 10.9209 - mae: 10.9209\n",
            "Epoch 14/100\n",
            "1/1 [==============================] - 0s 23ms/step - loss: 10.7991 - mae: 10.7991\n",
            "Epoch 15/100\n",
            "1/1 [==============================] - 0s 11ms/step - loss: 10.6735 - mae: 10.6735\n",
            "Epoch 16/100\n",
            "1/1 [==============================] - 0s 26ms/step - loss: 10.5436 - mae: 10.5436\n",
            "Epoch 17/100\n",
            "1/1 [==============================] - 0s 21ms/step - loss: 10.4124 - mae: 10.4124\n",
            "Epoch 18/100\n",
            "1/1 [==============================] - 0s 13ms/step - loss: 10.2815 - mae: 10.2815\n",
            "Epoch 19/100\n",
            "1/1 [==============================] - 0s 37ms/step - loss: 10.1465 - mae: 10.1465\n",
            "Epoch 20/100\n",
            "1/1 [==============================] - 0s 23ms/step - loss: 10.0058 - mae: 10.0058\n",
            "Epoch 21/100\n",
            "1/1 [==============================] - 0s 19ms/step - loss: 9.8588 - mae: 9.8588\n",
            "Epoch 22/100\n",
            "1/1 [==============================] - 0s 15ms/step - loss: 9.7060 - mae: 9.7060\n",
            "Epoch 23/100\n",
            "1/1 [==============================] - 0s 21ms/step - loss: 9.5473 - mae: 9.5473\n",
            "Epoch 24/100\n",
            "1/1 [==============================] - 0s 19ms/step - loss: 9.3825 - mae: 9.3825\n",
            "Epoch 25/100\n",
            "1/1 [==============================] - 0s 15ms/step - loss: 9.2121 - mae: 9.2121\n",
            "Epoch 26/100\n",
            "1/1 [==============================] - 0s 16ms/step - loss: 9.0355 - mae: 9.0355\n",
            "Epoch 27/100\n",
            "1/1 [==============================] - 0s 16ms/step - loss: 8.8538 - mae: 8.8538\n",
            "Epoch 28/100\n",
            "1/1 [==============================] - 0s 15ms/step - loss: 8.6705 - mae: 8.6705\n",
            "Epoch 29/100\n",
            "1/1 [==============================] - 0s 16ms/step - loss: 8.4800 - mae: 8.4800\n",
            "Epoch 30/100\n",
            "1/1 [==============================] - 0s 17ms/step - loss: 8.2821 - mae: 8.2821\n",
            "Epoch 31/100\n",
            "1/1 [==============================] - 0s 23ms/step - loss: 8.0765 - mae: 8.0765\n",
            "Epoch 32/100\n",
            "1/1 [==============================] - 0s 19ms/step - loss: 7.8627 - mae: 7.8627\n",
            "Epoch 33/100\n",
            "1/1 [==============================] - 0s 23ms/step - loss: 7.6406 - mae: 7.6406\n",
            "Epoch 34/100\n",
            "1/1 [==============================] - 0s 20ms/step - loss: 7.4096 - mae: 7.4096\n",
            "Epoch 35/100\n",
            "1/1 [==============================] - 0s 16ms/step - loss: 7.1696 - mae: 7.1696\n",
            "Epoch 36/100\n",
            "1/1 [==============================] - 0s 16ms/step - loss: 6.9200 - mae: 6.9200\n",
            "Epoch 37/100\n",
            "1/1 [==============================] - 0s 15ms/step - loss: 6.6604 - mae: 6.6604\n",
            "Epoch 38/100\n",
            "1/1 [==============================] - 0s 15ms/step - loss: 6.3903 - mae: 6.3903\n",
            "Epoch 39/100\n",
            "1/1 [==============================] - 0s 18ms/step - loss: 6.1095 - mae: 6.1095\n",
            "Epoch 40/100\n",
            "1/1 [==============================] - 0s 12ms/step - loss: 5.8176 - mae: 5.8176\n",
            "Epoch 41/100\n",
            "1/1 [==============================] - 0s 18ms/step - loss: 5.5138 - mae: 5.5138\n",
            "Epoch 42/100\n",
            "1/1 [==============================] - 0s 18ms/step - loss: 5.1974 - mae: 5.1974\n",
            "Epoch 43/100\n",
            "1/1 [==============================] - 0s 21ms/step - loss: 4.8679 - mae: 4.8679\n",
            "Epoch 44/100\n",
            "1/1 [==============================] - 0s 17ms/step - loss: 4.5249 - mae: 4.5249\n",
            "Epoch 45/100\n",
            "1/1 [==============================] - 0s 15ms/step - loss: 4.1675 - mae: 4.1675\n",
            "Epoch 46/100\n",
            "1/1 [==============================] - 0s 15ms/step - loss: 4.0148 - mae: 4.0148\n",
            "Epoch 47/100\n",
            "1/1 [==============================] - 0s 17ms/step - loss: 3.8973 - mae: 3.8973\n",
            "Epoch 48/100\n",
            "1/1 [==============================] - 0s 18ms/step - loss: 3.8403 - mae: 3.8403\n",
            "Epoch 49/100\n",
            "1/1 [==============================] - 0s 27ms/step - loss: 3.9073 - mae: 3.9073\n",
            "Epoch 50/100\n",
            "1/1 [==============================] - 0s 17ms/step - loss: 3.9655 - mae: 3.9655\n",
            "Epoch 51/100\n",
            "1/1 [==============================] - 0s 15ms/step - loss: 4.0152 - mae: 4.0152\n",
            "Epoch 52/100\n",
            "1/1 [==============================] - 0s 19ms/step - loss: 4.0566 - mae: 4.0566\n",
            "Epoch 53/100\n",
            "1/1 [==============================] - 0s 19ms/step - loss: 4.0887 - mae: 4.0887\n",
            "Epoch 54/100\n",
            "1/1 [==============================] - 0s 18ms/step - loss: 4.1154 - mae: 4.1154\n",
            "Epoch 55/100\n",
            "1/1 [==============================] - 0s 31ms/step - loss: 4.1366 - mae: 4.1366\n",
            "Epoch 56/100\n",
            "1/1 [==============================] - 0s 21ms/step - loss: 4.1658 - mae: 4.1658\n",
            "Epoch 57/100\n",
            "1/1 [==============================] - 0s 24ms/step - loss: 4.1619 - mae: 4.1619\n",
            "Epoch 58/100\n",
            "1/1 [==============================] - 0s 20ms/step - loss: 4.1290 - mae: 4.1290\n",
            "Epoch 59/100\n",
            "1/1 [==============================] - 0s 21ms/step - loss: 4.0945 - mae: 4.0945\n",
            "Epoch 60/100\n",
            "1/1 [==============================] - 0s 29ms/step - loss: 4.0669 - mae: 4.0669\n",
            "Epoch 61/100\n",
            "1/1 [==============================] - 0s 37ms/step - loss: 4.0367 - mae: 4.0367\n",
            "Epoch 62/100\n",
            "1/1 [==============================] - 0s 33ms/step - loss: 4.0068 - mae: 4.0068\n",
            "Epoch 63/100\n",
            "1/1 [==============================] - 0s 25ms/step - loss: 3.9757 - mae: 3.9757\n",
            "Epoch 64/100\n",
            "1/1 [==============================] - 0s 20ms/step - loss: 3.9434 - mae: 3.9434\n",
            "Epoch 65/100\n",
            "1/1 [==============================] - 0s 23ms/step - loss: 3.9100 - mae: 3.9100\n",
            "Epoch 66/100\n",
            "1/1 [==============================] - 0s 23ms/step - loss: 3.8754 - mae: 3.8754\n",
            "Epoch 67/100\n",
            "1/1 [==============================] - 0s 21ms/step - loss: 3.8400 - mae: 3.8400\n",
            "Epoch 68/100\n",
            "1/1 [==============================] - 0s 21ms/step - loss: 3.8075 - mae: 3.8075\n",
            "Epoch 69/100\n",
            "1/1 [==============================] - 0s 24ms/step - loss: 3.7739 - mae: 3.7739\n",
            "Epoch 70/100\n",
            "1/1 [==============================] - 0s 29ms/step - loss: 3.7388 - mae: 3.7388\n",
            "Epoch 71/100\n",
            "1/1 [==============================] - 0s 32ms/step - loss: 3.7033 - mae: 3.7033\n",
            "Epoch 72/100\n",
            "1/1 [==============================] - 0s 26ms/step - loss: 3.6826 - mae: 3.6826\n",
            "Epoch 73/100\n",
            "1/1 [==============================] - 0s 22ms/step - loss: 3.7116 - mae: 3.7116\n",
            "Epoch 74/100\n",
            "1/1 [==============================] - 0s 35ms/step - loss: 3.7273 - mae: 3.7273\n",
            "Epoch 75/100\n",
            "1/1 [==============================] - 0s 30ms/step - loss: 3.7441 - mae: 3.7441\n",
            "Epoch 76/100\n",
            "1/1 [==============================] - 0s 27ms/step - loss: 3.7524 - mae: 3.7524\n",
            "Epoch 77/100\n",
            "1/1 [==============================] - 0s 25ms/step - loss: 3.7532 - mae: 3.7532\n",
            "Epoch 78/100\n",
            "1/1 [==============================] - 0s 21ms/step - loss: 3.7471 - mae: 3.7471\n",
            "Epoch 79/100\n",
            "1/1 [==============================] - 0s 20ms/step - loss: 3.7345 - mae: 3.7345\n",
            "Epoch 80/100\n",
            "1/1 [==============================] - 0s 21ms/step - loss: 3.7161 - mae: 3.7161\n",
            "Epoch 81/100\n",
            "1/1 [==============================] - 0s 22ms/step - loss: 3.6920 - mae: 3.6920\n",
            "Epoch 82/100\n",
            "1/1 [==============================] - 0s 23ms/step - loss: 3.6630 - mae: 3.6630\n",
            "Epoch 83/100\n",
            "1/1 [==============================] - 0s 32ms/step - loss: 3.6296 - mae: 3.6296\n",
            "Epoch 84/100\n",
            "1/1 [==============================] - 0s 20ms/step - loss: 3.6394 - mae: 3.6394\n",
            "Epoch 85/100\n",
            "1/1 [==============================] - 0s 18ms/step - loss: 3.6504 - mae: 3.6504\n",
            "Epoch 86/100\n",
            "1/1 [==============================] - 0s 14ms/step - loss: 3.6555 - mae: 3.6555\n",
            "Epoch 87/100\n",
            "1/1 [==============================] - 0s 16ms/step - loss: 3.6557 - mae: 3.6557\n",
            "Epoch 88/100\n",
            "1/1 [==============================] - 0s 30ms/step - loss: 3.6512 - mae: 3.6512\n",
            "Epoch 89/100\n",
            "1/1 [==============================] - 0s 19ms/step - loss: 3.6434 - mae: 3.6434\n",
            "Epoch 90/100\n",
            "1/1 [==============================] - 0s 50ms/step - loss: 3.6319 - mae: 3.6319\n",
            "Epoch 91/100\n",
            "1/1 [==============================] - 0s 40ms/step - loss: 3.6327 - mae: 3.6327\n",
            "Epoch 92/100\n",
            "1/1 [==============================] - 0s 35ms/step - loss: 3.6136 - mae: 3.6136\n",
            "Epoch 93/100\n",
            "1/1 [==============================] - 0s 23ms/step - loss: 3.5877 - mae: 3.5877\n",
            "Epoch 94/100\n",
            "1/1 [==============================] - 0s 24ms/step - loss: 3.5701 - mae: 3.5701\n",
            "Epoch 95/100\n",
            "1/1 [==============================] - 0s 44ms/step - loss: 3.5780 - mae: 3.5780\n",
            "Epoch 96/100\n",
            "1/1 [==============================] - 0s 22ms/step - loss: 3.5881 - mae: 3.5881\n",
            "Epoch 97/100\n",
            "1/1 [==============================] - 0s 43ms/step - loss: 3.5888 - mae: 3.5888\n",
            "Epoch 98/100\n",
            "1/1 [==============================] - 0s 18ms/step - loss: 3.5810 - mae: 3.5810\n",
            "Epoch 99/100\n",
            "1/1 [==============================] - 0s 20ms/step - loss: 3.5634 - mae: 3.5634\n",
            "Epoch 100/100\n",
            "1/1 [==============================] - 0s 18ms/step - loss: 3.5373 - mae: 3.5373\n"
          ]
        },
        {
          "output_type": "execute_result",
          "data": {
            "text/plain": [
              "<keras.callbacks.History at 0x7f8de9a10400>"
            ]
          },
          "metadata": {},
          "execution_count": 20
        }
      ]
    },
    {
      "cell_type": "code",
      "source": [
        "model.predict([17.0])"
      ],
      "metadata": {
        "id": "a64Q-5F00SHl",
        "colab": {
          "base_uri": "https://localhost:8080/"
        },
        "outputId": "1743874a-090f-4d8f-d56d-6baf6f81f0dd"
      },
      "execution_count": null,
      "outputs": [
        {
          "output_type": "stream",
          "name": "stdout",
          "text": [
            "1/1 [==============================] - 0s 283ms/step\n"
          ]
        },
        {
          "output_type": "execute_result",
          "data": {
            "text/plain": [
              "array([[31.966347]], dtype=float32)"
            ]
          },
          "metadata": {},
          "execution_count": 21
        }
      ]
    },
    {
      "cell_type": "code",
      "source": [
        "#  model is overfitting"
      ],
      "metadata": {
        "id": "YdGnRtvw0YGV"
      },
      "execution_count": null,
      "outputs": []
    },
    {
      "cell_type": "markdown",
      "source": [
        "\n",
        "**Common ways to improve a deep model**:\n",
        "\n",
        "1 Adding layers\n",
        "\n",
        "2 Increase the number of hidden layers\n",
        "\n",
        "3 Change the  activation function\n",
        "\n",
        "4 Change the optimization function\n",
        "\n",
        "5 Change the learning rate (lr) ( ehich is also trhe most uimp hyper parametr)\n",
        "\n",
        "6 Fitting for longer\n"
      ],
      "metadata": {
        "id": "bdXw5hfPG408"
      }
    },
    {
      "cell_type": "markdown",
      "source": [
        "## Evaluatong a model\n",
        "in practice a typical workflow you will go through while building a neural network is :\n",
        "\n",
        "\n",
        "\n",
        "---\n",
        "\n",
        "\n",
        "Build a model\n",
        "\n",
        "Fit it\n",
        "\n",
        "Evaluate it\n",
        "\n",
        "Tweak a model\n",
        "\n",
        "Fit it\n",
        "\n",
        "evaluate it\n",
        "\n",
        "Tweak a model\n",
        "\n",
        "Fit it\n",
        "\n",
        "evaluate it"
      ],
      "metadata": {
        "id": "A8fFWuYsH4kE"
      }
    },
    {
      "cell_type": "code",
      "source": [],
      "metadata": {
        "id": "3ggEG8bBLK3O"
      },
      "execution_count": null,
      "outputs": []
    },
    {
      "cell_type": "markdown",
      "source": [
        "\\ When it comes to evaluation\n",
        "\n",
        " **visualize , visualize, visualize**\n",
        "\n",
        " THe data - what are we working with?    what does it look like\n",
        "\n",
        " The model - Whta does our model look likle?\n",
        "\n",
        " The training - How does a model perform when it learns\n",
        "\n",
        " The prediction - How do the models prediction line up agianst the plain truthm\n",
        "\n",
        "\n",
        "\n"
      ],
      "metadata": {
        "id": "1Xk8ftSEK9QC"
      }
    },
    {
      "cell_type": "code",
      "source": [],
      "metadata": {
        "id": "y0P46haLLHud"
      },
      "execution_count": null,
      "outputs": []
    },
    {
      "cell_type": "code",
      "source": [],
      "metadata": {
        "id": "PkG4HH6ZMBAq"
      },
      "execution_count": null,
      "outputs": []
    },
    {
      "cell_type": "code",
      "source": [
        "X = tf.range (-100,100,4)\n",
        "X"
      ],
      "metadata": {
        "id": "2QLvcV_OMBJg",
        "colab": {
          "base_uri": "https://localhost:8080/"
        },
        "outputId": "2a3c8eb3-8ba8-481f-95a7-993f948eec5c"
      },
      "execution_count": null,
      "outputs": [
        {
          "output_type": "execute_result",
          "data": {
            "text/plain": [
              "<tf.Tensor: shape=(50,), dtype=int32, numpy=\n",
              "array([-100,  -96,  -92,  -88,  -84,  -80,  -76,  -72,  -68,  -64,  -60,\n",
              "        -56,  -52,  -48,  -44,  -40,  -36,  -32,  -28,  -24,  -20,  -16,\n",
              "        -12,   -8,   -4,    0,    4,    8,   12,   16,   20,   24,   28,\n",
              "         32,   36,   40,   44,   48,   52,   56,   60,   64,   68,   72,\n",
              "         76,   80,   84,   88,   92,   96], dtype=int32)>"
            ]
          },
          "metadata": {},
          "execution_count": 23
        }
      ]
    },
    {
      "cell_type": "code",
      "source": [
        "y = X+10\n",
        "y"
      ],
      "metadata": {
        "id": "azJ4g1lFMMSX",
        "colab": {
          "base_uri": "https://localhost:8080/"
        },
        "outputId": "967ffebc-4fd6-4141-8edd-a31ea961f7f5"
      },
      "execution_count": null,
      "outputs": [
        {
          "output_type": "execute_result",
          "data": {
            "text/plain": [
              "<tf.Tensor: shape=(50,), dtype=int32, numpy=\n",
              "array([-90, -86, -82, -78, -74, -70, -66, -62, -58, -54, -50, -46, -42,\n",
              "       -38, -34, -30, -26, -22, -18, -14, -10,  -6,  -2,   2,   6,  10,\n",
              "        14,  18,  22,  26,  30,  34,  38,  42,  46,  50,  54,  58,  62,\n",
              "        66,  70,  74,  78,  82,  86,  90,  94,  98, 102, 106], dtype=int32)>"
            ]
          },
          "metadata": {},
          "execution_count": 24
        }
      ]
    },
    {
      "cell_type": "code",
      "source": [
        "import matplotlib.pyplot as plt\n",
        "%matplotlib inline\n",
        "plt.scatter(X,y)"
      ],
      "metadata": {
        "id": "4JJ12FhWNezC",
        "colab": {
          "base_uri": "https://localhost:8080/",
          "height": 448
        },
        "outputId": "8debfe85-e0d0-4ede-c50a-c36336c783f2"
      },
      "execution_count": null,
      "outputs": [
        {
          "output_type": "execute_result",
          "data": {
            "text/plain": [
              "<matplotlib.collections.PathCollection at 0x7f8de99bd3f0>"
            ]
          },
          "metadata": {},
          "execution_count": 25
        },
        {
          "output_type": "display_data",
          "data": {
            "text/plain": [
              "<Figure size 640x480 with 1 Axes>"
            ],
            "image/png": "[encoded data removed]"
          },
          "metadata": {}
        }
      ]
    },
    {
      "cell_type": "code",
      "source": [],
      "metadata": {
        "id": "3kqTZgUMODmJ"
      },
      "execution_count": null,
      "outputs": []
    },
    {
      "cell_type": "markdown",
      "source": [
        "Split data into training/test set\n",
        "One of the other most common and important steps in a machine learning project is creating a training and test set (and when required, a validation set).\n",
        "\n",
        "Each set serves a specific purpose:\n",
        "\n",
        "Training set - the model learns from this data, which is typically 70-80% of the total data available (like the course materials you study during the semester).\n",
        "Validation set - the model gets tuned on this data, which is typically 10-15% of the total data available (like the practice exam you take before the final exam).\n",
        "Test set - the model gets evaluated on this data to test what it has learned, it's typically 10-15% of the total data available (like the final exam you take at the end of the semester).\n",
        "For now, we'll just use a training and test set, this means we'll have a dataset for our model to learn on as well as be evaluated on.\n",
        "\n",
        "We can create them by splitting our X and y arrays.\n",
        "\n",
        "🔑 Note: When dealing with real-world data, this step is typically done right at the start of a project (the test set should always be kept separate from all other data). We want our model to learn on training data and then evaluate it on test data to get an indication of how well it generalizes to unseen examples."
      ],
      "metadata": {
        "id": "k938u8CRNrsr"
      }
    },
    {
      "cell_type": "code",
      "source": [
        "len(X)"
      ],
      "metadata": {
        "id": "TDxM4MOePoUs",
        "colab": {
          "base_uri": "https://localhost:8080/"
        },
        "outputId": "34a466d2-a1c8-40ea-b163-9ba9e19ccc57"
      },
      "execution_count": null,
      "outputs": [
        {
          "output_type": "execute_result",
          "data": {
            "text/plain": [
              "50"
            ]
          },
          "metadata": {},
          "execution_count": 26
        }
      ]
    },
    {
      "cell_type": "code",
      "source": [
        "#  split the dsata intro train test and val\n",
        "\n",
        "X_train = X[:40] # first 40\n",
        "y_train = y[:40] # last 40\n",
        "\n",
        "X_test = X[40:]\n",
        "y_test = y[40:]\n"
      ],
      "metadata": {
        "id": "1Zh2L0IPPpUq"
      },
      "execution_count": null,
      "outputs": []
    },
    {
      "cell_type": "markdown",
      "source": [
        "Visualizing"
      ],
      "metadata": {
        "id": "l4VVeL0_RZ0b"
      }
    },
    {
      "cell_type": "code",
      "source": [
        "plt.figure(figsize = (10,7))\n",
        "\n",
        "#  plot train data\n",
        "plt.scatter(X_train ,y_train , color ='blue', label = \"Training data\" )\n",
        "\n",
        "#  plot test data\n",
        "plt.scatter(X_test ,y_test , color ='green', label = \"Testing data\" )\n",
        "\n",
        "\n",
        "plt.show()"
      ],
      "metadata": {
        "id": "7Fu4oPliReUb",
        "colab": {
          "base_uri": "https://localhost:8080/",
          "height": 599
        },
        "outputId": "3f4a51c8-01c3-459f-a16b-8ea23c20fb41"
      },
      "execution_count": null,
      "outputs": [
        {
          "output_type": "display_data",
          "data": {
            "text/plain": [
              "<Figure size 1000x700 with 1 Axes>"
            ],
            "image/png": "[encoded data removed]"
          },
          "metadata": {}
        }
      ]
    },
    {
      "cell_type": "code",
      "source": [
        "#  LEts have a look at how to buld a neural network for our data\n"
      ],
      "metadata": {
        "id": "eODGI8dJRmwm"
      },
      "execution_count": null,
      "outputs": []
    },
    {
      "cell_type": "code",
      "source": [
        "# Create a model\n",
        "model = tf.keras.Sequential([\n",
        "    tf.keras.layers.Dense(1)\n",
        "])\n",
        "\n",
        "# COmpile the model\n",
        "\n",
        "model.compile(\n",
        "    loss = tf.keras.losses.mae,\n",
        "    optimizer = tf.keras.optimizers.SGD(),\n",
        "    metrics = ['mae']\n",
        ")\n",
        "\n",
        "# fitting the model\n",
        "#model.fit(tf.expand_dims(X_train, axis = -1), y_train, epochs =100)\n"
      ],
      "metadata": {
        "id": "xRwtkjyIUR9D"
      },
      "execution_count": null,
      "outputs": []
    },
    {
      "cell_type": "markdown",
      "source": [
        "Visualizing our model"
      ],
      "metadata": {
        "id": "jGfw59PtXJFk"
      }
    },
    {
      "cell_type": "code",
      "source": [
        "model.summary()"
      ],
      "metadata": {
        "id": "1n7_U_YRXW0j",
        "colab": {
          "base_uri": "https://localhost:8080/",
          "height": 293
        },
        "outputId": "8540c412-e295-4ea3-d048-c94b65e50880"
      },
      "execution_count": null,
      "outputs": [
        {
          "output_type": "error",
          "ename": "ValueError",
          "evalue": "ignored",
          "traceback": [
            "\u001b[0;31m---------------------------------------------------------------------------\u001b[0m",
            "\u001b[0;31mValueError\u001b[0m                                Traceback (most recent call last)",
            "\u001b[0;32m<ipython-input-33-5f15418b3570>\u001b[0m in \u001b[0;36m<cell line: 1>\u001b[0;34m()\u001b[0m\n\u001b[0;32m----> 1\u001b[0;31m \u001b[0mmodel\u001b[0m\u001b[0;34m.\u001b[0m\u001b[0msummary\u001b[0m\u001b[0;34m(\u001b[0m\u001b[0;34m)\u001b[0m\u001b[0;34m\u001b[0m\u001b[0;34m\u001b[0m\u001b[0m\n\u001b[0m",
            "\u001b[0;32m/usr/local/lib/python3.10/dist-packages/keras/engine/training.py\u001b[0m in \u001b[0;36msummary\u001b[0;34m(self, line_length, positions, print_fn, expand_nested, show_trainable, layer_range)\u001b[0m\n\u001b[1;32m   3227\u001b[0m         \"\"\"\n\u001b[1;32m   3228\u001b[0m         \u001b[0;32mif\u001b[0m \u001b[0;32mnot\u001b[0m \u001b[0mself\u001b[0m\u001b[0;34m.\u001b[0m\u001b[0mbuilt\u001b[0m\u001b[0;34m:\u001b[0m\u001b[0;34m\u001b[0m\u001b[0;34m\u001b[0m\u001b[0m\n\u001b[0;32m-> 3229\u001b[0;31m             raise ValueError(\n\u001b[0m\u001b[1;32m   3230\u001b[0m                 \u001b[0;34m\"This model has not yet been built. \"\u001b[0m\u001b[0;34m\u001b[0m\u001b[0;34m\u001b[0m\u001b[0m\n\u001b[1;32m   3231\u001b[0m                 \u001b[0;34m\"Build the model first by calling `build()` or by calling \"\u001b[0m\u001b[0;34m\u001b[0m\u001b[0;34m\u001b[0m\u001b[0m\n",
            "\u001b[0;31mValueError\u001b[0m: This model has not yet been built. Build the model first by calling `build()` or by calling the model on a batch of data."
          ]
        }
      ]
    },
    {
      "cell_type": "code",
      "source": [
        "model.build()"
      ],
      "metadata": {
        "id": "3F8iD8vOXYVh",
        "colab": {
          "base_uri": "https://localhost:8080/",
          "height": 293
        },
        "outputId": "c2ae8ad8-7381-448a-b24e-a61b0b3428e4"
      },
      "execution_count": null,
      "outputs": [
        {
          "output_type": "error",
          "ename": "ValueError",
          "evalue": "ignored",
          "traceback": [
            "\u001b[0;31m---------------------------------------------------------------------------\u001b[0m",
            "\u001b[0;31mValueError\u001b[0m                                Traceback (most recent call last)",
            "\u001b[0;32m<ipython-input-34-2f52417d930d>\u001b[0m in \u001b[0;36m<cell line: 1>\u001b[0;34m()\u001b[0m\n\u001b[0;32m----> 1\u001b[0;31m \u001b[0mmodel\u001b[0m\u001b[0;34m.\u001b[0m\u001b[0mbuild\u001b[0m\u001b[0;34m(\u001b[0m\u001b[0;34m)\u001b[0m\u001b[0;34m\u001b[0m\u001b[0;34m\u001b[0m\u001b[0m\n\u001b[0m",
            "\u001b[0;32m/usr/local/lib/python3.10/dist-packages/keras/engine/sequential.py\u001b[0m in \u001b[0;36mbuild\u001b[0;34m(self, input_shape)\u001b[0m\n\u001b[1;32m    376\u001b[0m         \u001b[0;32melse\u001b[0m\u001b[0;34m:\u001b[0m\u001b[0;34m\u001b[0m\u001b[0;34m\u001b[0m\u001b[0m\n\u001b[1;32m    377\u001b[0m             \u001b[0;32mif\u001b[0m \u001b[0minput_shape\u001b[0m \u001b[0;32mis\u001b[0m \u001b[0;32mNone\u001b[0m\u001b[0;34m:\u001b[0m\u001b[0;34m\u001b[0m\u001b[0;34m\u001b[0m\u001b[0m\n\u001b[0;32m--> 378\u001b[0;31m                 \u001b[0;32mraise\u001b[0m \u001b[0mValueError\u001b[0m\u001b[0;34m(\u001b[0m\u001b[0;34m\"You must provide an `input_shape` argument.\"\u001b[0m\u001b[0;34m)\u001b[0m\u001b[0;34m\u001b[0m\u001b[0;34m\u001b[0m\u001b[0m\n\u001b[0m\u001b[1;32m    379\u001b[0m             \u001b[0mself\u001b[0m\u001b[0;34m.\u001b[0m\u001b[0m_build_graph_network_for_inferred_shape\u001b[0m\u001b[0;34m(\u001b[0m\u001b[0minput_shape\u001b[0m\u001b[0;34m)\u001b[0m\u001b[0;34m\u001b[0m\u001b[0;34m\u001b[0m\u001b[0m\n\u001b[1;32m    380\u001b[0m             \u001b[0;32mif\u001b[0m \u001b[0;32mnot\u001b[0m \u001b[0mself\u001b[0m\u001b[0;34m.\u001b[0m\u001b[0mbuilt\u001b[0m\u001b[0;34m:\u001b[0m\u001b[0;34m\u001b[0m\u001b[0;34m\u001b[0m\u001b[0m\n",
            "\u001b[0;31mValueError\u001b[0m: You must provide an `input_shape` argument."
          ]
        }
      ]
    },
    {
      "cell_type": "code",
      "source": [
        "\n",
        "# Lets create a model that builds auti]omatically by definig the input shape argument\n",
        "\n",
        "# Set random seed\n",
        "tf.random.set_seed(42)\n",
        "\n",
        "# Create a model (same as above)\n",
        "model = tf.keras.Sequential([\n",
        "  tf.keras.layers.Dense(100, input_shape=[1], name = \"inut_layer\"),\n",
        "  tf.keras.layers.Dense(100,name = \"mid_layer\" , activation =\"relu\"),\n",
        "  tf.keras.layers.Dense(1, name = 'output_layer')\n",
        "], name = \"model_1\")\n",
        "\n",
        "# Compile model (same as above)\n",
        "model.compile(loss=tf.keras.losses.mae,\n",
        "              optimizer=tf.keras.optimizers.SGD(),\n",
        "              metrics=[\"mae\"])"
      ],
      "metadata": {
        "id": "hoWzqb7VXcyt"
      },
      "execution_count": null,
      "outputs": []
    },
    {
      "cell_type": "code",
      "source": [
        "\n",
        "\n",
        "\n",
        "\n",
        "model.summary()"
      ],
      "metadata": {
        "id": "w5-xDqlyZRpC",
        "colab": {
          "base_uri": "https://localhost:8080/"
        },
        "outputId": "5d114627-25fb-4dd7-f00c-a34d11bba614"
      },
      "execution_count": null,
      "outputs": [
        {
          "output_type": "stream",
          "name": "stdout",
          "text": [
            "Model: \"model_1\"\n",
            "_________________________________________________________________\n",
            " Layer (type)                Output Shape              Param #   \n",
            "=================================================================\n",
            " inut_layer (Dense)          (None, 100)               200       \n",
            "                                                                 \n",
            " mid_layer (Dense)           (None, 100)               10100     \n",
            "                                                                 \n",
            " output_layer (Dense)        (None, 1)                 101       \n",
            "                                                                 \n",
            "=================================================================\n",
            "Total params: 10,401\n",
            "Trainable params: 10,401\n",
            "Non-trainable params: 0\n",
            "_________________________________________________________________\n"
          ]
        }
      ]
    },
    {
      "cell_type": "markdown",
      "source": [
        "\n",
        "Calling summary() on our model shows us the layers it contains, the output shape and the number of parameters.\n",
        "\n",
        "**Total params** - total number of parameters in the model.\n",
        "\n",
        "**Trainable parameters**- these are the parameters (patterns) the model can update as it trains.\n",
        "\n",
        "**Non-trainable parameters** - these parameters aren't updated during training (this is typical when you bring in the already learned patterns from other models during transfer learning).\n",
        "📖 Resource: For a more in-depth overview of the trainable parameters within a layer, check out MIT's introduction to deep learning video.\n",
        "\n",
        "\n",
        "\n",
        "\n",
        "🛠 Exercise: Try playing around with the number of hidden units in the Dense layer (e.g. Dense(2), Dense(3)). How does this change the Total/Trainable params? Investigate what's causing the change.\n",
        "\n",
        "For now, all you need to think about these parameters is that their learnable patterns in the data.\n",
        "\n",
        "Let's fit our model to the training data."
      ],
      "metadata": {
        "id": "F-TPXlnNZj7m"
      }
    },
    {
      "cell_type": "code",
      "source": [
        "# Lets fit our model\n",
        "model.fit(tf.expand_dims(X_train, axis = -1), y_train, epochs =100, verbose = 0)"
      ],
      "metadata": {
        "id": "qKqXJmgUZ_Qz",
        "colab": {
          "base_uri": "https://localhost:8080/"
        },
        "outputId": "f69fba44-8dfe-4cdb-a12d-d368111914b7"
      },
      "execution_count": null,
      "outputs": [
        {
          "output_type": "execute_result",
          "data": {
            "text/plain": [
              "<keras.callbacks.History at 0x7f8dec487e80>"
            ]
          },
          "metadata": {},
          "execution_count": 37
        }
      ]
    },
    {
      "cell_type": "code",
      "source": [
        "#  call a summary\n",
        "model.summary()"
      ],
      "metadata": {
        "id": "fnVJo_zkcFiD",
        "colab": {
          "base_uri": "https://localhost:8080/"
        },
        "outputId": "7b8be950-aa29-42e2-f10d-98fcf761564a"
      },
      "execution_count": null,
      "outputs": [
        {
          "output_type": "stream",
          "name": "stdout",
          "text": [
            "Model: \"model_1\"\n",
            "_________________________________________________________________\n",
            " Layer (type)                Output Shape              Param #   \n",
            "=================================================================\n",
            " inut_layer (Dense)          (None, 100)               200       \n",
            "                                                                 \n",
            " mid_layer (Dense)           (None, 100)               10100     \n",
            "                                                                 \n",
            " output_layer (Dense)        (None, 1)                 101       \n",
            "                                                                 \n",
            "=================================================================\n",
            "Total params: 10,401\n",
            "Trainable params: 10,401\n",
            "Non-trainable params: 0\n",
            "_________________________________________________________________\n"
          ]
        }
      ]
    },
    {
      "cell_type": "code",
      "source": [
        "# # one more way to visualize\n",
        "\n",
        "\n",
        "from tensorflow.keras.utils import plot_model\n",
        "\n",
        "plot_model(model, show_shapes=True)\n"
      ],
      "metadata": {
        "id": "j3ab_RiCdkvJ",
        "colab": {
          "base_uri": "https://localhost:8080/",
          "height": 422
        },
        "outputId": "8daafeda-1c61-4efa-90f4-9a230d000199"
      },
      "execution_count": null,
      "outputs": [
        {
          "output_type": "execute_result",
          "data": {
            "image/png": "[encoded data removed]",
            "text/plain": [
              "<IPython.core.display.Image object>"
            ]
          },
          "metadata": {},
          "execution_count": 39
        }
      ]
    },
    {
      "cell_type": "markdown",
      "source": [
        "# Visualizing our models prediction"
      ],
      "metadata": {
        "id": "aLrQWED8t9GM"
      }
    },
    {
      "cell_type": "code",
      "source": [
        "# to visualize its agood ide to plot them against ground truth\n",
        "# y_test/ y_true vs y_pred(ground truth)"
      ],
      "metadata": {
        "id": "qGmXKnjdvHck"
      },
      "execution_count": null,
      "outputs": []
    },
    {
      "cell_type": "code",
      "source": [
        "# make some prediction\n",
        "y_pred = model.predict(X_test)\n",
        "y_pred"
      ],
      "metadata": {
        "id": "aGW2ZrGnd8cb",
        "colab": {
          "base_uri": "https://localhost:8080/"
        },
        "outputId": "55a2f916-ab1c-4666-d6ff-ca8a0e9f595b"
      },
      "execution_count": null,
      "outputs": [
        {
          "output_type": "stream",
          "name": "stdout",
          "text": [
            "1/1 [==============================] - 0s 68ms/step\n"
          ]
        },
        {
          "output_type": "execute_result",
          "data": {
            "text/plain": [
              "array([[ 76.92387 ],\n",
              "       [ 81.9818  ],\n",
              "       [ 87.03971 ],\n",
              "       [ 92.09765 ],\n",
              "       [ 97.15558 ],\n",
              "       [102.21349 ],\n",
              "       [107.27143 ],\n",
              "       [112.329346],\n",
              "       [117.387276],\n",
              "       [122.44521 ]], dtype=float32)"
            ]
          },
          "metadata": {},
          "execution_count": 41
        }
      ]
    },
    {
      "cell_type": "code",
      "source": [
        "y_test"
      ],
      "metadata": {
        "id": "ljdpxe-twwtF",
        "colab": {
          "base_uri": "https://localhost:8080/"
        },
        "outputId": "6a43185a-8d22-4f97-e4d4-1d4d22585985"
      },
      "execution_count": null,
      "outputs": [
        {
          "output_type": "execute_result",
          "data": {
            "text/plain": [
              "<tf.Tensor: shape=(10,), dtype=int32, numpy=array([ 70,  74,  78,  82,  86,  90,  94,  98, 102, 106], dtype=int32)>"
            ]
          },
          "metadata": {},
          "execution_count": 42
        }
      ]
    },
    {
      "cell_type": "code",
      "source": [
        "# lets creaet a plotting fnction\n",
        "\n",
        "def plot_predictions(train_data = X_train, train_labels = y_train,\n",
        "                     test_data = X_test, test_labels = y_test,\n",
        "                     predictions = y_pred):\n",
        "  \"\"\"\n",
        "  Plots training data, test data and compares predictions.\n",
        "  \"\"\"\n",
        "  plt.figure(figsize=(10,7))\n",
        "  plt.figure(figsize = (10,7))\n",
        "\n",
        "  #  plot train data\n",
        "  plt.scatter(train_data,train_labels , color ='blue', label = \"Training data\" )\n",
        "\n",
        "  #  plot test data\n",
        "  plt.scatter(test_data ,test_labels , color ='green', label = \"Testing data\" )\n",
        "\n",
        "  # plotiing predictions in red\n",
        "  plt.scatter(test_data,predictions, c = \"r\", label=\"Predictions\")\n",
        "\n",
        "  plt.legend()\n",
        "  plt.show()\n",
        "\n"
      ],
      "metadata": {
        "id": "ALvp5robw801"
      },
      "execution_count": null,
      "outputs": []
    },
    {
      "cell_type": "code",
      "source": [
        "plot_predictions()"
      ],
      "metadata": {
        "id": "N4SzMQflxksE",
        "colab": {
          "base_uri": "https://localhost:8080/",
          "height": 617
        },
        "outputId": "d8bf0589-b43f-4361-d890-4f1be8721483"
      },
      "execution_count": null,
      "outputs": [
        {
          "output_type": "display_data",
          "data": {
            "text/plain": [
              "<Figure size 1000x700 with 0 Axes>"
            ]
          },
          "metadata": {}
        },
        {
          "output_type": "display_data",
          "data": {
            "text/plain": [
              "<Figure size 1000x700 with 1 Axes>"
            ],
            "image/png": "[encoded data removed]"
          },
          "metadata": {}
        }
      ]
    },
    {
      "cell_type": "code",
      "source": [
        "# we can say models not performing well\n",
        "\n"
      ],
      "metadata": {
        "id": "83fjFBKOzHzX"
      },
      "execution_count": null,
      "outputs": []
    },
    {
      "cell_type": "code",
      "source": [],
      "metadata": {
        "id": "ziMm0o18ziwz"
      },
      "execution_count": null,
      "outputs": []
    },
    {
      "cell_type": "markdown",
      "source": [
        "Evaluation matrix"
      ],
      "metadata": {
        "id": "RP1vRJJ6zjCc"
      }
    },
    {
      "cell_type": "code",
      "source": [
        "# depending on the problem there are diff evaluating matrix\n",
        "# for regression two main ones are\n",
        "#  1 Mae (on avg how wrong)\n",
        "#  2 MSE  ( square the avg errors)"
      ],
      "metadata": {
        "id": "LXY6E336zrzm"
      },
      "execution_count": null,
      "outputs": []
    },
    {
      "cell_type": "code",
      "source": [
        "# EValuate the model on the test\n",
        "model.evaluate (X_test,y_test)"
      ],
      "metadata": {
        "id": "zKdiyDsS1Y_2",
        "colab": {
          "base_uri": "https://localhost:8080/"
        },
        "outputId": "a143d4db-0fa0-4cd1-f7da-fdebd82907c5"
      },
      "execution_count": null,
      "outputs": [
        {
          "output_type": "stream",
          "name": "stdout",
          "text": [
            "1/1 [==============================] - 0s 238ms/step - loss: 11.6845 - mae: 11.6845\n"
          ]
        },
        {
          "output_type": "execute_result",
          "data": {
            "text/plain": [
              "[11.68453598022461, 11.68453598022461]"
            ]
          },
          "metadata": {},
          "execution_count": 47
        }
      ]
    },
    {
      "cell_type": "code",
      "source": [
        "#  calculate mean abs error\n",
        "mae = tf.keras.losses.MAE(y_test,y_pred)"
      ],
      "metadata": {
        "id": "tyycO5Ys16dD"
      },
      "execution_count": null,
      "outputs": []
    },
    {
      "cell_type": "code",
      "source": [
        "y_pred, y_test"
      ],
      "metadata": {
        "id": "XXSKj6ul2sMG",
        "colab": {
          "base_uri": "https://localhost:8080/"
        },
        "outputId": "31a71822-83b2-409c-b6c7-c5fd7d1bea00"
      },
      "execution_count": null,
      "outputs": [
        {
          "output_type": "execute_result",
          "data": {
            "text/plain": [
              "(array([[ 76.92387 ],\n",
              "        [ 81.9818  ],\n",
              "        [ 87.03971 ],\n",
              "        [ 92.09765 ],\n",
              "        [ 97.15558 ],\n",
              "        [102.21349 ],\n",
              "        [107.27143 ],\n",
              "        [112.329346],\n",
              "        [117.387276],\n",
              "        [122.44521 ]], dtype=float32),\n",
              " <tf.Tensor: shape=(10,), dtype=int32, numpy=array([ 70,  74,  78,  82,  86,  90,  94,  98, 102, 106], dtype=int32)>)"
            ]
          },
          "metadata": {},
          "execution_count": 49
        }
      ]
    },
    {
      "cell_type": "code",
      "source": [
        "tf.constant(y_pred) , y_test"
      ],
      "metadata": {
        "id": "M10EUUs53a55",
        "colab": {
          "base_uri": "https://localhost:8080/"
        },
        "outputId": "00579fd4-bf17-451e-acb3-525a299b88bf"
      },
      "execution_count": null,
      "outputs": [
        {
          "output_type": "execute_result",
          "data": {
            "text/plain": [
              "(<tf.Tensor: shape=(10, 1), dtype=float32, numpy=\n",
              " array([[ 76.92387 ],\n",
              "        [ 81.9818  ],\n",
              "        [ 87.03971 ],\n",
              "        [ 92.09765 ],\n",
              "        [ 97.15558 ],\n",
              "        [102.21349 ],\n",
              "        [107.27143 ],\n",
              "        [112.329346],\n",
              "        [117.387276],\n",
              "        [122.44521 ]], dtype=float32)>,\n",
              " <tf.Tensor: shape=(10,), dtype=int32, numpy=array([ 70,  74,  78,  82,  86,  90,  94,  98, 102, 106], dtype=int32)>)"
            ]
          },
          "metadata": {},
          "execution_count": 50
        }
      ]
    },
    {
      "cell_type": "code",
      "source": [
        "#  diff shape"
      ],
      "metadata": {
        "id": "1E57lCWv3hFu"
      },
      "execution_count": null,
      "outputs": []
    },
    {
      "cell_type": "code",
      "source": [
        "w = tf.squeeze(y_pred)"
      ],
      "metadata": {
        "id": "YI7gB2Xy3jXe"
      },
      "execution_count": null,
      "outputs": []
    },
    {
      "cell_type": "code",
      "source": [
        "mae = tf.keras.losses.MAE(y_test, tf.squeeze(y_pred) )\n",
        "mae"
      ],
      "metadata": {
        "id": "AXO1ls1h3sAo",
        "colab": {
          "base_uri": "https://localhost:8080/"
        },
        "outputId": "ea24cd71-507d-4faf-e987-84de175e98ef"
      },
      "execution_count": null,
      "outputs": [
        {
          "output_type": "execute_result",
          "data": {
            "text/plain": [
              "<tf.Tensor: shape=(), dtype=float32, numpy=11.684536>"
            ]
          },
          "metadata": {},
          "execution_count": 53
        }
      ]
    },
    {
      "cell_type": "code",
      "source": [
        "MSE = tf.keras.losses.MSE(y_test,tf.squeeze(y_pred))\n",
        "MSE"
      ],
      "metadata": {
        "id": "pKc58XGR31lK",
        "colab": {
          "base_uri": "https://localhost:8080/"
        },
        "outputId": "04873790-eb16-4865-fd71-aeb6d13e5e3b"
      },
      "execution_count": null,
      "outputs": [
        {
          "output_type": "execute_result",
          "data": {
            "text/plain": [
              "<tf.Tensor: shape=(), dtype=float32, numpy=145.76186>"
            ]
          },
          "metadata": {},
          "execution_count": 54
        }
      ]
    },
    {
      "cell_type": "code",
      "source": [
        "# function to reuse MAE and MSE\n",
        "def mae(y_true, y_pred):\n",
        "  return tf.keras.losses.MAE(y_test, tf.squeeze(y_pred))\n",
        "\n",
        "def mse(y_true, y_pred):\n",
        "  return tf.keras.losses.MSE(y_test, tf.squeeze(y_pred))\n"
      ],
      "metadata": {
        "id": "3gaI0uyQ4bMp"
      },
      "execution_count": null,
      "outputs": []
    },
    {
      "cell_type": "code",
      "source": [
        "#  runnning experiments to imrove our model\n",
        "#  get more data = more examples, more opportunities to learn patterns\n",
        "#  make yor model larger - more layers and more hidden units in each layer\n",
        "#  train for longer = give your model more of a chance to find patterns in data\n"
      ],
      "metadata": {
        "id": "7DBjVPHNXHWK"
      },
      "execution_count": null,
      "outputs": []
    },
    {
      "cell_type": "code",
      "source": [
        "# model1 = same as original, 1 layer, 100 epochs\n",
        "# model 2 = 2 layers, 100 epochs\n",
        "# model 3 = 2 layers, 500 epochs"
      ],
      "metadata": {
        "id": "j8_DIqVXaRcL"
      },
      "execution_count": null,
      "outputs": []
    },
    {
      "cell_type": "code",
      "source": [
        "# Set random seed\n",
        "tf.random.set_seed(42)\n",
        "\n",
        "# Replicate original model\n",
        "model_1 = tf.keras.Sequential([\n",
        "  tf.keras.layers.Dense(1)\n",
        "])\n",
        "\n",
        "# Compile the model\n",
        "model_1.compile(loss=tf.keras.losses.mae,\n",
        "                optimizer=tf.keras.optimizers.SGD(),\n",
        "                metrics=['mae'])\n",
        "\n",
        "# Fit the model\n",
        "model_1.fit(tf.expand_dims(X_train, axis=-1), y_train, epochs=100)"
      ],
      "metadata": {
        "id": "K_d32C9Bavih",
        "colab": {
          "base_uri": "https://localhost:8080/"
        },
        "outputId": "55ca0aa4-aa0c-4c4f-e3db-32e44140d865"
      },
      "execution_count": null,
      "outputs": [
        {
          "output_type": "stream",
          "name": "stdout",
          "text": [
            "Epoch 1/100\n",
            "2/2 [==============================] - 0s 12ms/step - loss: 79.2323 - mae: 79.2323\n",
            "Epoch 2/100\n",
            "2/2 [==============================] - 0s 8ms/step - loss: 43.8598 - mae: 43.8598\n",
            "Epoch 3/100\n",
            "2/2 [==============================] - 0s 14ms/step - loss: 11.1074 - mae: 11.1074\n",
            "Epoch 4/100\n",
            "2/2 [==============================] - 0s 10ms/step - loss: 9.3352 - mae: 9.3352\n",
            "Epoch 5/100\n",
            "2/2 [==============================] - 0s 8ms/step - loss: 10.2049 - mae: 10.2049\n",
            "Epoch 6/100\n",
            "2/2 [==============================] - 0s 9ms/step - loss: 9.4666 - mae: 9.4666\n",
            "Epoch 7/100\n",
            "2/2 [==============================] - 0s 12ms/step - loss: 8.6039 - mae: 8.6039\n",
            "Epoch 8/100\n",
            "2/2 [==============================] - 0s 15ms/step - loss: 9.0690 - mae: 9.0690\n",
            "Epoch 9/100\n",
            "2/2 [==============================] - 0s 8ms/step - loss: 18.7924 - mae: 18.7924\n",
            "Epoch 10/100\n",
            "2/2 [==============================] - 0s 7ms/step - loss: 10.1533 - mae: 10.1533\n",
            "Epoch 11/100\n",
            "2/2 [==============================] - 0s 8ms/step - loss: 8.4272 - mae: 8.4272\n",
            "Epoch 12/100\n",
            "2/2 [==============================] - 0s 7ms/step - loss: 10.6997 - mae: 10.6997\n",
            "Epoch 13/100\n",
            "2/2 [==============================] - 0s 8ms/step - loss: 9.8263 - mae: 9.8263\n",
            "Epoch 14/100\n",
            "2/2 [==============================] - 0s 8ms/step - loss: 16.0504 - mae: 16.0504\n",
            "Epoch 15/100\n",
            "2/2 [==============================] - 0s 7ms/step - loss: 11.4043 - mae: 11.4043\n",
            "Epoch 16/100\n",
            "2/2 [==============================] - 0s 9ms/step - loss: 8.5674 - mae: 8.5674\n",
            "Epoch 17/100\n",
            "2/2 [==============================] - 0s 9ms/step - loss: 13.6741 - mae: 13.6741\n",
            "Epoch 18/100\n",
            "2/2 [==============================] - 0s 9ms/step - loss: 11.5060 - mae: 11.5060\n",
            "Epoch 19/100\n",
            "2/2 [==============================] - 0s 9ms/step - loss: 17.9085 - mae: 17.9085\n",
            "Epoch 20/100\n",
            "2/2 [==============================] - 0s 8ms/step - loss: 15.0432 - mae: 15.0432\n",
            "Epoch 21/100\n",
            "2/2 [==============================] - 0s 8ms/step - loss: 10.9132 - mae: 10.9132\n",
            "Epoch 22/100\n",
            "2/2 [==============================] - 0s 9ms/step - loss: 8.6706 - mae: 8.6706\n",
            "Epoch 23/100\n",
            "2/2 [==============================] - 0s 8ms/step - loss: 9.6960 - mae: 9.6960\n",
            "Epoch 24/100\n",
            "2/2 [==============================] - 0s 8ms/step - loss: 8.6007 - mae: 8.6007\n",
            "Epoch 25/100\n",
            "2/2 [==============================] - 0s 7ms/step - loss: 11.5932 - mae: 11.5932\n",
            "Epoch 26/100\n",
            "2/2 [==============================] - 0s 7ms/step - loss: 15.1792 - mae: 15.1792\n",
            "Epoch 27/100\n",
            "2/2 [==============================] - 0s 8ms/step - loss: 12.0683 - mae: 12.0683\n",
            "Epoch 28/100\n",
            "2/2 [==============================] - 0s 8ms/step - loss: 13.3617 - mae: 13.3617\n",
            "Epoch 29/100\n",
            "2/2 [==============================] - 0s 9ms/step - loss: 9.6214 - mae: 9.6214\n",
            "Epoch 30/100\n",
            "2/2 [==============================] - 0s 11ms/step - loss: 17.1399 - mae: 17.1399\n",
            "Epoch 31/100\n",
            "2/2 [==============================] - 0s 7ms/step - loss: 22.9340 - mae: 22.9340\n",
            "Epoch 32/100\n",
            "2/2 [==============================] - 0s 8ms/step - loss: 7.9376 - mae: 7.9376\n",
            "Epoch 33/100\n",
            "2/2 [==============================] - 0s 9ms/step - loss: 14.1142 - mae: 14.1142\n",
            "Epoch 34/100\n",
            "2/2 [==============================] - 0s 8ms/step - loss: 12.3530 - mae: 12.3530\n",
            "Epoch 35/100\n",
            "2/2 [==============================] - 0s 10ms/step - loss: 8.2942 - mae: 8.2942\n",
            "Epoch 36/100\n",
            "2/2 [==============================] - 0s 8ms/step - loss: 10.5245 - mae: 10.5245\n",
            "Epoch 37/100\n",
            "2/2 [==============================] - 0s 8ms/step - loss: 10.1649 - mae: 10.1649\n",
            "Epoch 38/100\n",
            "2/2 [==============================] - 0s 8ms/step - loss: 11.3735 - mae: 11.3735\n",
            "Epoch 39/100\n",
            "2/2 [==============================] - 0s 9ms/step - loss: 14.7384 - mae: 14.7384\n",
            "Epoch 40/100\n",
            "2/2 [==============================] - 0s 9ms/step - loss: 12.8689 - mae: 12.8689\n",
            "Epoch 41/100\n",
            "2/2 [==============================] - 0s 9ms/step - loss: 9.2555 - mae: 9.2555\n",
            "Epoch 42/100\n",
            "2/2 [==============================] - 0s 9ms/step - loss: 11.0488 - mae: 11.0488\n",
            "Epoch 43/100\n",
            "2/2 [==============================] - 0s 8ms/step - loss: 8.3585 - mae: 8.3585\n",
            "Epoch 44/100\n",
            "2/2 [==============================] - 0s 8ms/step - loss: 13.1029 - mae: 13.1029\n",
            "Epoch 45/100\n",
            "2/2 [==============================] - 0s 8ms/step - loss: 13.6544 - mae: 13.6544\n",
            "Epoch 46/100\n",
            "2/2 [==============================] - 0s 8ms/step - loss: 8.2853 - mae: 8.2853\n",
            "Epoch 47/100\n",
            "2/2 [==============================] - 0s 7ms/step - loss: 8.7615 - mae: 8.7615\n",
            "Epoch 48/100\n",
            "2/2 [==============================] - 0s 8ms/step - loss: 10.0673 - mae: 10.0673\n",
            "Epoch 49/100\n",
            "2/2 [==============================] - 0s 7ms/step - loss: 8.5468 - mae: 8.5468\n",
            "Epoch 50/100\n",
            "2/2 [==============================] - 0s 9ms/step - loss: 9.0549 - mae: 9.0549\n",
            "Epoch 51/100\n",
            "2/2 [==============================] - 0s 8ms/step - loss: 9.4023 - mae: 9.4023\n",
            "Epoch 52/100\n",
            "2/2 [==============================] - 0s 9ms/step - loss: 14.2271 - mae: 14.2271\n",
            "Epoch 53/100\n",
            "2/2 [==============================] - 0s 9ms/step - loss: 14.8732 - mae: 14.8732\n",
            "Epoch 54/100\n",
            "2/2 [==============================] - 0s 9ms/step - loss: 14.8076 - mae: 14.8076\n",
            "Epoch 55/100\n",
            "2/2 [==============================] - 0s 9ms/step - loss: 12.5889 - mae: 12.5889\n",
            "Epoch 56/100\n",
            "2/2 [==============================] - 0s 9ms/step - loss: 7.5976 - mae: 7.5976\n",
            "Epoch 57/100\n",
            "2/2 [==============================] - 0s 9ms/step - loss: 8.8310 - mae: 8.8310\n",
            "Epoch 58/100\n",
            "2/2 [==============================] - 0s 10ms/step - loss: 8.4130 - mae: 8.4130\n",
            "Epoch 59/100\n",
            "2/2 [==============================] - 0s 10ms/step - loss: 9.2141 - mae: 9.2141\n",
            "Epoch 60/100\n",
            "2/2 [==============================] - 0s 10ms/step - loss: 9.1518 - mae: 9.1518\n",
            "Epoch 61/100\n",
            "2/2 [==============================] - 0s 11ms/step - loss: 10.7013 - mae: 10.7013\n",
            "Epoch 62/100\n",
            "2/2 [==============================] - 0s 14ms/step - loss: 7.4519 - mae: 7.4519\n",
            "Epoch 63/100\n",
            "2/2 [==============================] - 0s 12ms/step - loss: 10.5279 - mae: 10.5279\n",
            "Epoch 64/100\n",
            "2/2 [==============================] - 0s 11ms/step - loss: 12.1226 - mae: 12.1226\n",
            "Epoch 65/100\n",
            "2/2 [==============================] - 0s 8ms/step - loss: 9.4608 - mae: 9.4608\n",
            "Epoch 66/100\n",
            "2/2 [==============================] - 0s 9ms/step - loss: 11.5249 - mae: 11.5249\n",
            "Epoch 67/100\n",
            "2/2 [==============================] - 0s 9ms/step - loss: 8.0576 - mae: 8.0576\n",
            "Epoch 68/100\n",
            "2/2 [==============================] - 0s 8ms/step - loss: 8.5858 - mae: 8.5858\n",
            "Epoch 69/100\n",
            "2/2 [==============================] - 0s 9ms/step - loss: 12.2734 - mae: 12.2734\n",
            "Epoch 70/100\n",
            "2/2 [==============================] - 0s 9ms/step - loss: 8.9781 - mae: 8.9781\n",
            "Epoch 71/100\n",
            "2/2 [==============================] - 0s 8ms/step - loss: 9.9530 - mae: 9.9530\n",
            "Epoch 72/100\n",
            "2/2 [==============================] - 0s 8ms/step - loss: 9.9912 - mae: 9.9912\n",
            "Epoch 73/100\n",
            "2/2 [==============================] - 0s 8ms/step - loss: 12.4596 - mae: 12.4596\n",
            "Epoch 74/100\n",
            "2/2 [==============================] - 0s 8ms/step - loss: 10.5853 - mae: 10.5853\n",
            "Epoch 75/100\n",
            "2/2 [==============================] - 0s 9ms/step - loss: 9.6499 - mae: 9.6499\n",
            "Epoch 76/100\n",
            "2/2 [==============================] - 0s 9ms/step - loss: 11.1175 - mae: 11.1175\n",
            "Epoch 77/100\n",
            "2/2 [==============================] - 0s 8ms/step - loss: 8.2973 - mae: 8.2973\n",
            "Epoch 78/100\n",
            "2/2 [==============================] - 0s 8ms/step - loss: 8.9912 - mae: 8.9912\n",
            "Epoch 79/100\n",
            "2/2 [==============================] - 0s 8ms/step - loss: 19.7906 - mae: 19.7906\n",
            "Epoch 80/100\n",
            "2/2 [==============================] - 0s 7ms/step - loss: 17.8327 - mae: 17.8327\n",
            "Epoch 81/100\n",
            "2/2 [==============================] - 0s 8ms/step - loss: 7.0945 - mae: 7.0945\n",
            "Epoch 82/100\n",
            "2/2 [==============================] - 0s 8ms/step - loss: 10.4284 - mae: 10.4284\n",
            "Epoch 83/100\n",
            "2/2 [==============================] - 0s 8ms/step - loss: 9.8527 - mae: 9.8527\n",
            "Epoch 84/100\n",
            "2/2 [==============================] - 0s 9ms/step - loss: 7.9521 - mae: 7.9521\n",
            "Epoch 85/100\n",
            "2/2 [==============================] - 0s 9ms/step - loss: 9.4593 - mae: 9.4593\n",
            "Epoch 86/100\n",
            "2/2 [==============================] - 0s 8ms/step - loss: 9.5037 - mae: 9.5037\n",
            "Epoch 87/100\n",
            "2/2 [==============================] - 0s 8ms/step - loss: 11.4440 - mae: 11.4440\n",
            "Epoch 88/100\n",
            "2/2 [==============================] - 0s 8ms/step - loss: 9.9450 - mae: 9.9450\n",
            "Epoch 89/100\n",
            "2/2 [==============================] - 0s 9ms/step - loss: 7.2698 - mae: 7.2698\n",
            "Epoch 90/100\n",
            "2/2 [==============================] - 0s 9ms/step - loss: 12.7026 - mae: 12.7026\n",
            "Epoch 91/100\n",
            "2/2 [==============================] - 0s 9ms/step - loss: 7.3271 - mae: 7.3271\n",
            "Epoch 92/100\n",
            "2/2 [==============================] - 0s 9ms/step - loss: 7.6905 - mae: 7.6905\n",
            "Epoch 93/100\n",
            "2/2 [==============================] - 0s 9ms/step - loss: 7.1368 - mae: 7.1368\n",
            "Epoch 94/100\n",
            "2/2 [==============================] - 0s 9ms/step - loss: 12.5515 - mae: 12.5515\n",
            "Epoch 95/100\n",
            "2/2 [==============================] - 0s 9ms/step - loss: 9.9297 - mae: 9.9297\n",
            "Epoch 96/100\n",
            "2/2 [==============================] - 0s 10ms/step - loss: 9.1615 - mae: 9.1615\n",
            "Epoch 97/100\n",
            "2/2 [==============================] - 0s 9ms/step - loss: 12.1097 - mae: 12.1097\n",
            "Epoch 98/100\n",
            "2/2 [==============================] - 0s 9ms/step - loss: 9.0746 - mae: 9.0746\n",
            "Epoch 99/100\n",
            "2/2 [==============================] - 0s 8ms/step - loss: 8.5165 - mae: 8.5165\n",
            "Epoch 100/100\n",
            "2/2 [==============================] - 0s 8ms/step - loss: 14.4807 - mae: 14.4807\n"
          ]
        },
        {
          "output_type": "execute_result",
          "data": {
            "text/plain": [
              "<keras.callbacks.History at 0x7f8de24c11e0>"
            ]
          },
          "metadata": {},
          "execution_count": 58
        }
      ]
    },
    {
      "cell_type": "code",
      "source": [
        "#  make and plot predictions\n",
        "y_preds_1 = model_1.predict(X_test)\n",
        "plot_predictions(predictions = y_preds_1)"
      ],
      "metadata": {
        "id": "OLEOsslhcDEh",
        "colab": {
          "base_uri": "https://localhost:8080/",
          "height": 672
        },
        "outputId": "198e3c35-47cd-44e0-a741-f1909127d56f"
      },
      "execution_count": null,
      "outputs": [
        {
          "output_type": "stream",
          "name": "stderr",
          "text": [
            "WARNING:tensorflow:5 out of the last 5 calls to <function Model.make_predict_function.<locals>.predict_function at 0x7f8de2558700> triggered tf.function retracing. Tracing is expensive and the excessive number of tracings could be due to (1) creating @tf.function repeatedly in a loop, (2) passing tensors with different shapes, (3) passing Python objects instead of tensors. For (1), please define your @tf.function outside of the loop. For (2), @tf.function has reduce_retracing=True option that can avoid unnecessary retracing. For (3), please refer to https://www.tensorflow.org/guide/function#controlling_retracing and https://www.tensorflow.org/api_docs/python/tf/function for  more details.\n"
          ]
        },
        {
          "output_type": "stream",
          "name": "stdout",
          "text": [
            "1/1 [==============================] - 0s 57ms/step\n"
          ]
        },
        {
          "output_type": "display_data",
          "data": {
            "text/plain": [
              "<Figure size 1000x700 with 0 Axes>"
            ]
          },
          "metadata": {}
        },
        {
          "output_type": "display_data",
          "data": {
            "text/plain": [
              "<Figure size 1000x700 with 1 Axes>"
            ],
            "image/png": "[encoded data removed]"
          },
          "metadata": {}
        }
      ]
    },
    {
      "cell_type": "code",
      "source": [
        "#  calculate model_1 evaluation\n",
        "mae_1 = mae(y_test,y_preds_1)\n",
        "mse_1 = mse(y_test,y_preds_1)\n",
        "mae_1,mse_1"
      ],
      "metadata": {
        "id": "MLElhcd7drK9",
        "colab": {
          "base_uri": "https://localhost:8080/"
        },
        "outputId": "5842fb90-7344-4676-c30d-0bb4a9b5377e"
      },
      "execution_count": null,
      "outputs": [
        {
          "output_type": "execute_result",
          "data": {
            "text/plain": [
              "(<tf.Tensor: shape=(), dtype=float32, numpy=30.62092>,\n",
              " <tf.Tensor: shape=(), dtype=float32, numpy=948.042>)"
            ]
          },
          "metadata": {},
          "execution_count": 60
        }
      ]
    },
    {
      "cell_type": "code",
      "source": [],
      "metadata": {
        "id": "hbDgq4QUd-gn"
      },
      "execution_count": null,
      "outputs": []
    },
    {
      "cell_type": "code",
      "source": [
        "# model 2\n",
        "\n",
        "tf.random.set_seed(42)\n",
        "#  create\n",
        "model2 = tf.keras.Sequential([\n",
        "    tf.keras.layers.Dense(250),\n",
        "\n",
        "    tf.keras.layers.Dense(1)\n",
        "])\n",
        "# compile\n",
        "model2.compile(\n",
        "    loss = tf.keras.losses.mae,\n",
        "    optimizer = tf.keras.optimizers.SGD(),\n",
        "    metrics = ['mse']\n",
        ")\n",
        "# fit\n",
        "model2.fit(tf.expand_dims(X_train , axis = -1),y_train , epochs = 100)"
      ],
      "metadata": {
        "id": "zRqasjlIeUI3",
        "colab": {
          "base_uri": "https://localhost:8080/"
        },
        "outputId": "44159fc4-3429-42fd-b357-c9bf3578fb42"
      },
      "execution_count": null,
      "outputs": [
        {
          "output_type": "stream",
          "name": "stdout",
          "text": [
            "Epoch 1/100\n",
            "2/2 [==============================] - 0s 12ms/step - loss: 40.5535 - mse: 2277.8169\n",
            "Epoch 2/100\n",
            "2/2 [==============================] - 0s 6ms/step - loss: 31.0969 - mse: 1277.4717\n",
            "Epoch 3/100\n",
            "2/2 [==============================] - 0s 8ms/step - loss: 35.6927 - mse: 1932.8689\n",
            "Epoch 4/100\n",
            "2/2 [==============================] - 0s 8ms/step - loss: 29.4041 - mse: 1279.9041\n",
            "Epoch 5/100\n",
            "2/2 [==============================] - 0s 9ms/step - loss: 15.9082 - mse: 332.8874\n",
            "Epoch 6/100\n",
            "2/2 [==============================] - 0s 8ms/step - loss: 12.6015 - mse: 207.9579\n",
            "Epoch 7/100\n",
            "2/2 [==============================] - 0s 7ms/step - loss: 11.8548 - mse: 174.6139\n",
            "Epoch 8/100\n",
            "2/2 [==============================] - 0s 7ms/step - loss: 12.9019 - mse: 227.4547\n",
            "Epoch 9/100\n",
            "2/2 [==============================] - 0s 8ms/step - loss: 33.9227 - mse: 1723.1091\n",
            "Epoch 10/100\n",
            "2/2 [==============================] - 0s 8ms/step - loss: 23.2270 - mse: 754.4830\n",
            "Epoch 11/100\n",
            "2/2 [==============================] - 0s 7ms/step - loss: 10.2529 - mse: 149.1422\n",
            "Epoch 12/100\n",
            "2/2 [==============================] - 0s 6ms/step - loss: 25.2430 - mse: 888.5049\n",
            "Epoch 13/100\n",
            "2/2 [==============================] - 0s 7ms/step - loss: 17.1238 - mse: 407.9288\n",
            "Epoch 14/100\n",
            "2/2 [==============================] - 0s 9ms/step - loss: 26.1680 - mse: 1072.0038\n",
            "Epoch 15/100\n",
            "2/2 [==============================] - 0s 9ms/step - loss: 18.1955 - mse: 460.3135\n",
            "Epoch 16/100\n",
            "2/2 [==============================] - 0s 10ms/step - loss: 7.8615 - mse: 89.2057\n",
            "Epoch 17/100\n",
            "2/2 [==============================] - 0s 8ms/step - loss: 22.3118 - mse: 690.3597\n",
            "Epoch 18/100\n",
            "2/2 [==============================] - 0s 8ms/step - loss: 10.8566 - mse: 174.2097\n",
            "Epoch 19/100\n",
            "2/2 [==============================] - 0s 7ms/step - loss: 10.7466 - mse: 140.8785\n",
            "Epoch 20/100\n",
            "2/2 [==============================] - 0s 7ms/step - loss: 12.0685 - mse: 166.3235\n",
            "Epoch 21/100\n",
            "2/2 [==============================] - 0s 8ms/step - loss: 20.2299 - mse: 594.7118\n",
            "Epoch 22/100\n",
            "2/2 [==============================] - 0s 8ms/step - loss: 13.8337 - mse: 245.4846\n",
            "Epoch 23/100\n",
            "2/2 [==============================] - 0s 8ms/step - loss: 9.5631 - mse: 95.4168\n",
            "Epoch 24/100\n",
            "2/2 [==============================] - 0s 13ms/step - loss: 11.9222 - mse: 164.5676\n",
            "Epoch 25/100\n",
            "2/2 [==============================] - 0s 9ms/step - loss: 16.2731 - mse: 388.0666\n",
            "Epoch 26/100\n",
            "2/2 [==============================] - 0s 7ms/step - loss: 16.4625 - mse: 377.6729\n",
            "Epoch 27/100\n",
            "2/2 [==============================] - 0s 8ms/step - loss: 11.6062 - mse: 183.2577\n",
            "Epoch 28/100\n",
            "2/2 [==============================] - 0s 7ms/step - loss: 30.1049 - mse: 1478.4062\n",
            "Epoch 29/100\n",
            "2/2 [==============================] - 0s 8ms/step - loss: 9.2531 - mse: 92.4127\n",
            "Epoch 30/100\n",
            "2/2 [==============================] - 0s 9ms/step - loss: 30.6268 - mse: 1723.1361\n",
            "Epoch 31/100\n",
            "2/2 [==============================] - 0s 7ms/step - loss: 41.8992 - mse: 3067.9070\n",
            "Epoch 32/100\n",
            "2/2 [==============================] - 0s 7ms/step - loss: 11.8755 - mse: 204.4885\n",
            "Epoch 33/100\n",
            "2/2 [==============================] - 0s 8ms/step - loss: 15.4567 - mse: 329.1622\n",
            "Epoch 34/100\n",
            "2/2 [==============================] - 0s 9ms/step - loss: 12.5592 - mse: 207.7230\n",
            "Epoch 35/100\n",
            "2/2 [==============================] - 0s 8ms/step - loss: 9.1712 - mse: 91.0310\n",
            "Epoch 36/100\n",
            "2/2 [==============================] - 0s 8ms/step - loss: 16.4457 - mse: 393.1696\n",
            "Epoch 37/100\n",
            "2/2 [==============================] - 0s 8ms/step - loss: 11.0785 - mse: 191.8888\n",
            "Epoch 38/100\n",
            "2/2 [==============================] - 0s 9ms/step - loss: 18.2092 - mse: 437.0493\n",
            "Epoch 39/100\n",
            "2/2 [==============================] - 0s 8ms/step - loss: 19.1395 - mse: 533.7032\n",
            "Epoch 40/100\n",
            "2/2 [==============================] - 0s 8ms/step - loss: 20.5064 - mse: 614.3969\n",
            "Epoch 41/100\n",
            "2/2 [==============================] - 0s 8ms/step - loss: 14.7906 - mse: 274.0172\n",
            "Epoch 42/100\n",
            "2/2 [==============================] - 0s 8ms/step - loss: 12.1897 - mse: 182.1540\n",
            "Epoch 43/100\n",
            "2/2 [==============================] - 0s 10ms/step - loss: 10.6784 - mse: 163.2620\n",
            "Epoch 44/100\n",
            "2/2 [==============================] - 0s 9ms/step - loss: 32.3217 - mse: 1718.4235\n",
            "Epoch 45/100\n",
            "2/2 [==============================] - 0s 8ms/step - loss: 12.4625 - mse: 202.1465\n",
            "Epoch 46/100\n",
            "2/2 [==============================] - 0s 8ms/step - loss: 17.5593 - mse: 462.0536\n",
            "Epoch 47/100\n",
            "2/2 [==============================] - 0s 8ms/step - loss: 15.7277 - mse: 338.2860\n",
            "Epoch 48/100\n",
            "2/2 [==============================] - 0s 9ms/step - loss: 8.3494 - mse: 112.3235\n",
            "Epoch 49/100\n",
            "2/2 [==============================] - 0s 7ms/step - loss: 13.9521 - mse: 268.1523\n",
            "Epoch 50/100\n",
            "2/2 [==============================] - 0s 8ms/step - loss: 12.8013 - mse: 214.5127\n",
            "Epoch 51/100\n",
            "2/2 [==============================] - 0s 9ms/step - loss: 14.8129 - mse: 308.2835\n",
            "Epoch 52/100\n",
            "2/2 [==============================] - 0s 8ms/step - loss: 18.6998 - mse: 527.7460\n",
            "Epoch 53/100\n",
            "2/2 [==============================] - 0s 10ms/step - loss: 24.1341 - mse: 826.3727\n",
            "Epoch 54/100\n",
            "2/2 [==============================] - 0s 8ms/step - loss: 23.2552 - mse: 810.6805\n",
            "Epoch 55/100\n",
            "2/2 [==============================] - 0s 8ms/step - loss: 24.1187 - mse: 875.7532\n",
            "Epoch 56/100\n",
            "2/2 [==============================] - 0s 8ms/step - loss: 11.1702 - mse: 170.6779\n",
            "Epoch 57/100\n",
            "2/2 [==============================] - 0s 7ms/step - loss: 13.1391 - mse: 215.5314\n",
            "Epoch 58/100\n",
            "2/2 [==============================] - 0s 9ms/step - loss: 9.8179 - mse: 106.4581\n",
            "Epoch 59/100\n",
            "2/2 [==============================] - 0s 8ms/step - loss: 13.3433 - mse: 252.0601\n",
            "Epoch 60/100\n",
            "2/2 [==============================] - 0s 8ms/step - loss: 10.8836 - mse: 140.1578\n",
            "Epoch 61/100\n",
            "2/2 [==============================] - 0s 8ms/step - loss: 13.5067 - mse: 244.1699\n",
            "Epoch 62/100\n",
            "2/2 [==============================] - 0s 8ms/step - loss: 17.8241 - mse: 483.6383\n",
            "Epoch 63/100\n",
            "2/2 [==============================] - 0s 7ms/step - loss: 8.7023 - mse: 91.7963\n",
            "Epoch 64/100\n",
            "2/2 [==============================] - 0s 7ms/step - loss: 16.0932 - mse: 371.4057\n",
            "Epoch 65/100\n",
            "2/2 [==============================] - 0s 8ms/step - loss: 10.7093 - mse: 145.5896\n",
            "Epoch 66/100\n",
            "2/2 [==============================] - 0s 9ms/step - loss: 22.1553 - mse: 727.1013\n",
            "Epoch 67/100\n",
            "2/2 [==============================] - 0s 9ms/step - loss: 10.2351 - mse: 120.5459\n",
            "Epoch 68/100\n",
            "2/2 [==============================] - 0s 8ms/step - loss: 13.4466 - mse: 268.4293\n",
            "Epoch 69/100\n",
            "2/2 [==============================] - 0s 7ms/step - loss: 11.4051 - mse: 162.6089\n",
            "Epoch 70/100\n",
            "2/2 [==============================] - 0s 8ms/step - loss: 13.5903 - mse: 245.3631\n",
            "Epoch 71/100\n",
            "2/2 [==============================] - 0s 9ms/step - loss: 15.6213 - mse: 346.9271\n",
            "Epoch 72/100\n",
            "2/2 [==============================] - 0s 11ms/step - loss: 11.8329 - mse: 168.2557\n",
            "Epoch 73/100\n",
            "2/2 [==============================] - 0s 8ms/step - loss: 16.6302 - mse: 372.9614\n",
            "Epoch 74/100\n",
            "2/2 [==============================] - 0s 8ms/step - loss: 24.1955 - mse: 921.4952\n",
            "Epoch 75/100\n",
            "2/2 [==============================] - 0s 8ms/step - loss: 9.6206 - mse: 148.4638\n",
            "Epoch 76/100\n",
            "2/2 [==============================] - 0s 8ms/step - loss: 12.4768 - mse: 190.0244\n",
            "Epoch 77/100\n",
            "2/2 [==============================] - 0s 8ms/step - loss: 16.7624 - mse: 436.1488\n",
            "Epoch 78/100\n",
            "2/2 [==============================] - 0s 8ms/step - loss: 9.0667 - mse: 96.6666\n",
            "Epoch 79/100\n",
            "2/2 [==============================] - 0s 8ms/step - loss: 24.1187 - mse: 876.4778\n",
            "Epoch 80/100\n",
            "2/2 [==============================] - 0s 8ms/step - loss: 26.9281 - mse: 1121.0526\n",
            "Epoch 81/100\n",
            "2/2 [==============================] - 0s 9ms/step - loss: 11.7459 - mse: 174.3739\n",
            "Epoch 82/100\n",
            "2/2 [==============================] - 0s 7ms/step - loss: 11.9681 - mse: 210.9043\n",
            "Epoch 83/100\n",
            "2/2 [==============================] - 0s 7ms/step - loss: 17.3443 - mse: 391.9479\n",
            "Epoch 84/100\n",
            "2/2 [==============================] - 0s 8ms/step - loss: 6.8249 - mse: 63.4740\n",
            "Epoch 85/100\n",
            "2/2 [==============================] - 0s 7ms/step - loss: 16.0066 - mse: 361.2491\n",
            "Epoch 86/100\n",
            "2/2 [==============================] - 0s 7ms/step - loss: 15.8504 - mse: 334.7016\n",
            "Epoch 87/100\n",
            "2/2 [==============================] - 0s 7ms/step - loss: 20.3147 - mse: 577.9664\n",
            "Epoch 88/100\n",
            "2/2 [==============================] - 0s 8ms/step - loss: 34.0996 - mse: 1707.0348\n",
            "Epoch 89/100\n",
            "2/2 [==============================] - 0s 8ms/step - loss: 10.6164 - mse: 131.8560\n",
            "Epoch 90/100\n",
            "2/2 [==============================] - 0s 7ms/step - loss: 23.5754 - mse: 804.2009\n",
            "Epoch 91/100\n",
            "2/2 [==============================] - 0s 8ms/step - loss: 11.1256 - mse: 159.8283\n",
            "Epoch 92/100\n",
            "2/2 [==============================] - 0s 6ms/step - loss: 20.4385 - mse: 578.3104\n",
            "Epoch 93/100\n",
            "2/2 [==============================] - 0s 6ms/step - loss: 6.7904 - mse: 66.9833\n",
            "Epoch 94/100\n",
            "2/2 [==============================] - 0s 7ms/step - loss: 12.9933 - mse: 229.6969\n",
            "Epoch 95/100\n",
            "2/2 [==============================] - 0s 7ms/step - loss: 18.3987 - mse: 499.2345\n",
            "Epoch 96/100\n",
            "2/2 [==============================] - 0s 15ms/step - loss: 10.3294 - mse: 177.9963\n",
            "Epoch 97/100\n",
            "2/2 [==============================] - 0s 7ms/step - loss: 14.4181 - mse: 314.2810\n",
            "Epoch 98/100\n",
            "2/2 [==============================] - 0s 7ms/step - loss: 6.5543 - mse: 60.0890\n",
            "Epoch 99/100\n",
            "2/2 [==============================] - 0s 8ms/step - loss: 12.5802 - mse: 229.0149\n",
            "Epoch 100/100\n",
            "2/2 [==============================] - 0s 7ms/step - loss: 19.3922 - mse: 552.5038\n"
          ]
        },
        {
          "output_type": "execute_result",
          "data": {
            "text/plain": [
              "<keras.callbacks.History at 0x7f8de901bb50>"
            ]
          },
          "metadata": {},
          "execution_count": 61
        }
      ]
    },
    {
      "cell_type": "code",
      "source": [
        "# make abnd plot predictions\n",
        "y_preds_2 = model2.predict(X_test)\n",
        "plot_predictions(predictions =y_preds_2)\n"
      ],
      "metadata": {
        "id": "fOTGljNyfz-h",
        "colab": {
          "base_uri": "https://localhost:8080/",
          "height": 672
        },
        "outputId": "04c35ae7-d559-4ac7-be41-fe0a01dbb3de"
      },
      "execution_count": null,
      "outputs": [
        {
          "output_type": "stream",
          "name": "stderr",
          "text": [
            "WARNING:tensorflow:6 out of the last 6 calls to <function Model.make_predict_function.<locals>.predict_function at 0x7f8de91da320> triggered tf.function retracing. Tracing is expensive and the excessive number of tracings could be due to (1) creating @tf.function repeatedly in a loop, (2) passing tensors with different shapes, (3) passing Python objects instead of tensors. For (1), please define your @tf.function outside of the loop. For (2), @tf.function has reduce_retracing=True option that can avoid unnecessary retracing. For (3), please refer to https://www.tensorflow.org/guide/function#controlling_retracing and https://www.tensorflow.org/api_docs/python/tf/function for  more details.\n"
          ]
        },
        {
          "output_type": "stream",
          "name": "stdout",
          "text": [
            "1/1 [==============================] - 0s 57ms/step\n"
          ]
        },
        {
          "output_type": "display_data",
          "data": {
            "text/plain": [
              "<Figure size 1000x700 with 0 Axes>"
            ]
          },
          "metadata": {}
        },
        {
          "output_type": "display_data",
          "data": {
            "text/plain": [
              "<Figure size 1000x700 with 1 Axes>"
            ],
            "image/png": "[encoded data removed]"
          },
          "metadata": {}
        }
      ]
    },
    {
      "cell_type": "code",
      "source": [
        "#  calculate evaluation metrics"
      ],
      "metadata": {
        "id": "f5mK2Uu0gR85"
      },
      "execution_count": null,
      "outputs": []
    },
    {
      "cell_type": "code",
      "source": [
        "mae_2  = mae(y_test , y_preds_2)\n",
        "mse_2  = mse(y_test, y_preds_2)"
      ],
      "metadata": {
        "id": "zTBtnE3BgkbT"
      },
      "execution_count": null,
      "outputs": []
    },
    {
      "cell_type": "code",
      "source": [
        "mse_2,mae_2"
      ],
      "metadata": {
        "id": "pizsZS9ihgzU",
        "colab": {
          "base_uri": "https://localhost:8080/"
        },
        "outputId": "37e4b507-5804-486d-b0c4-5f9216122bb9"
      },
      "execution_count": null,
      "outputs": [
        {
          "output_type": "execute_result",
          "data": {
            "text/plain": [
              "(<tf.Tensor: shape=(), dtype=float32, numpy=190.15044>,\n",
              " <tf.Tensor: shape=(), dtype=float32, numpy=13.417398>)"
            ]
          },
          "metadata": {},
          "execution_count": 65
        }
      ]
    },
    {
      "cell_type": "code",
      "source": [
        "# model 3\n",
        "\n",
        "tf.random.set_seed(42)\n",
        "\n",
        "# create\n",
        "model3 = tf.keras.Sequential([\n",
        "    tf.keras.layers.Dense(250),\n",
        "    tf.keras.layers.Dense(1)\n",
        "])\n",
        "\n",
        "#  compile\n",
        "\n",
        "model3.compile(\n",
        "    loss = tf.keras.losses.mae,\n",
        "    optimizer = tf.keras.optimizers.SGD(),\n",
        "    metrics =['mae']\n",
        ")\n",
        "\n",
        "model3.fit(tf.expand_dims(X_train, axis =-1), y_train, epochs = 500)"
      ],
      "metadata": {
        "id": "zo8XVHn1hrhl",
        "colab": {
          "base_uri": "https://localhost:8080/"
        },
        "outputId": "b3a2e3f4-7040-4b51-8a30-09747fb8b7dc"
      },
      "execution_count": null,
      "outputs": [
        {
          "output_type": "stream",
          "name": "stdout",
          "text": [
            "Epoch 1/500\n",
            "2/2 [==============================] - 0s 13ms/step - loss: 41.5198 - mae: 41.5198\n",
            "Epoch 2/500\n",
            "2/2 [==============================] - 0s 8ms/step - loss: 31.6144 - mae: 31.6144\n",
            "Epoch 3/500\n",
            "2/2 [==============================] - 0s 9ms/step - loss: 36.3279 - mae: 36.3279\n",
            "Epoch 4/500\n",
            "2/2 [==============================] - 0s 8ms/step - loss: 28.8039 - mae: 28.8039\n",
            "Epoch 5/500\n",
            "2/2 [==============================] - 0s 10ms/step - loss: 15.6242 - mae: 15.6242\n",
            "Epoch 6/500\n",
            "2/2 [==============================] - 0s 11ms/step - loss: 12.3950 - mae: 12.3950\n",
            "Epoch 7/500\n",
            "2/2 [==============================] - 0s 9ms/step - loss: 11.6758 - mae: 11.6758\n",
            "Epoch 8/500\n",
            "2/2 [==============================] - 0s 8ms/step - loss: 12.0787 - mae: 12.0787\n",
            "Epoch 9/500\n",
            "2/2 [==============================] - 0s 8ms/step - loss: 37.8074 - mae: 37.8074\n",
            "Epoch 10/500\n",
            "2/2 [==============================] - 0s 7ms/step - loss: 25.4263 - mae: 25.4263\n",
            "Epoch 11/500\n",
            "2/2 [==============================] - 0s 9ms/step - loss: 10.2535 - mae: 10.2535\n",
            "Epoch 12/500\n",
            "2/2 [==============================] - 0s 8ms/step - loss: 25.3617 - mae: 25.3617\n",
            "Epoch 13/500\n",
            "2/2 [==============================] - 0s 9ms/step - loss: 16.9419 - mae: 16.9419\n",
            "Epoch 14/500\n",
            "2/2 [==============================] - 0s 9ms/step - loss: 25.8337 - mae: 25.8337\n",
            "Epoch 15/500\n",
            "2/2 [==============================] - 0s 8ms/step - loss: 17.6663 - mae: 17.6663\n",
            "Epoch 16/500\n",
            "2/2 [==============================] - 0s 8ms/step - loss: 10.0766 - mae: 10.0766\n",
            "Epoch 17/500\n",
            "2/2 [==============================] - 0s 8ms/step - loss: 18.6696 - mae: 18.6696\n",
            "Epoch 18/500\n",
            "2/2 [==============================] - 0s 9ms/step - loss: 11.7923 - mae: 11.7923\n",
            "Epoch 19/500\n",
            "2/2 [==============================] - 0s 9ms/step - loss: 16.5069 - mae: 16.5069\n",
            "Epoch 20/500\n",
            "2/2 [==============================] - 0s 8ms/step - loss: 8.2395 - mae: 8.2395\n",
            "Epoch 21/500\n",
            "2/2 [==============================] - 0s 8ms/step - loss: 14.4123 - mae: 14.4123\n",
            "Epoch 22/500\n",
            "2/2 [==============================] - 0s 8ms/step - loss: 12.8256 - mae: 12.8256\n",
            "Epoch 23/500\n",
            "2/2 [==============================] - 0s 9ms/step - loss: 15.4637 - mae: 15.4637\n",
            "Epoch 24/500\n",
            "2/2 [==============================] - 0s 8ms/step - loss: 15.2527 - mae: 15.2527\n",
            "Epoch 25/500\n",
            "2/2 [==============================] - 0s 8ms/step - loss: 14.3310 - mae: 14.3310\n",
            "Epoch 26/500\n",
            "2/2 [==============================] - 0s 11ms/step - loss: 19.3276 - mae: 19.3276\n",
            "Epoch 27/500\n",
            "2/2 [==============================] - 0s 11ms/step - loss: 11.4619 - mae: 11.4619\n",
            "Epoch 28/500\n",
            "2/2 [==============================] - 0s 8ms/step - loss: 29.1542 - mae: 29.1542\n",
            "Epoch 29/500\n",
            "2/2 [==============================] - 0s 7ms/step - loss: 9.2520 - mae: 9.2520\n",
            "Epoch 30/500\n",
            "2/2 [==============================] - 0s 8ms/step - loss: 29.8770 - mae: 29.8770\n",
            "Epoch 31/500\n",
            "2/2 [==============================] - 0s 10ms/step - loss: 54.2195 - mae: 54.2195\n",
            "Epoch 32/500\n",
            "2/2 [==============================] - 0s 8ms/step - loss: 9.5804 - mae: 9.5804\n",
            "Epoch 33/500\n",
            "2/2 [==============================] - 0s 7ms/step - loss: 12.1736 - mae: 12.1736\n",
            "Epoch 34/500\n",
            "2/2 [==============================] - 0s 7ms/step - loss: 23.9439 - mae: 23.9439\n",
            "Epoch 35/500\n",
            "2/2 [==============================] - 0s 7ms/step - loss: 12.6173 - mae: 12.6173\n",
            "Epoch 36/500\n",
            "2/2 [==============================] - 0s 7ms/step - loss: 21.5203 - mae: 21.5203\n",
            "Epoch 37/500\n",
            "2/2 [==============================] - 0s 7ms/step - loss: 11.3873 - mae: 11.3873\n",
            "Epoch 38/500\n",
            "2/2 [==============================] - 0s 6ms/step - loss: 13.4765 - mae: 13.4765\n",
            "Epoch 39/500\n",
            "2/2 [==============================] - 0s 7ms/step - loss: 10.7967 - mae: 10.7967\n",
            "Epoch 40/500\n",
            "2/2 [==============================] - 0s 7ms/step - loss: 16.6166 - mae: 16.6166\n",
            "Epoch 41/500\n",
            "2/2 [==============================] - 0s 7ms/step - loss: 10.9826 - mae: 10.9826\n",
            "Epoch 42/500\n",
            "2/2 [==============================] - 0s 10ms/step - loss: 9.3077 - mae: 9.3077\n",
            "Epoch 43/500\n",
            "2/2 [==============================] - 0s 8ms/step - loss: 9.5954 - mae: 9.5954\n",
            "Epoch 44/500\n",
            "2/2 [==============================] - 0s 9ms/step - loss: 28.0238 - mae: 28.0238\n",
            "Epoch 45/500\n",
            "2/2 [==============================] - 0s 9ms/step - loss: 11.2932 - mae: 11.2932\n",
            "Epoch 46/500\n",
            "2/2 [==============================] - 0s 8ms/step - loss: 14.0888 - mae: 14.0888\n",
            "Epoch 47/500\n",
            "2/2 [==============================] - 0s 9ms/step - loss: 13.4954 - mae: 13.4954\n",
            "Epoch 48/500\n",
            "2/2 [==============================] - 0s 8ms/step - loss: 17.3287 - mae: 17.3287\n",
            "Epoch 49/500\n",
            "2/2 [==============================] - 0s 9ms/step - loss: 9.5230 - mae: 9.5230\n",
            "Epoch 50/500\n",
            "2/2 [==============================] - 0s 8ms/step - loss: 13.7188 - mae: 13.7188\n",
            "Epoch 51/500\n",
            "2/2 [==============================] - 0s 7ms/step - loss: 11.5651 - mae: 11.5651\n",
            "Epoch 52/500\n",
            "2/2 [==============================] - 0s 9ms/step - loss: 30.2555 - mae: 30.2555\n",
            "Epoch 53/500\n",
            "2/2 [==============================] - 0s 8ms/step - loss: 13.7436 - mae: 13.7436\n",
            "Epoch 54/500\n",
            "2/2 [==============================] - 0s 7ms/step - loss: 26.4698 - mae: 26.4698\n",
            "Epoch 55/500\n",
            "2/2 [==============================] - 0s 15ms/step - loss: 26.0632 - mae: 26.0632\n",
            "Epoch 56/500\n",
            "2/2 [==============================] - 0s 8ms/step - loss: 11.2485 - mae: 11.2485\n",
            "Epoch 57/500\n",
            "2/2 [==============================] - 0s 10ms/step - loss: 13.2315 - mae: 13.2315\n",
            "Epoch 58/500\n",
            "2/2 [==============================] - 0s 6ms/step - loss: 9.8776 - mae: 9.8776\n",
            "Epoch 59/500\n",
            "2/2 [==============================] - 0s 7ms/step - loss: 13.4267 - mae: 13.4267\n",
            "Epoch 60/500\n",
            "2/2 [==============================] - 0s 9ms/step - loss: 10.9448 - mae: 10.9448\n",
            "Epoch 61/500\n",
            "2/2 [==============================] - 0s 8ms/step - loss: 13.5738 - mae: 13.5738\n",
            "Epoch 62/500\n",
            "2/2 [==============================] - 0s 7ms/step - loss: 17.9102 - mae: 17.9102\n",
            "Epoch 63/500\n",
            "2/2 [==============================] - 0s 7ms/step - loss: 8.7431 - mae: 8.7431\n",
            "Epoch 64/500\n",
            "2/2 [==============================] - 0s 7ms/step - loss: 16.1624 - mae: 16.1624\n",
            "Epoch 65/500\n",
            "2/2 [==============================] - 0s 9ms/step - loss: 10.7537 - mae: 10.7537\n",
            "Epoch 66/500\n",
            "2/2 [==============================] - 0s 8ms/step - loss: 22.2247 - mae: 22.2247\n",
            "Epoch 67/500\n",
            "2/2 [==============================] - 0s 8ms/step - loss: 10.2781 - mae: 10.2781\n",
            "Epoch 68/500\n",
            "2/2 [==============================] - 0s 7ms/step - loss: 13.4920 - mae: 13.4920\n",
            "Epoch 69/500\n",
            "2/2 [==============================] - 0s 7ms/step - loss: 11.4470 - mae: 11.4470\n",
            "Epoch 70/500\n",
            "2/2 [==============================] - 0s 8ms/step - loss: 13.6339 - mae: 13.6339\n",
            "Epoch 71/500\n",
            "2/2 [==============================] - 0s 9ms/step - loss: 15.6545 - mae: 15.6545\n",
            "Epoch 72/500\n",
            "2/2 [==============================] - 0s 7ms/step - loss: 11.8662 - mae: 11.8662\n",
            "Epoch 73/500\n",
            "2/2 [==============================] - 0s 8ms/step - loss: 16.6530 - mae: 16.6530\n",
            "Epoch 74/500\n",
            "2/2 [==============================] - 0s 8ms/step - loss: 24.1987 - mae: 24.1987\n",
            "Epoch 75/500\n",
            "2/2 [==============================] - 0s 7ms/step - loss: 9.6443 - mae: 9.6443\n",
            "Epoch 76/500\n",
            "2/2 [==============================] - 0s 7ms/step - loss: 12.4991 - mae: 12.4991\n",
            "Epoch 77/500\n",
            "2/2 [==============================] - 0s 7ms/step - loss: 16.7555 - mae: 16.7555\n",
            "Epoch 78/500\n",
            "2/2 [==============================] - 0s 8ms/step - loss: 9.0897 - mae: 9.0897\n",
            "Epoch 79/500\n",
            "2/2 [==============================] - 0s 7ms/step - loss: 24.0876 - mae: 24.0876\n",
            "Epoch 80/500\n",
            "2/2 [==============================] - 0s 9ms/step - loss: 26.8921 - mae: 26.8921\n",
            "Epoch 81/500\n",
            "2/2 [==============================] - 0s 7ms/step - loss: 11.7521 - mae: 11.7521\n",
            "Epoch 82/500\n",
            "2/2 [==============================] - 0s 8ms/step - loss: 11.9902 - mae: 11.9902\n",
            "Epoch 83/500\n",
            "2/2 [==============================] - 0s 11ms/step - loss: 17.3771 - mae: 17.3771\n",
            "Epoch 84/500\n",
            "2/2 [==============================] - 0s 11ms/step - loss: 7.2686 - mae: 7.2686\n",
            "Epoch 85/500\n",
            "2/2 [==============================] - 0s 9ms/step - loss: 14.9357 - mae: 14.9357\n",
            "Epoch 86/500\n",
            "2/2 [==============================] - 0s 7ms/step - loss: 15.2647 - mae: 15.2647\n",
            "Epoch 87/500\n",
            "2/2 [==============================] - 0s 7ms/step - loss: 19.0586 - mae: 19.0586\n",
            "Epoch 88/500\n",
            "2/2 [==============================] - 0s 11ms/step - loss: 29.9587 - mae: 29.9587\n",
            "Epoch 89/500\n",
            "2/2 [==============================] - 0s 8ms/step - loss: 10.2088 - mae: 10.2088\n",
            "Epoch 90/500\n",
            "2/2 [==============================] - 0s 8ms/step - loss: 21.6300 - mae: 21.6300\n",
            "Epoch 91/500\n",
            "2/2 [==============================] - 0s 10ms/step - loss: 10.6105 - mae: 10.6105\n",
            "Epoch 92/500\n",
            "2/2 [==============================] - 0s 8ms/step - loss: 18.4899 - mae: 18.4899\n",
            "Epoch 93/500\n",
            "2/2 [==============================] - 0s 8ms/step - loss: 7.4340 - mae: 7.4340\n",
            "Epoch 94/500\n",
            "2/2 [==============================] - 0s 9ms/step - loss: 17.8170 - mae: 17.8170\n",
            "Epoch 95/500\n",
            "2/2 [==============================] - 0s 9ms/step - loss: 11.1563 - mae: 11.1563\n",
            "Epoch 96/500\n",
            "2/2 [==============================] - 0s 9ms/step - loss: 19.5131 - mae: 19.5131\n",
            "Epoch 97/500\n",
            "2/2 [==============================] - 0s 8ms/step - loss: 12.5368 - mae: 12.5368\n",
            "Epoch 98/500\n",
            "2/2 [==============================] - 0s 9ms/step - loss: 10.3211 - mae: 10.3211\n",
            "Epoch 99/500\n",
            "2/2 [==============================] - 0s 9ms/step - loss: 13.8628 - mae: 13.8628\n",
            "Epoch 100/500\n",
            "2/2 [==============================] - 0s 9ms/step - loss: 20.1763 - mae: 20.1763\n",
            "Epoch 101/500\n",
            "2/2 [==============================] - 0s 9ms/step - loss: 11.4422 - mae: 11.4422\n",
            "Epoch 102/500\n",
            "2/2 [==============================] - 0s 9ms/step - loss: 17.4371 - mae: 17.4371\n",
            "Epoch 103/500\n",
            "2/2 [==============================] - 0s 8ms/step - loss: 7.7754 - mae: 7.7754\n",
            "Epoch 104/500\n",
            "2/2 [==============================] - 0s 8ms/step - loss: 22.1040 - mae: 22.1040\n",
            "Epoch 105/500\n",
            "2/2 [==============================] - 0s 8ms/step - loss: 20.7146 - mae: 20.7146\n",
            "Epoch 106/500\n",
            "2/2 [==============================] - 0s 9ms/step - loss: 10.0525 - mae: 10.0525\n",
            "Epoch 107/500\n",
            "2/2 [==============================] - 0s 8ms/step - loss: 24.6297 - mae: 24.6297\n",
            "Epoch 108/500\n",
            "2/2 [==============================] - 0s 9ms/step - loss: 15.4864 - mae: 15.4864\n",
            "Epoch 109/500\n",
            "2/2 [==============================] - 0s 9ms/step - loss: 8.1908 - mae: 8.1908\n",
            "Epoch 110/500\n",
            "2/2 [==============================] - 0s 9ms/step - loss: 6.7393 - mae: 6.7393\n",
            "Epoch 111/500\n",
            "2/2 [==============================] - 0s 9ms/step - loss: 11.0013 - mae: 11.0013\n",
            "Epoch 112/500\n",
            "2/2 [==============================] - 0s 8ms/step - loss: 19.8934 - mae: 19.8934\n",
            "Epoch 113/500\n",
            "2/2 [==============================] - 0s 7ms/step - loss: 14.6904 - mae: 14.6904\n",
            "Epoch 114/500\n",
            "2/2 [==============================] - 0s 7ms/step - loss: 18.4321 - mae: 18.4321\n",
            "Epoch 115/500\n",
            "2/2 [==============================] - 0s 7ms/step - loss: 10.9068 - mae: 10.9068\n",
            "Epoch 116/500\n",
            "2/2 [==============================] - 0s 8ms/step - loss: 22.4147 - mae: 22.4147\n",
            "Epoch 117/500\n",
            "2/2 [==============================] - 0s 8ms/step - loss: 9.3541 - mae: 9.3541\n",
            "Epoch 118/500\n",
            "2/2 [==============================] - 0s 7ms/step - loss: 10.3799 - mae: 10.3799\n",
            "Epoch 119/500\n",
            "2/2 [==============================] - 0s 7ms/step - loss: 8.0290 - mae: 8.0290\n",
            "Epoch 120/500\n",
            "2/2 [==============================] - 0s 8ms/step - loss: 37.8107 - mae: 37.8107\n",
            "Epoch 121/500\n",
            "2/2 [==============================] - 0s 8ms/step - loss: 10.6844 - mae: 10.6844\n",
            "Epoch 122/500\n",
            "2/2 [==============================] - 0s 8ms/step - loss: 28.3374 - mae: 28.3374\n",
            "Epoch 123/500\n",
            "2/2 [==============================] - 0s 9ms/step - loss: 32.9334 - mae: 32.9334\n",
            "Epoch 124/500\n",
            "2/2 [==============================] - 0s 10ms/step - loss: 19.6653 - mae: 19.6653\n",
            "Epoch 125/500\n",
            "2/2 [==============================] - 0s 10ms/step - loss: 7.0550 - mae: 7.0550\n",
            "Epoch 126/500\n",
            "2/2 [==============================] - 0s 8ms/step - loss: 21.8181 - mae: 21.8181\n",
            "Epoch 127/500\n",
            "2/2 [==============================] - 0s 8ms/step - loss: 8.0212 - mae: 8.0212\n",
            "Epoch 128/500\n",
            "2/2 [==============================] - 0s 7ms/step - loss: 21.0525 - mae: 21.0525\n",
            "Epoch 129/500\n",
            "2/2 [==============================] - 0s 9ms/step - loss: 9.0506 - mae: 9.0506\n",
            "Epoch 130/500\n",
            "2/2 [==============================] - 0s 10ms/step - loss: 24.0192 - mae: 24.0192\n",
            "Epoch 131/500\n",
            "2/2 [==============================] - 0s 11ms/step - loss: 9.7888 - mae: 9.7888\n",
            "Epoch 132/500\n",
            "2/2 [==============================] - 0s 8ms/step - loss: 18.2694 - mae: 18.2694\n",
            "Epoch 133/500\n",
            "2/2 [==============================] - 0s 8ms/step - loss: 7.6145 - mae: 7.6145\n",
            "Epoch 134/500\n",
            "2/2 [==============================] - 0s 8ms/step - loss: 18.5302 - mae: 18.5302\n",
            "Epoch 135/500\n",
            "2/2 [==============================] - 0s 8ms/step - loss: 10.5557 - mae: 10.5557\n",
            "Epoch 136/500\n",
            "2/2 [==============================] - 0s 9ms/step - loss: 18.2173 - mae: 18.2173\n",
            "Epoch 137/500\n",
            "2/2 [==============================] - 0s 10ms/step - loss: 23.0803 - mae: 23.0803\n",
            "Epoch 138/500\n",
            "2/2 [==============================] - 0s 12ms/step - loss: 9.1324 - mae: 9.1324\n",
            "Epoch 139/500\n",
            "2/2 [==============================] - 0s 11ms/step - loss: 8.9251 - mae: 8.9251\n",
            "Epoch 140/500\n",
            "2/2 [==============================] - 0s 8ms/step - loss: 16.3853 - mae: 16.3853\n",
            "Epoch 141/500\n",
            "2/2 [==============================] - 0s 8ms/step - loss: 8.4561 - mae: 8.4561\n",
            "Epoch 142/500\n",
            "2/2 [==============================] - 0s 7ms/step - loss: 36.7077 - mae: 36.7077\n",
            "Epoch 143/500\n",
            "2/2 [==============================] - 0s 8ms/step - loss: 25.4081 - mae: 25.4081\n",
            "Epoch 144/500\n",
            "2/2 [==============================] - 0s 7ms/step - loss: 9.5786 - mae: 9.5786\n",
            "Epoch 145/500\n",
            "2/2 [==============================] - 0s 8ms/step - loss: 26.6725 - mae: 26.6725\n",
            "Epoch 146/500\n",
            "2/2 [==============================] - 0s 8ms/step - loss: 8.6741 - mae: 8.6741\n",
            "Epoch 147/500\n",
            "2/2 [==============================] - 0s 8ms/step - loss: 15.7002 - mae: 15.7002\n",
            "Epoch 148/500\n",
            "2/2 [==============================] - 0s 8ms/step - loss: 18.4085 - mae: 18.4085\n",
            "Epoch 149/500\n",
            "2/2 [==============================] - 0s 9ms/step - loss: 8.1564 - mae: 8.1564\n",
            "Epoch 150/500\n",
            "2/2 [==============================] - 0s 7ms/step - loss: 7.5041 - mae: 7.5041\n",
            "Epoch 151/500\n",
            "2/2 [==============================] - 0s 11ms/step - loss: 18.1226 - mae: 18.1226\n",
            "Epoch 152/500\n",
            "2/2 [==============================] - 0s 7ms/step - loss: 10.2689 - mae: 10.2689\n",
            "Epoch 153/500\n",
            "2/2 [==============================] - 0s 12ms/step - loss: 29.2770 - mae: 29.2770\n",
            "Epoch 154/500\n",
            "2/2 [==============================] - 0s 8ms/step - loss: 10.6484 - mae: 10.6484\n",
            "Epoch 155/500\n",
            "2/2 [==============================] - 0s 8ms/step - loss: 15.5376 - mae: 15.5376\n",
            "Epoch 156/500\n",
            "2/2 [==============================] - 0s 7ms/step - loss: 17.1898 - mae: 17.1898\n",
            "Epoch 157/500\n",
            "2/2 [==============================] - 0s 7ms/step - loss: 32.3813 - mae: 32.3813\n",
            "Epoch 158/500\n",
            "2/2 [==============================] - 0s 7ms/step - loss: 10.6140 - mae: 10.6140\n",
            "Epoch 159/500\n",
            "2/2 [==============================] - 0s 8ms/step - loss: 8.8804 - mae: 8.8804\n",
            "Epoch 160/500\n",
            "2/2 [==============================] - 0s 8ms/step - loss: 21.7969 - mae: 21.7969\n",
            "Epoch 161/500\n",
            "2/2 [==============================] - 0s 8ms/step - loss: 11.0842 - mae: 11.0842\n",
            "Epoch 162/500\n",
            "2/2 [==============================] - 0s 7ms/step - loss: 21.3281 - mae: 21.3281\n",
            "Epoch 163/500\n",
            "2/2 [==============================] - 0s 8ms/step - loss: 18.8170 - mae: 18.8170\n",
            "Epoch 164/500\n",
            "2/2 [==============================] - 0s 7ms/step - loss: 12.6616 - mae: 12.6616\n",
            "Epoch 165/500\n",
            "2/2 [==============================] - 0s 7ms/step - loss: 12.7499 - mae: 12.7499\n",
            "Epoch 166/500\n",
            "2/2 [==============================] - 0s 8ms/step - loss: 18.9435 - mae: 18.9435\n",
            "Epoch 167/500\n",
            "2/2 [==============================] - 0s 11ms/step - loss: 26.7300 - mae: 26.7300\n",
            "Epoch 168/500\n",
            "2/2 [==============================] - 0s 8ms/step - loss: 9.9830 - mae: 9.9830\n",
            "Epoch 169/500\n",
            "2/2 [==============================] - 0s 7ms/step - loss: 22.9728 - mae: 22.9728\n",
            "Epoch 170/500\n",
            "2/2 [==============================] - 0s 8ms/step - loss: 10.1079 - mae: 10.1079\n",
            "Epoch 171/500\n",
            "2/2 [==============================] - 0s 7ms/step - loss: 17.8845 - mae: 17.8845\n",
            "Epoch 172/500\n",
            "2/2 [==============================] - 0s 7ms/step - loss: 29.2350 - mae: 29.2350\n",
            "Epoch 173/500\n",
            "2/2 [==============================] - 0s 9ms/step - loss: 16.8566 - mae: 16.8566\n",
            "Epoch 174/500\n",
            "2/2 [==============================] - 0s 12ms/step - loss: 11.1983 - mae: 11.1983\n",
            "Epoch 175/500\n",
            "2/2 [==============================] - 0s 9ms/step - loss: 27.4861 - mae: 27.4861\n",
            "Epoch 176/500\n",
            "2/2 [==============================] - 0s 8ms/step - loss: 8.4185 - mae: 8.4185\n",
            "Epoch 177/500\n",
            "2/2 [==============================] - 0s 13ms/step - loss: 9.3837 - mae: 9.3837\n",
            "Epoch 178/500\n",
            "2/2 [==============================] - 0s 9ms/step - loss: 18.4499 - mae: 18.4499\n",
            "Epoch 179/500\n",
            "2/2 [==============================] - 0s 8ms/step - loss: 10.4746 - mae: 10.4746\n",
            "Epoch 180/500\n",
            "2/2 [==============================] - 0s 8ms/step - loss: 7.9918 - mae: 7.9918\n",
            "Epoch 181/500\n",
            "2/2 [==============================] - 0s 8ms/step - loss: 17.6387 - mae: 17.6387\n",
            "Epoch 182/500\n",
            "2/2 [==============================] - 0s 8ms/step - loss: 11.1566 - mae: 11.1566\n",
            "Epoch 183/500\n",
            "2/2 [==============================] - 0s 9ms/step - loss: 11.8223 - mae: 11.8223\n",
            "Epoch 184/500\n",
            "2/2 [==============================] - 0s 11ms/step - loss: 30.7280 - mae: 30.7280\n",
            "Epoch 185/500\n",
            "2/2 [==============================] - 0s 13ms/step - loss: 7.5706 - mae: 7.5706\n",
            "Epoch 186/500\n",
            "2/2 [==============================] - 0s 8ms/step - loss: 15.9159 - mae: 15.9159\n",
            "Epoch 187/500\n",
            "2/2 [==============================] - 0s 13ms/step - loss: 8.6290 - mae: 8.6290\n",
            "Epoch 188/500\n",
            "2/2 [==============================] - 0s 10ms/step - loss: 28.9890 - mae: 28.9890\n",
            "Epoch 189/500\n",
            "2/2 [==============================] - 0s 8ms/step - loss: 13.1339 - mae: 13.1339\n",
            "Epoch 190/500\n",
            "2/2 [==============================] - 0s 10ms/step - loss: 18.2733 - mae: 18.2733\n",
            "Epoch 191/500\n",
            "2/2 [==============================] - 0s 10ms/step - loss: 13.6947 - mae: 13.6947\n",
            "Epoch 192/500\n",
            "2/2 [==============================] - 0s 10ms/step - loss: 13.7098 - mae: 13.7098\n",
            "Epoch 193/500\n",
            "2/2 [==============================] - 0s 14ms/step - loss: 28.5456 - mae: 28.5456\n",
            "Epoch 194/500\n",
            "2/2 [==============================] - 0s 9ms/step - loss: 7.1530 - mae: 7.1530\n",
            "Epoch 195/500\n",
            "2/2 [==============================] - 0s 9ms/step - loss: 7.0890 - mae: 7.0890\n",
            "Epoch 196/500\n",
            "2/2 [==============================] - 0s 8ms/step - loss: 21.9699 - mae: 21.9699\n",
            "Epoch 197/500\n",
            "2/2 [==============================] - 0s 8ms/step - loss: 20.9297 - mae: 20.9297\n",
            "Epoch 198/500\n",
            "2/2 [==============================] - 0s 10ms/step - loss: 12.5336 - mae: 12.5336\n",
            "Epoch 199/500\n",
            "2/2 [==============================] - 0s 8ms/step - loss: 17.9809 - mae: 17.9809\n",
            "Epoch 200/500\n",
            "2/2 [==============================] - 0s 8ms/step - loss: 13.8176 - mae: 13.8176\n",
            "Epoch 201/500\n",
            "2/2 [==============================] - 0s 10ms/step - loss: 6.0722 - mae: 6.0722\n",
            "Epoch 202/500\n",
            "2/2 [==============================] - 0s 8ms/step - loss: 22.7871 - mae: 22.7871\n",
            "Epoch 203/500\n",
            "2/2 [==============================] - 0s 11ms/step - loss: 8.9738 - mae: 8.9738\n",
            "Epoch 204/500\n",
            "2/2 [==============================] - 0s 8ms/step - loss: 18.7631 - mae: 18.7631\n",
            "Epoch 205/500\n",
            "2/2 [==============================] - 0s 9ms/step - loss: 9.3634 - mae: 9.3634\n",
            "Epoch 206/500\n",
            "2/2 [==============================] - 0s 9ms/step - loss: 10.4328 - mae: 10.4328\n",
            "Epoch 207/500\n",
            "2/2 [==============================] - 0s 8ms/step - loss: 21.0008 - mae: 21.0008\n",
            "Epoch 208/500\n",
            "2/2 [==============================] - 0s 8ms/step - loss: 16.4130 - mae: 16.4130\n",
            "Epoch 209/500\n",
            "2/2 [==============================] - 0s 11ms/step - loss: 14.3008 - mae: 14.3008\n",
            "Epoch 210/500\n",
            "2/2 [==============================] - 0s 8ms/step - loss: 19.2793 - mae: 19.2793\n",
            "Epoch 211/500\n",
            "2/2 [==============================] - 0s 14ms/step - loss: 10.3105 - mae: 10.3105\n",
            "Epoch 212/500\n",
            "2/2 [==============================] - 0s 9ms/step - loss: 20.0145 - mae: 20.0145\n",
            "Epoch 213/500\n",
            "2/2 [==============================] - 0s 10ms/step - loss: 15.1231 - mae: 15.1231\n",
            "Epoch 214/500\n",
            "2/2 [==============================] - 0s 8ms/step - loss: 14.6468 - mae: 14.6468\n",
            "Epoch 215/500\n",
            "2/2 [==============================] - 0s 8ms/step - loss: 23.3996 - mae: 23.3996\n",
            "Epoch 216/500\n",
            "2/2 [==============================] - 0s 9ms/step - loss: 12.9101 - mae: 12.9101\n",
            "Epoch 217/500\n",
            "2/2 [==============================] - 0s 10ms/step - loss: 12.0711 - mae: 12.0711\n",
            "Epoch 218/500\n",
            "2/2 [==============================] - 0s 10ms/step - loss: 17.0951 - mae: 17.0951\n",
            "Epoch 219/500\n",
            "2/2 [==============================] - 0s 9ms/step - loss: 9.4990 - mae: 9.4990\n",
            "Epoch 220/500\n",
            "2/2 [==============================] - 0s 9ms/step - loss: 13.8734 - mae: 13.8734\n",
            "Epoch 221/500\n",
            "2/2 [==============================] - 0s 8ms/step - loss: 32.2624 - mae: 32.2624\n",
            "Epoch 222/500\n",
            "2/2 [==============================] - 0s 7ms/step - loss: 11.0628 - mae: 11.0628\n",
            "Epoch 223/500\n",
            "2/2 [==============================] - 0s 8ms/step - loss: 8.6512 - mae: 8.6512\n",
            "Epoch 224/500\n",
            "2/2 [==============================] - 0s 7ms/step - loss: 14.5778 - mae: 14.5778\n",
            "Epoch 225/500\n",
            "2/2 [==============================] - 0s 7ms/step - loss: 16.5919 - mae: 16.5919\n",
            "Epoch 226/500\n",
            "2/2 [==============================] - 0s 9ms/step - loss: 15.7366 - mae: 15.7366\n",
            "Epoch 227/500\n",
            "2/2 [==============================] - 0s 9ms/step - loss: 16.2161 - mae: 16.2161\n",
            "Epoch 228/500\n",
            "2/2 [==============================] - 0s 8ms/step - loss: 9.3611 - mae: 9.3611\n",
            "Epoch 229/500\n",
            "2/2 [==============================] - 0s 9ms/step - loss: 18.0368 - mae: 18.0368\n",
            "Epoch 230/500\n",
            "2/2 [==============================] - 0s 10ms/step - loss: 15.6168 - mae: 15.6168\n",
            "Epoch 231/500\n",
            "2/2 [==============================] - 0s 10ms/step - loss: 21.1760 - mae: 21.1760\n",
            "Epoch 232/500\n",
            "2/2 [==============================] - 0s 12ms/step - loss: 25.3559 - mae: 25.3559\n",
            "Epoch 233/500\n",
            "2/2 [==============================] - 0s 10ms/step - loss: 16.3923 - mae: 16.3923\n",
            "Epoch 234/500\n",
            "2/2 [==============================] - 0s 13ms/step - loss: 7.3380 - mae: 7.3380\n",
            "Epoch 235/500\n",
            "2/2 [==============================] - 0s 9ms/step - loss: 17.0306 - mae: 17.0306\n",
            "Epoch 236/500\n",
            "2/2 [==============================] - 0s 11ms/step - loss: 7.1851 - mae: 7.1851\n",
            "Epoch 237/500\n",
            "2/2 [==============================] - 0s 12ms/step - loss: 9.2660 - mae: 9.2660\n",
            "Epoch 238/500\n",
            "2/2 [==============================] - 0s 9ms/step - loss: 8.1504 - mae: 8.1504\n",
            "Epoch 239/500\n",
            "2/2 [==============================] - 0s 9ms/step - loss: 17.0383 - mae: 17.0383\n",
            "Epoch 240/500\n",
            "2/2 [==============================] - 0s 15ms/step - loss: 8.9043 - mae: 8.9043\n",
            "Epoch 241/500\n",
            "2/2 [==============================] - 0s 8ms/step - loss: 12.7963 - mae: 12.7963\n",
            "Epoch 242/500\n",
            "2/2 [==============================] - 0s 8ms/step - loss: 10.9212 - mae: 10.9212\n",
            "Epoch 243/500\n",
            "2/2 [==============================] - 0s 8ms/step - loss: 17.3504 - mae: 17.3504\n",
            "Epoch 244/500\n",
            "2/2 [==============================] - 0s 9ms/step - loss: 14.5066 - mae: 14.5066\n",
            "Epoch 245/500\n",
            "2/2 [==============================] - 0s 10ms/step - loss: 15.0783 - mae: 15.0783\n",
            "Epoch 246/500\n",
            "2/2 [==============================] - 0s 10ms/step - loss: 16.1800 - mae: 16.1800\n",
            "Epoch 247/500\n",
            "2/2 [==============================] - 0s 12ms/step - loss: 18.1760 - mae: 18.1760\n",
            "Epoch 248/500\n",
            "2/2 [==============================] - 0s 9ms/step - loss: 13.7061 - mae: 13.7061\n",
            "Epoch 249/500\n",
            "2/2 [==============================] - 0s 9ms/step - loss: 14.8029 - mae: 14.8029\n",
            "Epoch 250/500\n",
            "2/2 [==============================] - 0s 10ms/step - loss: 23.7906 - mae: 23.7906\n",
            "Epoch 251/500\n",
            "2/2 [==============================] - 0s 10ms/step - loss: 13.5922 - mae: 13.5922\n",
            "Epoch 252/500\n",
            "2/2 [==============================] - 0s 9ms/step - loss: 22.5474 - mae: 22.5474\n",
            "Epoch 253/500\n",
            "2/2 [==============================] - 0s 8ms/step - loss: 9.8195 - mae: 9.8195\n",
            "Epoch 254/500\n",
            "2/2 [==============================] - 0s 9ms/step - loss: 15.8206 - mae: 15.8206\n",
            "Epoch 255/500\n",
            "2/2 [==============================] - 0s 7ms/step - loss: 13.5607 - mae: 13.5607\n",
            "Epoch 256/500\n",
            "2/2 [==============================] - 0s 8ms/step - loss: 9.9538 - mae: 9.9538\n",
            "Epoch 257/500\n",
            "2/2 [==============================] - 0s 8ms/step - loss: 14.6398 - mae: 14.6398\n",
            "Epoch 258/500\n",
            "2/2 [==============================] - 0s 8ms/step - loss: 5.2768 - mae: 5.2768\n",
            "Epoch 259/500\n",
            "2/2 [==============================] - 0s 9ms/step - loss: 16.6038 - mae: 16.6038\n",
            "Epoch 260/500\n",
            "2/2 [==============================] - 0s 9ms/step - loss: 49.6780 - mae: 49.6780\n",
            "Epoch 261/500\n",
            "2/2 [==============================] - 0s 8ms/step - loss: 22.5902 - mae: 22.5902\n",
            "Epoch 262/500\n",
            "2/2 [==============================] - 0s 8ms/step - loss: 4.7201 - mae: 4.7201\n",
            "Epoch 263/500\n",
            "2/2 [==============================] - 0s 8ms/step - loss: 9.3440 - mae: 9.3440\n",
            "Epoch 264/500\n",
            "2/2 [==============================] - 0s 8ms/step - loss: 22.9658 - mae: 22.9658\n",
            "Epoch 265/500\n",
            "2/2 [==============================] - 0s 7ms/step - loss: 10.7572 - mae: 10.7572\n",
            "Epoch 266/500\n",
            "2/2 [==============================] - 0s 11ms/step - loss: 13.1942 - mae: 13.1942\n",
            "Epoch 267/500\n",
            "2/2 [==============================] - 0s 9ms/step - loss: 11.0422 - mae: 11.0422\n",
            "Epoch 268/500\n",
            "2/2 [==============================] - 0s 12ms/step - loss: 21.6267 - mae: 21.6267\n",
            "Epoch 269/500\n",
            "2/2 [==============================] - 0s 9ms/step - loss: 33.1996 - mae: 33.1996\n",
            "Epoch 270/500\n",
            "2/2 [==============================] - 0s 10ms/step - loss: 9.8827 - mae: 9.8827\n",
            "Epoch 271/500\n",
            "2/2 [==============================] - 0s 12ms/step - loss: 7.7461 - mae: 7.7461\n",
            "Epoch 272/500\n",
            "2/2 [==============================] - 0s 8ms/step - loss: 28.4628 - mae: 28.4628\n",
            "Epoch 273/500\n",
            "2/2 [==============================] - 0s 8ms/step - loss: 7.4767 - mae: 7.4767\n",
            "Epoch 274/500\n",
            "2/2 [==============================] - 0s 7ms/step - loss: 6.3721 - mae: 6.3721\n",
            "Epoch 275/500\n",
            "2/2 [==============================] - 0s 7ms/step - loss: 31.8425 - mae: 31.8425\n",
            "Epoch 276/500\n",
            "2/2 [==============================] - 0s 8ms/step - loss: 4.7085 - mae: 4.7085\n",
            "Epoch 277/500\n",
            "2/2 [==============================] - 0s 7ms/step - loss: 19.7960 - mae: 19.7960\n",
            "Epoch 278/500\n",
            "2/2 [==============================] - 0s 8ms/step - loss: 6.5240 - mae: 6.5240\n",
            "Epoch 279/500\n",
            "2/2 [==============================] - 0s 8ms/step - loss: 18.7352 - mae: 18.7352\n",
            "Epoch 280/500\n",
            "2/2 [==============================] - 0s 9ms/step - loss: 29.3076 - mae: 29.3076\n",
            "Epoch 281/500\n",
            "2/2 [==============================] - 0s 9ms/step - loss: 7.4400 - mae: 7.4400\n",
            "Epoch 282/500\n",
            "2/2 [==============================] - 0s 7ms/step - loss: 14.2919 - mae: 14.2919\n",
            "Epoch 283/500\n",
            "2/2 [==============================] - 0s 8ms/step - loss: 10.4533 - mae: 10.4533\n",
            "Epoch 284/500\n",
            "2/2 [==============================] - 0s 10ms/step - loss: 25.2836 - mae: 25.2836\n",
            "Epoch 285/500\n",
            "2/2 [==============================] - 0s 7ms/step - loss: 16.0608 - mae: 16.0608\n",
            "Epoch 286/500\n",
            "2/2 [==============================] - 0s 10ms/step - loss: 5.2764 - mae: 5.2764\n",
            "Epoch 287/500\n",
            "2/2 [==============================] - 0s 7ms/step - loss: 20.8179 - mae: 20.8179\n",
            "Epoch 288/500\n",
            "2/2 [==============================] - 0s 10ms/step - loss: 27.6065 - mae: 27.6065\n",
            "Epoch 289/500\n",
            "2/2 [==============================] - 0s 8ms/step - loss: 10.4395 - mae: 10.4395\n",
            "Epoch 290/500\n",
            "2/2 [==============================] - 0s 9ms/step - loss: 16.3110 - mae: 16.3110\n",
            "Epoch 291/500\n",
            "2/2 [==============================] - 0s 7ms/step - loss: 16.4994 - mae: 16.4994\n",
            "Epoch 292/500\n",
            "2/2 [==============================] - 0s 8ms/step - loss: 7.4392 - mae: 7.4392\n",
            "Epoch 293/500\n",
            "2/2 [==============================] - 0s 16ms/step - loss: 16.5502 - mae: 16.5502\n",
            "Epoch 294/500\n",
            "2/2 [==============================] - 0s 7ms/step - loss: 25.3353 - mae: 25.3353\n",
            "Epoch 295/500\n",
            "2/2 [==============================] - 0s 7ms/step - loss: 14.5771 - mae: 14.5771\n",
            "Epoch 296/500\n",
            "2/2 [==============================] - 0s 12ms/step - loss: 4.6802 - mae: 4.6802\n",
            "Epoch 297/500\n",
            "2/2 [==============================] - 0s 8ms/step - loss: 7.2908 - mae: 7.2908\n",
            "Epoch 298/500\n",
            "2/2 [==============================] - 0s 9ms/step - loss: 19.6084 - mae: 19.6084\n",
            "Epoch 299/500\n",
            "2/2 [==============================] - 0s 9ms/step - loss: 6.6260 - mae: 6.6260\n",
            "Epoch 300/500\n",
            "2/2 [==============================] - 0s 9ms/step - loss: 22.0549 - mae: 22.0549\n",
            "Epoch 301/500\n",
            "2/2 [==============================] - 0s 9ms/step - loss: 9.1428 - mae: 9.1428\n",
            "Epoch 302/500\n",
            "2/2 [==============================] - 0s 7ms/step - loss: 11.1955 - mae: 11.1955\n",
            "Epoch 303/500\n",
            "2/2 [==============================] - 0s 7ms/step - loss: 9.3451 - mae: 9.3451\n",
            "Epoch 304/500\n",
            "2/2 [==============================] - 0s 9ms/step - loss: 23.7074 - mae: 23.7074\n",
            "Epoch 305/500\n",
            "2/2 [==============================] - 0s 9ms/step - loss: 7.9290 - mae: 7.9290\n",
            "Epoch 306/500\n",
            "2/2 [==============================] - 0s 9ms/step - loss: 23.7572 - mae: 23.7572\n",
            "Epoch 307/500\n",
            "2/2 [==============================] - 0s 10ms/step - loss: 5.8893 - mae: 5.8893\n",
            "Epoch 308/500\n",
            "2/2 [==============================] - 0s 7ms/step - loss: 21.3247 - mae: 21.3247\n",
            "Epoch 309/500\n",
            "2/2 [==============================] - 0s 9ms/step - loss: 18.4095 - mae: 18.4095\n",
            "Epoch 310/500\n",
            "2/2 [==============================] - 0s 6ms/step - loss: 4.5035 - mae: 4.5035\n",
            "Epoch 311/500\n",
            "2/2 [==============================] - 0s 10ms/step - loss: 6.5140 - mae: 6.5140\n",
            "Epoch 312/500\n",
            "2/2 [==============================] - 0s 10ms/step - loss: 35.4471 - mae: 35.4471\n",
            "Epoch 313/500\n",
            "2/2 [==============================] - 0s 10ms/step - loss: 28.9247 - mae: 28.9247\n",
            "Epoch 314/500\n",
            "2/2 [==============================] - 0s 9ms/step - loss: 11.1952 - mae: 11.1952\n",
            "Epoch 315/500\n",
            "2/2 [==============================] - 0s 6ms/step - loss: 23.5533 - mae: 23.5533\n",
            "Epoch 316/500\n",
            "2/2 [==============================] - 0s 9ms/step - loss: 14.4243 - mae: 14.4243\n",
            "Epoch 317/500\n",
            "2/2 [==============================] - 0s 9ms/step - loss: 19.9719 - mae: 19.9719\n",
            "Epoch 318/500\n",
            "2/2 [==============================] - 0s 7ms/step - loss: 8.0012 - mae: 8.0012\n",
            "Epoch 319/500\n",
            "2/2 [==============================] - 0s 8ms/step - loss: 18.1071 - mae: 18.1071\n",
            "Epoch 320/500\n",
            "2/2 [==============================] - 0s 8ms/step - loss: 10.6397 - mae: 10.6397\n",
            "Epoch 321/500\n",
            "2/2 [==============================] - 0s 10ms/step - loss: 7.0269 - mae: 7.0269\n",
            "Epoch 322/500\n",
            "2/2 [==============================] - 0s 7ms/step - loss: 8.6750 - mae: 8.6750\n",
            "Epoch 323/500\n",
            "2/2 [==============================] - 0s 10ms/step - loss: 18.3400 - mae: 18.3400\n",
            "Epoch 324/500\n",
            "2/2 [==============================] - 0s 11ms/step - loss: 6.3078 - mae: 6.3078\n",
            "Epoch 325/500\n",
            "2/2 [==============================] - 0s 9ms/step - loss: 14.6095 - mae: 14.6095\n",
            "Epoch 326/500\n",
            "2/2 [==============================] - 0s 11ms/step - loss: 6.9902 - mae: 6.9902\n",
            "Epoch 327/500\n",
            "2/2 [==============================] - 0s 8ms/step - loss: 17.6201 - mae: 17.6201\n",
            "Epoch 328/500\n",
            "2/2 [==============================] - 0s 9ms/step - loss: 14.3751 - mae: 14.3751\n",
            "Epoch 329/500\n",
            "2/2 [==============================] - 0s 9ms/step - loss: 17.6879 - mae: 17.6879\n",
            "Epoch 330/500\n",
            "2/2 [==============================] - 0s 11ms/step - loss: 6.7824 - mae: 6.7824\n",
            "Epoch 331/500\n",
            "2/2 [==============================] - 0s 10ms/step - loss: 19.7380 - mae: 19.7380\n",
            "Epoch 332/500\n",
            "2/2 [==============================] - 0s 9ms/step - loss: 10.5495 - mae: 10.5495\n",
            "Epoch 333/500\n",
            "2/2 [==============================] - 0s 7ms/step - loss: 16.3374 - mae: 16.3374\n",
            "Epoch 334/500\n",
            "2/2 [==============================] - 0s 10ms/step - loss: 9.7193 - mae: 9.7193\n",
            "Epoch 335/500\n",
            "2/2 [==============================] - 0s 9ms/step - loss: 13.0569 - mae: 13.0569\n",
            "Epoch 336/500\n",
            "2/2 [==============================] - 0s 10ms/step - loss: 32.4936 - mae: 32.4936\n",
            "Epoch 337/500\n",
            "2/2 [==============================] - 0s 8ms/step - loss: 11.0383 - mae: 11.0383\n",
            "Epoch 338/500\n",
            "2/2 [==============================] - 0s 8ms/step - loss: 19.9528 - mae: 19.9528\n",
            "Epoch 339/500\n",
            "2/2 [==============================] - 0s 7ms/step - loss: 34.3185 - mae: 34.3185\n",
            "Epoch 340/500\n",
            "2/2 [==============================] - 0s 10ms/step - loss: 8.7219 - mae: 8.7219\n",
            "Epoch 341/500\n",
            "2/2 [==============================] - 0s 9ms/step - loss: 21.9634 - mae: 21.9634\n",
            "Epoch 342/500\n",
            "2/2 [==============================] - 0s 12ms/step - loss: 13.8430 - mae: 13.8430\n",
            "Epoch 343/500\n",
            "2/2 [==============================] - 0s 10ms/step - loss: 11.6881 - mae: 11.6881\n",
            "Epoch 344/500\n",
            "2/2 [==============================] - 0s 9ms/step - loss: 10.6911 - mae: 10.6911\n",
            "Epoch 345/500\n",
            "2/2 [==============================] - 0s 9ms/step - loss: 30.9037 - mae: 30.9037\n",
            "Epoch 346/500\n",
            "2/2 [==============================] - 0s 10ms/step - loss: 10.6397 - mae: 10.6397\n",
            "Epoch 347/500\n",
            "2/2 [==============================] - 0s 8ms/step - loss: 25.5617 - mae: 25.5617\n",
            "Epoch 348/500\n",
            "2/2 [==============================] - 0s 9ms/step - loss: 13.2905 - mae: 13.2905\n",
            "Epoch 349/500\n",
            "2/2 [==============================] - 0s 9ms/step - loss: 13.0333 - mae: 13.0333\n",
            "Epoch 350/500\n",
            "2/2 [==============================] - 0s 8ms/step - loss: 15.3997 - mae: 15.3997\n",
            "Epoch 351/500\n",
            "2/2 [==============================] - 0s 11ms/step - loss: 32.8731 - mae: 32.8731\n",
            "Epoch 352/500\n",
            "2/2 [==============================] - 0s 8ms/step - loss: 14.0819 - mae: 14.0819\n",
            "Epoch 353/500\n",
            "2/2 [==============================] - 0s 9ms/step - loss: 17.7758 - mae: 17.7758\n",
            "Epoch 354/500\n",
            "2/2 [==============================] - 0s 10ms/step - loss: 11.3414 - mae: 11.3414\n",
            "Epoch 355/500\n",
            "2/2 [==============================] - 0s 7ms/step - loss: 26.7672 - mae: 26.7672\n",
            "Epoch 356/500\n",
            "2/2 [==============================] - 0s 9ms/step - loss: 10.1545 - mae: 10.1545\n",
            "Epoch 357/500\n",
            "2/2 [==============================] - 0s 10ms/step - loss: 14.7162 - mae: 14.7162\n",
            "Epoch 358/500\n",
            "2/2 [==============================] - 0s 8ms/step - loss: 14.5912 - mae: 14.5912\n",
            "Epoch 359/500\n",
            "2/2 [==============================] - 0s 8ms/step - loss: 12.3486 - mae: 12.3486\n",
            "Epoch 360/500\n",
            "2/2 [==============================] - 0s 8ms/step - loss: 20.3608 - mae: 20.3608\n",
            "Epoch 361/500\n",
            "2/2 [==============================] - 0s 7ms/step - loss: 10.8825 - mae: 10.8825\n",
            "Epoch 362/500\n",
            "2/2 [==============================] - 0s 7ms/step - loss: 6.8181 - mae: 6.8181\n",
            "Epoch 363/500\n",
            "2/2 [==============================] - 0s 10ms/step - loss: 23.7911 - mae: 23.7911\n",
            "Epoch 364/500\n",
            "2/2 [==============================] - 0s 11ms/step - loss: 29.4845 - mae: 29.4845\n",
            "Epoch 365/500\n",
            "2/2 [==============================] - 0s 8ms/step - loss: 8.2773 - mae: 8.2773\n",
            "Epoch 366/500\n",
            "2/2 [==============================] - 0s 7ms/step - loss: 6.1088 - mae: 6.1088\n",
            "Epoch 367/500\n",
            "2/2 [==============================] - 0s 7ms/step - loss: 34.5691 - mae: 34.5691\n",
            "Epoch 368/500\n",
            "2/2 [==============================] - 0s 10ms/step - loss: 7.3529 - mae: 7.3529\n",
            "Epoch 369/500\n",
            "2/2 [==============================] - 0s 11ms/step - loss: 8.7022 - mae: 8.7022\n",
            "Epoch 370/500\n",
            "2/2 [==============================] - 0s 7ms/step - loss: 14.2562 - mae: 14.2562\n",
            "Epoch 371/500\n",
            "2/2 [==============================] - 0s 9ms/step - loss: 6.8546 - mae: 6.8546\n",
            "Epoch 372/500\n",
            "2/2 [==============================] - 0s 9ms/step - loss: 6.5596 - mae: 6.5596\n",
            "Epoch 373/500\n",
            "2/2 [==============================] - 0s 8ms/step - loss: 24.2074 - mae: 24.2074\n",
            "Epoch 374/500\n",
            "2/2 [==============================] - 0s 7ms/step - loss: 10.2183 - mae: 10.2183\n",
            "Epoch 375/500\n",
            "2/2 [==============================] - 0s 8ms/step - loss: 12.8433 - mae: 12.8433\n",
            "Epoch 376/500\n",
            "2/2 [==============================] - 0s 7ms/step - loss: 14.7156 - mae: 14.7156\n",
            "Epoch 377/500\n",
            "2/2 [==============================] - 0s 6ms/step - loss: 14.6470 - mae: 14.6470\n",
            "Epoch 378/500\n",
            "2/2 [==============================] - 0s 7ms/step - loss: 16.1734 - mae: 16.1734\n",
            "Epoch 379/500\n",
            "2/2 [==============================] - 0s 8ms/step - loss: 20.5963 - mae: 20.5963\n",
            "Epoch 380/500\n",
            "2/2 [==============================] - 0s 10ms/step - loss: 34.2279 - mae: 34.2279\n",
            "Epoch 381/500\n",
            "2/2 [==============================] - 0s 9ms/step - loss: 8.8654 - mae: 8.8654\n",
            "Epoch 382/500\n",
            "2/2 [==============================] - 0s 12ms/step - loss: 9.6271 - mae: 9.6271\n",
            "Epoch 383/500\n",
            "2/2 [==============================] - 0s 8ms/step - loss: 5.7724 - mae: 5.7724\n",
            "Epoch 384/500\n",
            "2/2 [==============================] - 0s 7ms/step - loss: 8.7054 - mae: 8.7054\n",
            "Epoch 385/500\n",
            "2/2 [==============================] - 0s 9ms/step - loss: 4.9647 - mae: 4.9647\n",
            "Epoch 386/500\n",
            "2/2 [==============================] - 0s 9ms/step - loss: 25.1143 - mae: 25.1143\n",
            "Epoch 387/500\n",
            "2/2 [==============================] - 0s 7ms/step - loss: 15.1415 - mae: 15.1415\n",
            "Epoch 388/500\n",
            "2/2 [==============================] - 0s 7ms/step - loss: 6.6445 - mae: 6.6445\n",
            "Epoch 389/500\n",
            "2/2 [==============================] - 0s 8ms/step - loss: 17.5600 - mae: 17.5600\n",
            "Epoch 390/500\n",
            "2/2 [==============================] - 0s 7ms/step - loss: 23.8444 - mae: 23.8444\n",
            "Epoch 391/500\n",
            "2/2 [==============================] - 0s 7ms/step - loss: 16.5521 - mae: 16.5521\n",
            "Epoch 392/500\n",
            "2/2 [==============================] - 0s 7ms/step - loss: 8.3658 - mae: 8.3658\n",
            "Epoch 393/500\n",
            "2/2 [==============================] - 0s 6ms/step - loss: 18.1333 - mae: 18.1333\n",
            "Epoch 394/500\n",
            "2/2 [==============================] - 0s 7ms/step - loss: 14.1957 - mae: 14.1957\n",
            "Epoch 395/500\n",
            "2/2 [==============================] - 0s 6ms/step - loss: 28.6611 - mae: 28.6611\n",
            "Epoch 396/500\n",
            "2/2 [==============================] - 0s 7ms/step - loss: 8.2343 - mae: 8.2343\n",
            "Epoch 397/500\n",
            "2/2 [==============================] - 0s 7ms/step - loss: 10.5342 - mae: 10.5342\n",
            "Epoch 398/500\n",
            "2/2 [==============================] - 0s 7ms/step - loss: 7.4044 - mae: 7.4044\n",
            "Epoch 399/500\n",
            "2/2 [==============================] - 0s 7ms/step - loss: 15.6179 - mae: 15.6179\n",
            "Epoch 400/500\n",
            "2/2 [==============================] - 0s 10ms/step - loss: 6.7513 - mae: 6.7513\n",
            "Epoch 401/500\n",
            "2/2 [==============================] - 0s 8ms/step - loss: 8.0201 - mae: 8.0201\n",
            "Epoch 402/500\n",
            "2/2 [==============================] - 0s 7ms/step - loss: 16.4654 - mae: 16.4654\n",
            "Epoch 403/500\n",
            "2/2 [==============================] - 0s 7ms/step - loss: 12.3627 - mae: 12.3627\n",
            "Epoch 404/500\n",
            "2/2 [==============================] - 0s 7ms/step - loss: 22.9374 - mae: 22.9374\n",
            "Epoch 405/500\n",
            "2/2 [==============================] - 0s 7ms/step - loss: 18.0920 - mae: 18.0920\n",
            "Epoch 406/500\n",
            "2/2 [==============================] - 0s 8ms/step - loss: 7.0694 - mae: 7.0694\n",
            "Epoch 407/500\n",
            "2/2 [==============================] - 0s 8ms/step - loss: 12.6439 - mae: 12.6439\n",
            "Epoch 408/500\n",
            "2/2 [==============================] - 0s 8ms/step - loss: 5.6811 - mae: 5.6811\n",
            "Epoch 409/500\n",
            "2/2 [==============================] - 0s 8ms/step - loss: 31.1910 - mae: 31.1910\n",
            "Epoch 410/500\n",
            "2/2 [==============================] - 0s 7ms/step - loss: 9.2696 - mae: 9.2696\n",
            "Epoch 411/500\n",
            "2/2 [==============================] - 0s 7ms/step - loss: 14.8829 - mae: 14.8829\n",
            "Epoch 412/500\n",
            "2/2 [==============================] - 0s 8ms/step - loss: 21.7643 - mae: 21.7643\n",
            "Epoch 413/500\n",
            "2/2 [==============================] - 0s 8ms/step - loss: 12.5803 - mae: 12.5803\n",
            "Epoch 414/500\n",
            "2/2 [==============================] - 0s 8ms/step - loss: 6.0765 - mae: 6.0765\n",
            "Epoch 415/500\n",
            "2/2 [==============================] - 0s 8ms/step - loss: 13.2374 - mae: 13.2374\n",
            "Epoch 416/500\n",
            "2/2 [==============================] - 0s 8ms/step - loss: 27.4584 - mae: 27.4584\n",
            "Epoch 417/500\n",
            "2/2 [==============================] - 0s 10ms/step - loss: 10.5624 - mae: 10.5624\n",
            "Epoch 418/500\n",
            "2/2 [==============================] - 0s 10ms/step - loss: 12.8475 - mae: 12.8475\n",
            "Epoch 419/500\n",
            "2/2 [==============================] - 0s 12ms/step - loss: 15.8959 - mae: 15.8959\n",
            "Epoch 420/500\n",
            "2/2 [==============================] - 0s 8ms/step - loss: 24.7850 - mae: 24.7850\n",
            "Epoch 421/500\n",
            "2/2 [==============================] - 0s 8ms/step - loss: 17.2929 - mae: 17.2929\n",
            "Epoch 422/500\n",
            "2/2 [==============================] - 0s 8ms/step - loss: 7.8177 - mae: 7.8177\n",
            "Epoch 423/500\n",
            "2/2 [==============================] - 0s 9ms/step - loss: 25.4090 - mae: 25.4090\n",
            "Epoch 424/500\n",
            "2/2 [==============================] - 0s 7ms/step - loss: 15.0376 - mae: 15.0376\n",
            "Epoch 425/500\n",
            "2/2 [==============================] - 0s 8ms/step - loss: 7.1310 - mae: 7.1310\n",
            "Epoch 426/500\n",
            "2/2 [==============================] - 0s 9ms/step - loss: 20.2532 - mae: 20.2532\n",
            "Epoch 427/500\n",
            "2/2 [==============================] - 0s 7ms/step - loss: 6.2948 - mae: 6.2948\n",
            "Epoch 428/500\n",
            "2/2 [==============================] - 0s 7ms/step - loss: 12.9456 - mae: 12.9456\n",
            "Epoch 429/500\n",
            "2/2 [==============================] - 0s 7ms/step - loss: 10.7426 - mae: 10.7426\n",
            "Epoch 430/500\n",
            "2/2 [==============================] - 0s 7ms/step - loss: 11.3538 - mae: 11.3538\n",
            "Epoch 431/500\n",
            "2/2 [==============================] - 0s 8ms/step - loss: 10.5707 - mae: 10.5707\n",
            "Epoch 432/500\n",
            "2/2 [==============================] - 0s 7ms/step - loss: 11.4028 - mae: 11.4028\n",
            "Epoch 433/500\n",
            "2/2 [==============================] - 0s 7ms/step - loss: 11.3833 - mae: 11.3833\n",
            "Epoch 434/500\n",
            "2/2 [==============================] - 0s 12ms/step - loss: 30.4156 - mae: 30.4156\n",
            "Epoch 435/500\n",
            "2/2 [==============================] - 0s 7ms/step - loss: 10.5017 - mae: 10.5017\n",
            "Epoch 436/500\n",
            "2/2 [==============================] - 0s 8ms/step - loss: 28.8990 - mae: 28.8990\n",
            "Epoch 437/500\n",
            "2/2 [==============================] - 0s 8ms/step - loss: 8.6034 - mae: 8.6034\n",
            "Epoch 438/500\n",
            "2/2 [==============================] - 0s 7ms/step - loss: 12.7361 - mae: 12.7361\n",
            "Epoch 439/500\n",
            "2/2 [==============================] - 0s 7ms/step - loss: 33.6868 - mae: 33.6868\n",
            "Epoch 440/500\n",
            "2/2 [==============================] - 0s 7ms/step - loss: 15.1046 - mae: 15.1046\n",
            "Epoch 441/500\n",
            "2/2 [==============================] - 0s 9ms/step - loss: 17.4871 - mae: 17.4871\n",
            "Epoch 442/500\n",
            "2/2 [==============================] - 0s 8ms/step - loss: 22.3249 - mae: 22.3249\n",
            "Epoch 443/500\n",
            "2/2 [==============================] - 0s 7ms/step - loss: 23.5364 - mae: 23.5364\n",
            "Epoch 444/500\n",
            "2/2 [==============================] - 0s 7ms/step - loss: 10.9572 - mae: 10.9572\n",
            "Epoch 445/500\n",
            "2/2 [==============================] - 0s 9ms/step - loss: 14.9255 - mae: 14.9255\n",
            "Epoch 446/500\n",
            "2/2 [==============================] - 0s 10ms/step - loss: 18.0104 - mae: 18.0104\n",
            "Epoch 447/500\n",
            "2/2 [==============================] - 0s 7ms/step - loss: 5.4197 - mae: 5.4197\n",
            "Epoch 448/500\n",
            "2/2 [==============================] - 0s 10ms/step - loss: 10.0611 - mae: 10.0611\n",
            "Epoch 449/500\n",
            "2/2 [==============================] - 0s 7ms/step - loss: 14.0121 - mae: 14.0121\n",
            "Epoch 450/500\n",
            "2/2 [==============================] - 0s 9ms/step - loss: 16.7837 - mae: 16.7837\n",
            "Epoch 451/500\n",
            "2/2 [==============================] - 0s 6ms/step - loss: 14.2927 - mae: 14.2927\n",
            "Epoch 452/500\n",
            "2/2 [==============================] - 0s 7ms/step - loss: 30.6280 - mae: 30.6280\n",
            "Epoch 453/500\n",
            "2/2 [==============================] - 0s 8ms/step - loss: 7.6463 - mae: 7.6463\n",
            "Epoch 454/500\n",
            "2/2 [==============================] - 0s 7ms/step - loss: 28.1511 - mae: 28.1511\n",
            "Epoch 455/500\n",
            "2/2 [==============================] - 0s 7ms/step - loss: 7.9774 - mae: 7.9774\n",
            "Epoch 456/500\n",
            "2/2 [==============================] - 0s 7ms/step - loss: 10.3934 - mae: 10.3934\n",
            "Epoch 457/500\n",
            "2/2 [==============================] - 0s 7ms/step - loss: 15.0297 - mae: 15.0297\n",
            "Epoch 458/500\n",
            "2/2 [==============================] - 0s 6ms/step - loss: 16.5636 - mae: 16.5636\n",
            "Epoch 459/500\n",
            "2/2 [==============================] - 0s 7ms/step - loss: 26.8635 - mae: 26.8635\n",
            "Epoch 460/500\n",
            "2/2 [==============================] - 0s 7ms/step - loss: 12.4695 - mae: 12.4695\n",
            "Epoch 461/500\n",
            "2/2 [==============================] - 0s 10ms/step - loss: 12.4796 - mae: 12.4796\n",
            "Epoch 462/500\n",
            "2/2 [==============================] - 0s 9ms/step - loss: 13.3196 - mae: 13.3196\n",
            "Epoch 463/500\n",
            "2/2 [==============================] - 0s 7ms/step - loss: 29.5578 - mae: 29.5578\n",
            "Epoch 464/500\n",
            "2/2 [==============================] - 0s 7ms/step - loss: 3.4551 - mae: 3.4551\n",
            "Epoch 465/500\n",
            "2/2 [==============================] - 0s 8ms/step - loss: 15.2174 - mae: 15.2174\n",
            "Epoch 466/500\n",
            "2/2 [==============================] - 0s 9ms/step - loss: 20.8377 - mae: 20.8377\n",
            "Epoch 467/500\n",
            "2/2 [==============================] - 0s 9ms/step - loss: 30.4996 - mae: 30.4996\n",
            "Epoch 468/500\n",
            "2/2 [==============================] - 0s 7ms/step - loss: 11.0479 - mae: 11.0479\n",
            "Epoch 469/500\n",
            "2/2 [==============================] - 0s 11ms/step - loss: 12.8273 - mae: 12.8273\n",
            "Epoch 470/500\n",
            "2/2 [==============================] - 0s 11ms/step - loss: 3.2246 - mae: 3.2246\n",
            "Epoch 471/500\n",
            "2/2 [==============================] - 0s 7ms/step - loss: 16.6951 - mae: 16.6951\n",
            "Epoch 472/500\n",
            "2/2 [==============================] - 0s 8ms/step - loss: 13.3886 - mae: 13.3886\n",
            "Epoch 473/500\n",
            "2/2 [==============================] - 0s 7ms/step - loss: 15.2744 - mae: 15.2744\n",
            "Epoch 474/500\n",
            "2/2 [==============================] - 0s 7ms/step - loss: 11.7417 - mae: 11.7417\n",
            "Epoch 475/500\n",
            "2/2 [==============================] - 0s 8ms/step - loss: 16.4125 - mae: 16.4125\n",
            "Epoch 476/500\n",
            "2/2 [==============================] - 0s 8ms/step - loss: 13.8760 - mae: 13.8760\n",
            "Epoch 477/500\n",
            "2/2 [==============================] - 0s 11ms/step - loss: 30.6720 - mae: 30.6720\n",
            "Epoch 478/500\n",
            "2/2 [==============================] - 0s 9ms/step - loss: 8.5874 - mae: 8.5874\n",
            "Epoch 479/500\n",
            "2/2 [==============================] - 0s 6ms/step - loss: 10.7331 - mae: 10.7331\n",
            "Epoch 480/500\n",
            "2/2 [==============================] - 0s 7ms/step - loss: 17.9012 - mae: 17.9012\n",
            "Epoch 481/500\n",
            "2/2 [==============================] - 0s 8ms/step - loss: 15.8056 - mae: 15.8056\n",
            "Epoch 482/500\n",
            "2/2 [==============================] - 0s 7ms/step - loss: 21.3033 - mae: 21.3033\n",
            "Epoch 483/500\n",
            "2/2 [==============================] - 0s 10ms/step - loss: 25.3916 - mae: 25.3916\n",
            "Epoch 484/500\n",
            "2/2 [==============================] - 0s 6ms/step - loss: 23.9829 - mae: 23.9829\n",
            "Epoch 485/500\n",
            "2/2 [==============================] - 0s 7ms/step - loss: 5.7611 - mae: 5.7611\n",
            "Epoch 486/500\n",
            "2/2 [==============================] - 0s 7ms/step - loss: 20.0084 - mae: 20.0084\n",
            "Epoch 487/500\n",
            "2/2 [==============================] - 0s 10ms/step - loss: 14.0397 - mae: 14.0397\n",
            "Epoch 488/500\n",
            "2/2 [==============================] - 0s 11ms/step - loss: 30.6080 - mae: 30.6080\n",
            "Epoch 489/500\n",
            "2/2 [==============================] - 0s 7ms/step - loss: 11.9361 - mae: 11.9361\n",
            "Epoch 490/500\n",
            "2/2 [==============================] - 0s 7ms/step - loss: 12.7317 - mae: 12.7317\n",
            "Epoch 491/500\n",
            "2/2 [==============================] - 0s 7ms/step - loss: 23.6102 - mae: 23.6102\n",
            "Epoch 492/500\n",
            "2/2 [==============================] - 0s 6ms/step - loss: 20.5478 - mae: 20.5478\n",
            "Epoch 493/500\n",
            "2/2 [==============================] - 0s 6ms/step - loss: 4.9836 - mae: 4.9836\n",
            "Epoch 494/500\n",
            "2/2 [==============================] - 0s 6ms/step - loss: 12.8039 - mae: 12.8039\n",
            "Epoch 495/500\n",
            "2/2 [==============================] - 0s 6ms/step - loss: 13.3711 - mae: 13.3711\n",
            "Epoch 496/500\n",
            "2/2 [==============================] - 0s 6ms/step - loss: 12.6680 - mae: 12.6680\n",
            "Epoch 497/500\n",
            "2/2 [==============================] - 0s 7ms/step - loss: 17.6089 - mae: 17.6089\n",
            "Epoch 498/500\n",
            "2/2 [==============================] - 0s 7ms/step - loss: 23.5808 - mae: 23.5808\n",
            "Epoch 499/500\n",
            "2/2 [==============================] - 0s 7ms/step - loss: 9.3899 - mae: 9.3899\n",
            "Epoch 500/500\n",
            "2/2 [==============================] - 0s 7ms/step - loss: 14.6254 - mae: 14.6254\n"
          ]
        },
        {
          "output_type": "execute_result",
          "data": {
            "text/plain": [
              "<keras.callbacks.History at 0x7f8de8f60910>"
            ]
          },
          "metadata": {},
          "execution_count": 66
        }
      ]
    },
    {
      "cell_type": "code",
      "source": [
        "# predictions\n",
        "\n",
        "y_preds_3 = model3.predict(X_test)\n",
        "plot_predictions(predictions= y_preds_3)"
      ],
      "metadata": {
        "id": "z9R2NmFQikZI",
        "colab": {
          "base_uri": "https://localhost:8080/",
          "height": 635
        },
        "outputId": "9d60166b-1d57-4057-8e80-07a74f6784aa"
      },
      "execution_count": null,
      "outputs": [
        {
          "output_type": "stream",
          "name": "stdout",
          "text": [
            "1/1 [==============================] - 0s 112ms/step\n"
          ]
        },
        {
          "output_type": "display_data",
          "data": {
            "text/plain": [
              "<Figure size 1000x700 with 0 Axes>"
            ]
          },
          "metadata": {}
        },
        {
          "output_type": "display_data",
          "data": {
            "text/plain": [
              "<Figure size 1000x700 with 1 Axes>"
            ],
            "image/png": "[encoded data removed]"
          },
          "metadata": {}
        }
      ]
    },
    {
      "cell_type": "code",
      "source": [
        "# evaluation\n",
        "mae_3 = mae(y_test,y_preds_3)\n",
        "mse_3 = mse(y_test,y_preds_3)"
      ],
      "metadata": {
        "id": "CtujV_NPi00b"
      },
      "execution_count": null,
      "outputs": []
    },
    {
      "cell_type": "code",
      "source": [
        "mae_3,mse_3"
      ],
      "metadata": {
        "id": "z75gcigNjEtI",
        "colab": {
          "base_uri": "https://localhost:8080/"
        },
        "outputId": "5d74d3e3-bd8e-484b-d7f0-38c98aa4d083"
      },
      "execution_count": null,
      "outputs": [
        {
          "output_type": "execute_result",
          "data": {
            "text/plain": [
              "(<tf.Tensor: shape=(), dtype=float32, numpy=68.68768>,\n",
              " <tf.Tensor: shape=(), dtype=float32, numpy=4804.4404>)"
            ]
          },
          "metadata": {},
          "execution_count": 69
        }
      ]
    },
    {
      "cell_type": "code",
      "source": [
        "#  model is overfitting"
      ],
      "metadata": {
        "id": "rblrGNlDjG-y"
      },
      "execution_count": null,
      "outputs": []
    },
    {
      "cell_type": "code",
      "source": [],
      "metadata": {
        "id": "o0AN_KTYjr-0"
      },
      "execution_count": null,
      "outputs": []
    },
    {
      "cell_type": "code",
      "source": [],
      "metadata": {
        "id": "SBap_XeFjs_R"
      },
      "execution_count": null,
      "outputs": []
    },
    {
      "cell_type": "code",
      "source": [
        "# From our experiments, it looks like model_2 performed the best.\n",
        "\n",
        "# And now, you might be thinking, \"wow, comparing models is tedious...\" and it definitely can be, we've only compared 3 models here.\n",
        "\n",
        "# But this is part of what machine learning modelling is about, trying many different combinations of models and seeing which performs best.\n",
        "\n",
        "# Each model you build is a small experiment.\n",
        "\n",
        "# 🔑 Note: One of your main goals should be to minimize the time between your experiments. The more experiments you do, the more things you'll figure out which don't work and in turn, get closer to figuring out what does work. Remember the machine learning practitioner's motto: \"experiment, experiment, experiment\".\n",
        "\n",
        "# Another thing you'll also find is what you thought may work (such as training a model for longer) may not always work and the exact opposite is also often the case."
      ],
      "metadata": {
        "id": "rP6bipQ1jx1p"
      },
      "execution_count": null,
      "outputs": []
    },
    {
      "cell_type": "code",
      "source": [
        "#  start smal; build up complexity as ad when needed"
      ],
      "metadata": {
        "id": "yI1Zh6xqkHuE"
      },
      "execution_count": null,
      "outputs": []
    },
    {
      "cell_type": "code",
      "source": [
        "#  comparing the results of our expreminets using pandas df\n",
        "import pandas as pd\n",
        "model_results = [['model1',mae_1.numpy(),mse_1.numpy()],\n",
        "                 ['model2',mae_2.numpy(),mse_2.numpy()],\n",
        "                 ['model3',mae_3.numpy(),mse_3.numpy()]]\n",
        "\n",
        "all_results = pd.DataFrame(model_results , columns = ['model','mae','mse'])\n",
        "all_results"
      ],
      "metadata": {
        "id": "IUygM8PDkOB_",
        "colab": {
          "base_uri": "https://localhost:8080/",
          "height": 143
        },
        "outputId": "1da3d369-6d7e-4f8c-efa0-b90a3b8b3adb"
      },
      "execution_count": null,
      "outputs": [
        {
          "output_type": "execute_result",
          "data": {
            "text/plain": [
              "    model        mae          mse\n",
              "0  model1  30.620920   948.041992\n",
              "1  model2  13.417398   190.150436\n",
              "2  model3  68.687683  4804.440430"
            ],
            "text/html": [
              "\n",
              "  <div id=\"df-94ad35f0-f958-44ad-a5a2-45a24ea8e56b\">\n",
              "    <div class=\"colab-df-container\">\n",
              "      <div>\n",
              "<style scoped>\n",
              "    .dataframe tbody tr th:only-of-type {\n",
              "        vertical-align: middle;\n",
              "    }\n",
              "\n",
              "    .dataframe tbody tr th {\n",
              "        vertical-align: top;\n",
              "    }\n",
              "\n",
              "    .dataframe thead th {\n",
              "        text-align: right;\n",
              "    }\n",
              "</style>\n",
              "<table border=\"1\" class=\"dataframe\">\n",
              "  <thead>\n",
              "    <tr style=\"text-align: right;\">\n",
              "      <th></th>\n",
              "      <th>model</th>\n",
              "      <th>mae</th>\n",
              "      <th>mse</th>\n",
              "    </tr>\n",
              "  </thead>\n",
              "  <tbody>\n",
              "    <tr>\n",
              "      <th>0</th>\n",
              "      <td>model1</td>\n",
              "      <td>30.620920</td>\n",
              "      <td>948.041992</td>\n",
              "    </tr>\n",
              "    <tr>\n",
              "      <th>1</th>\n",
              "      <td>model2</td>\n",
              "      <td>13.417398</td>\n",
              "      <td>190.150436</td>\n",
              "    </tr>\n",
              "    <tr>\n",
              "      <th>2</th>\n",
              "      <td>model3</td>\n",
              "      <td>68.687683</td>\n",
              "      <td>4804.440430</td>\n",
              "    </tr>\n",
              "  </tbody>\n",
              "</table>\n",
              "</div>\n",
              "      <button class=\"colab-df-convert\" onclick=\"convertToInteractive('df-94ad35f0-f958-44ad-a5a2-45a24ea8e56b')\"\n",
              "              title=\"Convert this dataframe to an interactive table.\"\n",
              "              style=\"display:none;\">\n",
              "        \n",
              "  <svg xmlns=\"http://www.w3.org/2000/svg\" height=\"24px\"viewBox=\"0 0 24 24\"\n",
              "       width=\"24px\">\n",
              "    <path d=\"M0 0h24v24H0V0z\" fill=\"none\"/>\n",
              "    <path d=\"M18.56 5.44l.94 2.06.94-2.06 2.06-.94-2.06-.94-.94-2.06-.94 2.06-2.06.94zm-11 1L8.5 8.5l.94-2.06 2.06-.94-2.06-.94L8.5 2.5l-.94 2.06-2.06.94zm10 10l.94 2.06.94-2.06 2.06-.94-2.06-.94-.94-2.06-.94 2.06-2.06.94z\"/><path d=\"M17.41 7.96l-1.37-1.37c-.4-.4-.92-.59-1.43-.59-.52 0-1.04.2-1.43.59L10.3 9.45l-7.72 7.72c-.78.78-.78 2.05 0 2.83L4 21.41c.39.39.9.59 1.41.59.51 0 1.02-.2 1.41-.59l7.78-7.78 2.81-2.81c.8-.78.8-2.07 0-2.86zM5.41 20L4 18.59l7.72-7.72 1.47 1.35L5.41 20z\"/>\n",
              "  </svg>\n",
              "      </button>\n",
              "      \n",
              "  <style>\n",
              "    .colab-df-container {\n",
              "      display:flex;\n",
              "      flex-wrap:wrap;\n",
              "      gap: 12px;\n",
              "    }\n",
              "\n",
              "    .colab-df-convert {\n",
              "      background-color: #E8F0FE;\n",
              "      border: none;\n",
              "      border-radius: 50%;\n",
              "      cursor: pointer;\n",
              "      display: none;\n",
              "      fill: #1967D2;\n",
              "      height: 32px;\n",
              "      padding: 0 0 0 0;\n",
              "      width: 32px;\n",
              "    }\n",
              "\n",
              "    .colab-df-convert:hover {\n",
              "      background-color: #E2EBFA;\n",
              "      box-shadow: 0px 1px 2px rgba(60, 64, 67, 0.3), 0px 1px 3px 1px rgba(60, 64, 67, 0.15);\n",
              "      fill: #174EA6;\n",
              "    }\n",
              "\n",
              "    [theme=dark] .colab-df-convert {\n",
              "      background-color: #3B4455;\n",
              "      fill: #D2E3FC;\n",
              "    }\n",
              "\n",
              "    [theme=dark] .colab-df-convert:hover {\n",
              "      background-color: #434B5C;\n",
              "      box-shadow: 0px 1px 3px 1px rgba(0, 0, 0, 0.15);\n",
              "      filter: drop-shadow(0px 1px 2px rgba(0, 0, 0, 0.3));\n",
              "      fill: #FFFFFF;\n",
              "    }\n",
              "  </style>\n",
              "\n",
              "      <script>\n",
              "        const buttonEl =\n",
              "          document.querySelector('#df-94ad35f0-f958-44ad-a5a2-45a24ea8e56b button.colab-df-convert');\n",
              "        buttonEl.style.display =\n",
              "          google.colab.kernel.accessAllowed ? 'block' : 'none';\n",
              "\n",
              "        async function convertToInteractive(key) {\n",
              "          const element = document.querySelector('#df-94ad35f0-f958-44ad-a5a2-45a24ea8e56b');\n",
              "          const dataTable =\n",
              "            await google.colab.kernel.invokeFunction('convertToInteractive',\n",
              "                                                     [key], {});\n",
              "          if (!dataTable) return;\n",
              "\n",
              "          const docLinkHtml = 'Like what you see? Visit the ' +\n",
              "            '<a target=\"_blank\" href=https://colab.research.google.com/notebooks/data_table.ipynb>data table notebook</a>'\n",
              "            + ' to learn more about interactive tables.';\n",
              "          element.innerHTML = '';\n",
              "          dataTable['output_type'] = 'display_data';\n",
              "          await google.colab.output.renderOutput(dataTable, element);\n",
              "          const docLink = document.createElement('div');\n",
              "          docLink.innerHTML = docLinkHtml;\n",
              "          element.appendChild(docLink);\n",
              "        }\n",
              "      </script>\n",
              "    </div>\n",
              "  </div>\n",
              "  "
            ]
          },
          "metadata": {},
          "execution_count": 73
        }
      ]
    },
    {
      "cell_type": "code",
      "source": [
        "\n",
        "# model2 performed the best"
      ],
      "metadata": {
        "id": "J2wAtbiAmZcN"
      },
      "execution_count": null,
      "outputs": []
    },
    {
      "cell_type": "code",
      "source": [
        "model2.summary()"
      ],
      "metadata": {
        "id": "MmM8vibrkXLD",
        "colab": {
          "base_uri": "https://localhost:8080/"
        },
        "outputId": "b3cc1161-0a4c-4cdd-a9e0-dd1afd0cc4cc"
      },
      "execution_count": null,
      "outputs": [
        {
          "output_type": "stream",
          "name": "stdout",
          "text": [
            "Model: \"sequential_5\"\n",
            "_________________________________________________________________\n",
            " Layer (type)                Output Shape              Param #   \n",
            "=================================================================\n",
            " dense_9 (Dense)             (None, 250)               500       \n",
            "                                                                 \n",
            " dense_10 (Dense)            (None, 1)                 251       \n",
            "                                                                 \n",
            "=================================================================\n",
            "Total params: 751\n",
            "Trainable params: 751\n",
            "Non-trainable params: 0\n",
            "_________________________________________________________________\n"
          ]
        }
      ]
    },
    {
      "cell_type": "code",
      "source": [
        "# one of your main goals is to reduce the time between your exps\n",
        "#  the more exps you do the more thinsg you will figure out which dont work.\n"
      ],
      "metadata": {
        "id": "tnc_R6QDmQyA"
      },
      "execution_count": null,
      "outputs": []
    },
    {
      "cell_type": "code",
      "source": [
        "# Tracking your experminets\n",
        "# one really good habit in ML modelling is to trak yor exps\n",
        "#  to ismplify we have tools\n",
        "# **Resource**\n",
        "# TensorBoard - a component of tf library to help track modelling exps\n",
        "# Weights and Biases -  tool for tracking all kijnds of ML experiments (plugs straight inro TensoBoard)\n"
      ],
      "metadata": {
        "id": "YDrlC6Ovm8WA"
      },
      "execution_count": null,
      "outputs": []
    },
    {
      "cell_type": "markdown",
      "source": [
        "Saving our models"
      ],
      "metadata": {
        "id": "DHIHpH29n0qj"
      }
    },
    {
      "cell_type": "code",
      "source": [
        "#  there are two main formats to save a model\n",
        "# TH SaveModel format\n",
        "# THe HDF5 format\n"
      ],
      "metadata": {
        "id": "_8j27Fu_ocL2"
      },
      "execution_count": null,
      "outputs": []
    },
    {
      "cell_type": "code",
      "source": [
        "# SaveModel\n",
        "model2.save(\"model2\") # saves a folder"
      ],
      "metadata": {
        "id": "1aIe0CsXpK52",
        "colab": {
          "base_uri": "https://localhost:8080/"
        },
        "outputId": "461331e0-158d-4c7e-82db-eb13ae7e784b"
      },
      "execution_count": null,
      "outputs": [
        {
          "output_type": "stream",
          "name": "stderr",
          "text": [
            "WARNING:absl:Found untraced functions such as _update_step_xla while saving (showing 1 of 1). These functions will not be directly callable after loading.\n"
          ]
        }
      ]
    },
    {
      "cell_type": "code",
      "source": [
        "# HDF5  (universal format)\n",
        "model2.save(\"model2.h5\") # saves a file"
      ],
      "metadata": {
        "id": "6cpyKjLYqONJ"
      },
      "execution_count": null,
      "outputs": []
    },
    {
      "cell_type": "markdown",
      "source": [
        "Loading and Re-evaluating a model"
      ],
      "metadata": {
        "id": "fPCIq5lLqQyc"
      }
    },
    {
      "cell_type": "code",
      "source": [
        "loaded_savedModel = tf.keras.models.load_model(\"/content/model2\")\n",
        "loaded_savedModel.summary()"
      ],
      "metadata": {
        "id": "I6X5AvOdq23j",
        "colab": {
          "base_uri": "https://localhost:8080/"
        },
        "outputId": "a7c55232-706a-4cca-ccb3-0a366423ea6b"
      },
      "execution_count": null,
      "outputs": [
        {
          "output_type": "stream",
          "name": "stdout",
          "text": [
            "Model: \"sequential_5\"\n",
            "_________________________________________________________________\n",
            " Layer (type)                Output Shape              Param #   \n",
            "=================================================================\n",
            " dense_9 (Dense)             (None, 250)               500       \n",
            "                                                                 \n",
            " dense_10 (Dense)            (None, 1)                 251       \n",
            "                                                                 \n",
            "=================================================================\n",
            "Total params: 751\n",
            "Trainable params: 751\n",
            "Non-trainable params: 0\n",
            "_________________________________________________________________\n"
          ]
        }
      ]
    },
    {
      "cell_type": "code",
      "source": [
        "# Compare model_2 with the SavedModel version (should return True)\n",
        "model2_preds = model2.predict(X_test)\n",
        "loaded_savedModel_preds = loaded_savedModel.predict(X_test)\n",
        "loaded_savedModel == model2_preds"
      ],
      "metadata": {
        "id": "ABDPsNhIriFK",
        "colab": {
          "base_uri": "https://localhost:8080/"
        },
        "outputId": "8752a7b7-578b-47e9-ddf6-33f01925bf6e"
      },
      "execution_count": null,
      "outputs": [
        {
          "output_type": "stream",
          "name": "stdout",
          "text": [
            "1/1 [==============================] - 0s 41ms/step\n",
            "1/1 [==============================] - 0s 56ms/step\n"
          ]
        },
        {
          "output_type": "execute_result",
          "data": {
            "text/plain": [
              "array([[False],\n",
              "       [False],\n",
              "       [False],\n",
              "       [False],\n",
              "       [False],\n",
              "       [False],\n",
              "       [False],\n",
              "       [False],\n",
              "       [False],\n",
              "       [False]])"
            ]
          },
          "metadata": {},
          "execution_count": 82
        }
      ]
    },
    {
      "cell_type": "code",
      "source": [
        "model2_preds , loaded_savedModel_preds\n"
      ],
      "metadata": {
        "id": "TTTZM9AxsXIW",
        "colab": {
          "base_uri": "https://localhost:8080/"
        },
        "outputId": "1e883f9b-5e99-419a-caab-d519a239959a"
      },
      "execution_count": null,
      "outputs": [
        {
          "output_type": "execute_result",
          "data": {
            "text/plain": [
              "(array([[ 78.43248 ],\n",
              "        [ 83.540245],\n",
              "        [ 88.647995],\n",
              "        [ 93.75575 ],\n",
              "        [ 98.86352 ],\n",
              "        [103.971275],\n",
              "        [109.07904 ],\n",
              "        [114.1868  ],\n",
              "        [119.29456 ],\n",
              "        [124.40232 ]], dtype=float32),\n",
              " array([[ 78.43248 ],\n",
              "        [ 83.540245],\n",
              "        [ 88.647995],\n",
              "        [ 93.75575 ],\n",
              "        [ 98.86352 ],\n",
              "        [103.971275],\n",
              "        [109.07904 ],\n",
              "        [114.1868  ],\n",
              "        [119.29456 ],\n",
              "        [124.40232 ]], dtype=float32))"
            ]
          },
          "metadata": {},
          "execution_count": 83
        }
      ]
    },
    {
      "cell_type": "code",
      "source": [
        "mae( y_true = y_test , y_pred = model2_preds) == mae( y_true = y_test , y_pred = loaded_savedModel_preds)"
      ],
      "metadata": {
        "id": "3Q62-i7ks2My",
        "colab": {
          "base_uri": "https://localhost:8080/"
        },
        "outputId": "686cc7a7-6cab-4128-f5c7-6e57bcebb422"
      },
      "execution_count": null,
      "outputs": [
        {
          "output_type": "execute_result",
          "data": {
            "text/plain": [
              "<tf.Tensor: shape=(), dtype=bool, numpy=True>"
            ]
          },
          "metadata": {},
          "execution_count": 84
        }
      ]
    },
    {
      "cell_type": "code",
      "source": [
        "loaded_savedModel_preds.squeeze()"
      ],
      "metadata": {
        "id": "WTPHmMYAtGYb",
        "colab": {
          "base_uri": "https://localhost:8080/"
        },
        "outputId": "27abe3df-69e0-454e-99ba-7f82e5248c5b"
      },
      "execution_count": null,
      "outputs": [
        {
          "output_type": "execute_result",
          "data": {
            "text/plain": [
              "array([ 78.43248 ,  83.540245,  88.647995,  93.75575 ,  98.86352 ,\n",
              "       103.971275, 109.07904 , 114.1868  , 119.29456 , 124.40232 ],\n",
              "      dtype=float32)"
            ]
          },
          "metadata": {},
          "execution_count": 85
        }
      ]
    },
    {
      "cell_type": "code",
      "source": [
        "model2_preds.squeeze()"
      ],
      "metadata": {
        "id": "L9qzhhL1tr6q",
        "colab": {
          "base_uri": "https://localhost:8080/"
        },
        "outputId": "f0734c70-4558-4a77-9b91-6ab3b845fc5d"
      },
      "execution_count": null,
      "outputs": [
        {
          "output_type": "execute_result",
          "data": {
            "text/plain": [
              "array([ 78.43248 ,  83.540245,  88.647995,  93.75575 ,  98.86352 ,\n",
              "       103.971275, 109.07904 , 114.1868  , 119.29456 , 124.40232 ],\n",
              "      dtype=float32)"
            ]
          },
          "metadata": {},
          "execution_count": 86
        }
      ]
    },
    {
      "cell_type": "code",
      "source": [
        "loaded_savedModel_preds.squeeze() == model2_preds.squeeze()"
      ],
      "metadata": {
        "id": "852rr_G6tvDr",
        "colab": {
          "base_uri": "https://localhost:8080/"
        },
        "outputId": "00c1f0a4-c1b5-4195-c0c9-cc7074f112c2"
      },
      "execution_count": null,
      "outputs": [
        {
          "output_type": "execute_result",
          "data": {
            "text/plain": [
              "array([ True,  True,  True,  True,  True,  True,  True,  True,  True,\n",
              "        True])"
            ]
          },
          "metadata": {},
          "execution_count": 87
        }
      ]
    },
    {
      "cell_type": "code",
      "source": [
        "#  cuz we made an error\n",
        "loaded_savedModel_preds == model2_preds"
      ],
      "metadata": {
        "id": "wkrf9A1MtzBn",
        "colab": {
          "base_uri": "https://localhost:8080/"
        },
        "outputId": "54c2c830-47fb-418a-b2ec-0168144fcafc"
      },
      "execution_count": null,
      "outputs": [
        {
          "output_type": "execute_result",
          "data": {
            "text/plain": [
              "array([[ True],\n",
              "       [ True],\n",
              "       [ True],\n",
              "       [ True],\n",
              "       [ True],\n",
              "       [ True],\n",
              "       [ True],\n",
              "       [ True],\n",
              "       [ True],\n",
              "       [ True]])"
            ]
          },
          "metadata": {},
          "execution_count": 88
        }
      ]
    },
    {
      "cell_type": "code",
      "source": [
        "load_h5_model = tf.keras.models.load_model(\"/content/model2.h5\")\n",
        "load_h5_model"
      ],
      "metadata": {
        "id": "4JLCtmJMuBhB",
        "colab": {
          "base_uri": "https://localhost:8080/"
        },
        "outputId": "d488fb1c-f0c3-4c60-c056-f3991b56ed55"
      },
      "execution_count": null,
      "outputs": [
        {
          "output_type": "execute_result",
          "data": {
            "text/plain": [
              "<keras.engine.sequential.Sequential at 0x7f8de9bb5ba0>"
            ]
          },
          "metadata": {},
          "execution_count": 89
        }
      ]
    },
    {
      "cell_type": "code",
      "source": [
        "load_h5_model.summary()"
      ],
      "metadata": {
        "id": "3uvWeVtguDIH",
        "colab": {
          "base_uri": "https://localhost:8080/"
        },
        "outputId": "356913c3-bb6b-43cb-f342-9e3379d813e8"
      },
      "execution_count": null,
      "outputs": [
        {
          "output_type": "stream",
          "name": "stdout",
          "text": [
            "Model: \"sequential_5\"\n",
            "_________________________________________________________________\n",
            " Layer (type)                Output Shape              Param #   \n",
            "=================================================================\n",
            " dense_9 (Dense)             (None, 250)               500       \n",
            "                                                                 \n",
            " dense_10 (Dense)            (None, 1)                 251       \n",
            "                                                                 \n",
            "=================================================================\n",
            "Total params: 751\n",
            "Trainable params: 751\n",
            "Non-trainable params: 0\n",
            "_________________________________________________________________\n"
          ]
        }
      ]
    },
    {
      "cell_type": "code",
      "source": [
        "model2.summary()"
      ],
      "metadata": {
        "id": "ya_O2tXNuDPE",
        "colab": {
          "base_uri": "https://localhost:8080/"
        },
        "outputId": "c220750f-82b8-4d90-86ec-bc237c0e2eb3"
      },
      "execution_count": null,
      "outputs": [
        {
          "output_type": "stream",
          "name": "stdout",
          "text": [
            "Model: \"sequential_5\"\n",
            "_________________________________________________________________\n",
            " Layer (type)                Output Shape              Param #   \n",
            "=================================================================\n",
            " dense_9 (Dense)             (None, 250)               500       \n",
            "                                                                 \n",
            " dense_10 (Dense)            (None, 1)                 251       \n",
            "                                                                 \n",
            "=================================================================\n",
            "Total params: 751\n",
            "Trainable params: 751\n",
            "Non-trainable params: 0\n",
            "_________________________________________________________________\n"
          ]
        }
      ]
    },
    {
      "cell_type": "code",
      "source": [
        "#  check to see if predictions match\n",
        "load_h5_model_preds = load_h5_model.predict(X_test)\n",
        "load_h5_model_preds == model2_preds"
      ],
      "metadata": {
        "id": "q6Jn0PY1uDUW",
        "colab": {
          "base_uri": "https://localhost:8080/"
        },
        "outputId": "9ec2fca8-7cb8-418a-f9a1-5024ce4d13ad"
      },
      "execution_count": null,
      "outputs": [
        {
          "output_type": "stream",
          "name": "stdout",
          "text": [
            "1/1 [==============================] - 0s 224ms/step\n"
          ]
        },
        {
          "output_type": "execute_result",
          "data": {
            "text/plain": [
              "array([[ True],\n",
              "       [ True],\n",
              "       [ True],\n",
              "       [ True],\n",
              "       [ True],\n",
              "       [ True],\n",
              "       [ True],\n",
              "       [ True],\n",
              "       [ True],\n",
              "       [ True]])"
            ]
          },
          "metadata": {},
          "execution_count": 92
        }
      ]
    },
    {
      "cell_type": "markdown",
      "source": [
        "## Download a file or any other fike from colab\n",
        " 1  go to files tab and right click on the file you are after and click download\n",
        "\n",
        "2  Use code below\n",
        "\n",
        "3  Save it to gogle drive by connecting and copying it there (see 2nd code)"
      ],
      "metadata": {
        "id": "LfU_Do7vuDaE"
      }
    },
    {
      "cell_type": "code",
      "source": [
        "from google.colab import files\n",
        "files.download(\"/content/model2.h5\")"
      ],
      "metadata": {
        "id": "WoqaMmRLwRli",
        "colab": {
          "base_uri": "https://localhost:8080/",
          "height": 17
        },
        "outputId": "2b73eb3d-377a-475a-e464-a7550ea5370f"
      },
      "execution_count": null,
      "outputs": [
        {
          "output_type": "display_data",
          "data": {
            "text/plain": [
              "<IPython.core.display.Javascript object>"
            ],
            "application/javascript": [
              "\n",
              "    async function download(id, filename, size) {\n",
              "      if (!google.colab.kernel.accessAllowed) {\n",
              "        return;\n",
              "      }\n",
              "      const div = document.createElement('div');\n",
              "      const label = document.createElement('label');\n",
              "      label.textContent = `Downloading \"${filename}\": `;\n",
              "      div.appendChild(label);\n",
              "      const progress = document.createElement('progress');\n",
              "      progress.max = size;\n",
              "      div.appendChild(progress);\n",
              "      document.body.appendChild(div);\n",
              "\n",
              "      const buffers = [];\n",
              "      let downloaded = 0;\n",
              "\n",
              "      const channel = await google.colab.kernel.comms.open(id);\n",
              "      // Send a message to notify the kernel that we're ready.\n",
              "      channel.send({})\n",
              "\n",
              "      for await (const message of channel.messages) {\n",
              "        // Send a message to notify the kernel that we're ready.\n",
              "        channel.send({})\n",
              "        if (message.buffers) {\n",
              "          for (const buffer of message.buffers) {\n",
              "            buffers.push(buffer);\n",
              "            downloaded += buffer.byteLength;\n",
              "            progress.value = downloaded;\n",
              "          }\n",
              "        }\n",
              "      }\n",
              "      const blob = new Blob(buffers, {type: 'application/binary'});\n",
              "      const a = document.createElement('a');\n",
              "      a.href = window.URL.createObjectURL(blob);\n",
              "      a.download = filename;\n",
              "      div.appendChild(a);\n",
              "      a.click();\n",
              "      div.remove();\n",
              "    }\n",
              "  "
            ]
          },
          "metadata": {}
        },
        {
          "output_type": "display_data",
          "data": {
            "text/plain": [
              "<IPython.core.display.Javascript object>"
            ],
            "application/javascript": [
              "download(\"download_111addee-d93b-4990-88c2-fc451cd9e95b\", \"model2.h5\", 26048)"
            ]
          },
          "metadata": {}
        }
      ]
    },
    {
      "cell_type": "code",
      "source": [],
      "metadata": {
        "id": "FqP0O07KyGt9"
      },
      "execution_count": null,
      "outputs": []
    },
    {
      "cell_type": "code",
      "source": [
        "!cp /content/model2.h5 /content/drive/MyDrive"
      ],
      "metadata": {
        "id": "QI6PlHTmxKY3"
      },
      "execution_count": null,
      "outputs": []
    },
    {
      "cell_type": "code",
      "source": [
        "!ls /content/drive/MyDrive"
      ],
      "metadata": {
        "id": "8AoQ62PQyHVn"
      },
      "execution_count": null,
      "outputs": []
    },
    {
      "cell_type": "code",
      "source": [],
      "metadata": {
        "id": "cUdB5cDlNVMv"
      },
      "execution_count": null,
      "outputs": []
    },
    {
      "cell_type": "markdown",
      "source": [
        "## A LARGE MODEL"
      ],
      "metadata": {
        "id": "HBpoU-UfyJe9"
      }
    },
    {
      "cell_type": "code",
      "source": [
        "# IMPORT REQUIRED LIBRARIES\n",
        "import pandas as pd\n",
        "import matplotlib.pyplot as plt\n",
        "import tensorflow as tf\n"
      ],
      "metadata": {
        "id": "1Z9Vk2bXNebm"
      },
      "execution_count": null,
      "outputs": []
    },
    {
      "cell_type": "code",
      "source": [
        "# read thye dataset\n",
        "insurance = pd.read_csv(r\"https://raw.githubusercontent.com/stedy/Machine-Learning-with-R-datasets/master/insurance.csv\")\n",
        "insurance"
      ],
      "metadata": {
        "colab": {
          "base_uri": "https://localhost:8080/",
          "height": 423
        },
        "id": "xbgFlfeSO2LI",
        "outputId": "b0c0c7c0-e6cc-4056-b148-424db50f837b"
      },
      "execution_count": null,
      "outputs": [
        {
          "output_type": "execute_result",
          "data": {
            "text/plain": [
              "      age     sex     bmi  children smoker     region      charges\n",
              "0      19  female  27.900         0    yes  southwest  16884.92400\n",
              "1      18    male  33.770         1     no  southeast   1725.55230\n",
              "2      28    male  33.000         3     no  southeast   4449.46200\n",
              "3      33    male  22.705         0     no  northwest  21984.47061\n",
              "4      32    male  28.880         0     no  northwest   3866.85520\n",
              "...   ...     ...     ...       ...    ...        ...          ...\n",
              "1333   50    male  30.970         3     no  northwest  10600.54830\n",
              "1334   18  female  31.920         0     no  northeast   2205.98080\n",
              "1335   18  female  36.850         0     no  southeast   1629.83350\n",
              "1336   21  female  25.800         0     no  southwest   2007.94500\n",
              "1337   61  female  29.070         0    yes  northwest  29141.36030\n",
              "\n",
              "[1338 rows x 7 columns]"
            ],
            "text/html": [
              "\n",
              "  <div id=\"df-41b13aa2-1358-4032-a259-a3e3a7a6d16a\">\n",
              "    <div class=\"colab-df-container\">\n",
              "      <div>\n",
              "<style scoped>\n",
              "    .dataframe tbody tr th:only-of-type {\n",
              "        vertical-align: middle;\n",
              "    }\n",
              "\n",
              "    .dataframe tbody tr th {\n",
              "        vertical-align: top;\n",
              "    }\n",
              "\n",
              "    .dataframe thead th {\n",
              "        text-align: right;\n",
              "    }\n",
              "</style>\n",
              "<table border=\"1\" class=\"dataframe\">\n",
              "  <thead>\n",
              "    <tr style=\"text-align: right;\">\n",
              "      <th></th>\n",
              "      <th>age</th>\n",
              "      <th>sex</th>\n",
              "      <th>bmi</th>\n",
              "      <th>children</th>\n",
              "      <th>smoker</th>\n",
              "      <th>region</th>\n",
              "      <th>charges</th>\n",
              "    </tr>\n",
              "  </thead>\n",
              "  <tbody>\n",
              "    <tr>\n",
              "      <th>0</th>\n",
              "      <td>19</td>\n",
              "      <td>female</td>\n",
              "      <td>27.900</td>\n",
              "      <td>0</td>\n",
              "      <td>yes</td>\n",
              "      <td>southwest</td>\n",
              "      <td>16884.92400</td>\n",
              "    </tr>\n",
              "    <tr>\n",
              "      <th>1</th>\n",
              "      <td>18</td>\n",
              "      <td>male</td>\n",
              "      <td>33.770</td>\n",
              "      <td>1</td>\n",
              "      <td>no</td>\n",
              "      <td>southeast</td>\n",
              "      <td>1725.55230</td>\n",
              "    </tr>\n",
              "    <tr>\n",
              "      <th>2</th>\n",
              "      <td>28</td>\n",
              "      <td>male</td>\n",
              "      <td>33.000</td>\n",
              "      <td>3</td>\n",
              "      <td>no</td>\n",
              "      <td>southeast</td>\n",
              "      <td>4449.46200</td>\n",
              "    </tr>\n",
              "    <tr>\n",
              "      <th>3</th>\n",
              "      <td>33</td>\n",
              "      <td>male</td>\n",
              "      <td>22.705</td>\n",
              "      <td>0</td>\n",
              "      <td>no</td>\n",
              "      <td>northwest</td>\n",
              "      <td>21984.47061</td>\n",
              "    </tr>\n",
              "    <tr>\n",
              "      <th>4</th>\n",
              "      <td>32</td>\n",
              "      <td>male</td>\n",
              "      <td>28.880</td>\n",
              "      <td>0</td>\n",
              "      <td>no</td>\n",
              "      <td>northwest</td>\n",
              "      <td>3866.85520</td>\n",
              "    </tr>\n",
              "    <tr>\n",
              "      <th>...</th>\n",
              "      <td>...</td>\n",
              "      <td>...</td>\n",
              "      <td>...</td>\n",
              "      <td>...</td>\n",
              "      <td>...</td>\n",
              "      <td>...</td>\n",
              "      <td>...</td>\n",
              "    </tr>\n",
              "    <tr>\n",
              "      <th>1333</th>\n",
              "      <td>50</td>\n",
              "      <td>male</td>\n",
              "      <td>30.970</td>\n",
              "      <td>3</td>\n",
              "      <td>no</td>\n",
              "      <td>northwest</td>\n",
              "      <td>10600.54830</td>\n",
              "    </tr>\n",
              "    <tr>\n",
              "      <th>1334</th>\n",
              "      <td>18</td>\n",
              "      <td>female</td>\n",
              "      <td>31.920</td>\n",
              "      <td>0</td>\n",
              "      <td>no</td>\n",
              "      <td>northeast</td>\n",
              "      <td>2205.98080</td>\n",
              "    </tr>\n",
              "    <tr>\n",
              "      <th>1335</th>\n",
              "      <td>18</td>\n",
              "      <td>female</td>\n",
              "      <td>36.850</td>\n",
              "      <td>0</td>\n",
              "      <td>no</td>\n",
              "      <td>southeast</td>\n",
              "      <td>1629.83350</td>\n",
              "    </tr>\n",
              "    <tr>\n",
              "      <th>1336</th>\n",
              "      <td>21</td>\n",
              "      <td>female</td>\n",
              "      <td>25.800</td>\n",
              "      <td>0</td>\n",
              "      <td>no</td>\n",
              "      <td>southwest</td>\n",
              "      <td>2007.94500</td>\n",
              "    </tr>\n",
              "    <tr>\n",
              "      <th>1337</th>\n",
              "      <td>61</td>\n",
              "      <td>female</td>\n",
              "      <td>29.070</td>\n",
              "      <td>0</td>\n",
              "      <td>yes</td>\n",
              "      <td>northwest</td>\n",
              "      <td>29141.36030</td>\n",
              "    </tr>\n",
              "  </tbody>\n",
              "</table>\n",
              "<p>1338 rows × 7 columns</p>\n",
              "</div>\n",
              "      <button class=\"colab-df-convert\" onclick=\"convertToInteractive('df-41b13aa2-1358-4032-a259-a3e3a7a6d16a')\"\n",
              "              title=\"Convert this dataframe to an interactive table.\"\n",
              "              style=\"display:none;\">\n",
              "        \n",
              "  <svg xmlns=\"http://www.w3.org/2000/svg\" height=\"24px\"viewBox=\"0 0 24 24\"\n",
              "       width=\"24px\">\n",
              "    <path d=\"M0 0h24v24H0V0z\" fill=\"none\"/>\n",
              "    <path d=\"M18.56 5.44l.94 2.06.94-2.06 2.06-.94-2.06-.94-.94-2.06-.94 2.06-2.06.94zm-11 1L8.5 8.5l.94-2.06 2.06-.94-2.06-.94L8.5 2.5l-.94 2.06-2.06.94zm10 10l.94 2.06.94-2.06 2.06-.94-2.06-.94-.94-2.06-.94 2.06-2.06.94z\"/><path d=\"M17.41 7.96l-1.37-1.37c-.4-.4-.92-.59-1.43-.59-.52 0-1.04.2-1.43.59L10.3 9.45l-7.72 7.72c-.78.78-.78 2.05 0 2.83L4 21.41c.39.39.9.59 1.41.59.51 0 1.02-.2 1.41-.59l7.78-7.78 2.81-2.81c.8-.78.8-2.07 0-2.86zM5.41 20L4 18.59l7.72-7.72 1.47 1.35L5.41 20z\"/>\n",
              "  </svg>\n",
              "      </button>\n",
              "      \n",
              "  <style>\n",
              "    .colab-df-container {\n",
              "      display:flex;\n",
              "      flex-wrap:wrap;\n",
              "      gap: 12px;\n",
              "    }\n",
              "\n",
              "    .colab-df-convert {\n",
              "      background-color: #E8F0FE;\n",
              "      border: none;\n",
              "      border-radius: 50%;\n",
              "      cursor: pointer;\n",
              "      display: none;\n",
              "      fill: #1967D2;\n",
              "      height: 32px;\n",
              "      padding: 0 0 0 0;\n",
              "      width: 32px;\n",
              "    }\n",
              "\n",
              "    .colab-df-convert:hover {\n",
              "      background-color: #E2EBFA;\n",
              "      box-shadow: 0px 1px 2px rgba(60, 64, 67, 0.3), 0px 1px 3px 1px rgba(60, 64, 67, 0.15);\n",
              "      fill: #174EA6;\n",
              "    }\n",
              "\n",
              "    [theme=dark] .colab-df-convert {\n",
              "      background-color: #3B4455;\n",
              "      fill: #D2E3FC;\n",
              "    }\n",
              "\n",
              "    [theme=dark] .colab-df-convert:hover {\n",
              "      background-color: #434B5C;\n",
              "      box-shadow: 0px 1px 3px 1px rgba(0, 0, 0, 0.15);\n",
              "      filter: drop-shadow(0px 1px 2px rgba(0, 0, 0, 0.3));\n",
              "      fill: #FFFFFF;\n",
              "    }\n",
              "  </style>\n",
              "\n",
              "      <script>\n",
              "        const buttonEl =\n",
              "          document.querySelector('#df-41b13aa2-1358-4032-a259-a3e3a7a6d16a button.colab-df-convert');\n",
              "        buttonEl.style.display =\n",
              "          google.colab.kernel.accessAllowed ? 'block' : 'none';\n",
              "\n",
              "        async function convertToInteractive(key) {\n",
              "          const element = document.querySelector('#df-41b13aa2-1358-4032-a259-a3e3a7a6d16a');\n",
              "          const dataTable =\n",
              "            await google.colab.kernel.invokeFunction('convertToInteractive',\n",
              "                                                     [key], {});\n",
              "          if (!dataTable) return;\n",
              "\n",
              "          const docLinkHtml = 'Like what you see? Visit the ' +\n",
              "            '<a target=\"_blank\" href=https://colab.research.google.com/notebooks/data_table.ipynb>data table notebook</a>'\n",
              "            + ' to learn more about interactive tables.';\n",
              "          element.innerHTML = '';\n",
              "          dataTable['output_type'] = 'display_data';\n",
              "          await google.colab.output.renderOutput(dataTable, element);\n",
              "          const docLink = document.createElement('div');\n",
              "          docLink.innerHTML = docLinkHtml;\n",
              "          element.appendChild(docLink);\n",
              "        }\n",
              "      </script>\n",
              "    </div>\n",
              "  </div>\n",
              "  "
            ]
          },
          "metadata": {},
          "execution_count": 4
        }
      ]
    },
    {
      "cell_type": "code",
      "source": [
        "#  charges is the dpendent variable\n",
        "insurance.head()"
      ],
      "metadata": {
        "colab": {
          "base_uri": "https://localhost:8080/",
          "height": 206
        },
        "id": "Eegke0AEPAw5",
        "outputId": "a8b96e27-19b3-4cf8-8a57-a008d7a72ee6"
      },
      "execution_count": null,
      "outputs": [
        {
          "output_type": "execute_result",
          "data": {
            "text/plain": [
              "   age     sex     bmi  children smoker     region      charges\n",
              "0   19  female  27.900         0    yes  southwest  16884.92400\n",
              "1   18    male  33.770         1     no  southeast   1725.55230\n",
              "2   28    male  33.000         3     no  southeast   4449.46200\n",
              "3   33    male  22.705         0     no  northwest  21984.47061\n",
              "4   32    male  28.880         0     no  northwest   3866.85520"
            ],
            "text/html": [
              "\n",
              "  <div id=\"df-bfef1dec-df32-442b-a7a8-714d05a8516c\">\n",
              "    <div class=\"colab-df-container\">\n",
              "      <div>\n",
              "<style scoped>\n",
              "    .dataframe tbody tr th:only-of-type {\n",
              "        vertical-align: middle;\n",
              "    }\n",
              "\n",
              "    .dataframe tbody tr th {\n",
              "        vertical-align: top;\n",
              "    }\n",
              "\n",
              "    .dataframe thead th {\n",
              "        text-align: right;\n",
              "    }\n",
              "</style>\n",
              "<table border=\"1\" class=\"dataframe\">\n",
              "  <thead>\n",
              "    <tr style=\"text-align: right;\">\n",
              "      <th></th>\n",
              "      <th>age</th>\n",
              "      <th>sex</th>\n",
              "      <th>bmi</th>\n",
              "      <th>children</th>\n",
              "      <th>smoker</th>\n",
              "      <th>region</th>\n",
              "      <th>charges</th>\n",
              "    </tr>\n",
              "  </thead>\n",
              "  <tbody>\n",
              "    <tr>\n",
              "      <th>0</th>\n",
              "      <td>19</td>\n",
              "      <td>female</td>\n",
              "      <td>27.900</td>\n",
              "      <td>0</td>\n",
              "      <td>yes</td>\n",
              "      <td>southwest</td>\n",
              "      <td>16884.92400</td>\n",
              "    </tr>\n",
              "    <tr>\n",
              "      <th>1</th>\n",
              "      <td>18</td>\n",
              "      <td>male</td>\n",
              "      <td>33.770</td>\n",
              "      <td>1</td>\n",
              "      <td>no</td>\n",
              "      <td>southeast</td>\n",
              "      <td>1725.55230</td>\n",
              "    </tr>\n",
              "    <tr>\n",
              "      <th>2</th>\n",
              "      <td>28</td>\n",
              "      <td>male</td>\n",
              "      <td>33.000</td>\n",
              "      <td>3</td>\n",
              "      <td>no</td>\n",
              "      <td>southeast</td>\n",
              "      <td>4449.46200</td>\n",
              "    </tr>\n",
              "    <tr>\n",
              "      <th>3</th>\n",
              "      <td>33</td>\n",
              "      <td>male</td>\n",
              "      <td>22.705</td>\n",
              "      <td>0</td>\n",
              "      <td>no</td>\n",
              "      <td>northwest</td>\n",
              "      <td>21984.47061</td>\n",
              "    </tr>\n",
              "    <tr>\n",
              "      <th>4</th>\n",
              "      <td>32</td>\n",
              "      <td>male</td>\n",
              "      <td>28.880</td>\n",
              "      <td>0</td>\n",
              "      <td>no</td>\n",
              "      <td>northwest</td>\n",
              "      <td>3866.85520</td>\n",
              "    </tr>\n",
              "  </tbody>\n",
              "</table>\n",
              "</div>\n",
              "      <button class=\"colab-df-convert\" onclick=\"convertToInteractive('df-bfef1dec-df32-442b-a7a8-714d05a8516c')\"\n",
              "              title=\"Convert this dataframe to an interactive table.\"\n",
              "              style=\"display:none;\">\n",
              "        \n",
              "  <svg xmlns=\"http://www.w3.org/2000/svg\" height=\"24px\"viewBox=\"0 0 24 24\"\n",
              "       width=\"24px\">\n",
              "    <path d=\"M0 0h24v24H0V0z\" fill=\"none\"/>\n",
              "    <path d=\"M18.56 5.44l.94 2.06.94-2.06 2.06-.94-2.06-.94-.94-2.06-.94 2.06-2.06.94zm-11 1L8.5 8.5l.94-2.06 2.06-.94-2.06-.94L8.5 2.5l-.94 2.06-2.06.94zm10 10l.94 2.06.94-2.06 2.06-.94-2.06-.94-.94-2.06-.94 2.06-2.06.94z\"/><path d=\"M17.41 7.96l-1.37-1.37c-.4-.4-.92-.59-1.43-.59-.52 0-1.04.2-1.43.59L10.3 9.45l-7.72 7.72c-.78.78-.78 2.05 0 2.83L4 21.41c.39.39.9.59 1.41.59.51 0 1.02-.2 1.41-.59l7.78-7.78 2.81-2.81c.8-.78.8-2.07 0-2.86zM5.41 20L4 18.59l7.72-7.72 1.47 1.35L5.41 20z\"/>\n",
              "  </svg>\n",
              "      </button>\n",
              "      \n",
              "  <style>\n",
              "    .colab-df-container {\n",
              "      display:flex;\n",
              "      flex-wrap:wrap;\n",
              "      gap: 12px;\n",
              "    }\n",
              "\n",
              "    .colab-df-convert {\n",
              "      background-color: #E8F0FE;\n",
              "      border: none;\n",
              "      border-radius: 50%;\n",
              "      cursor: pointer;\n",
              "      display: none;\n",
              "      fill: #1967D2;\n",
              "      height: 32px;\n",
              "      padding: 0 0 0 0;\n",
              "      width: 32px;\n",
              "    }\n",
              "\n",
              "    .colab-df-convert:hover {\n",
              "      background-color: #E2EBFA;\n",
              "      box-shadow: 0px 1px 2px rgba(60, 64, 67, 0.3), 0px 1px 3px 1px rgba(60, 64, 67, 0.15);\n",
              "      fill: #174EA6;\n",
              "    }\n",
              "\n",
              "    [theme=dark] .colab-df-convert {\n",
              "      background-color: #3B4455;\n",
              "      fill: #D2E3FC;\n",
              "    }\n",
              "\n",
              "    [theme=dark] .colab-df-convert:hover {\n",
              "      background-color: #434B5C;\n",
              "      box-shadow: 0px 1px 3px 1px rgba(0, 0, 0, 0.15);\n",
              "      filter: drop-shadow(0px 1px 2px rgba(0, 0, 0, 0.3));\n",
              "      fill: #FFFFFF;\n",
              "    }\n",
              "  </style>\n",
              "\n",
              "      <script>\n",
              "        const buttonEl =\n",
              "          document.querySelector('#df-bfef1dec-df32-442b-a7a8-714d05a8516c button.colab-df-convert');\n",
              "        buttonEl.style.display =\n",
              "          google.colab.kernel.accessAllowed ? 'block' : 'none';\n",
              "\n",
              "        async function convertToInteractive(key) {\n",
              "          const element = document.querySelector('#df-bfef1dec-df32-442b-a7a8-714d05a8516c');\n",
              "          const dataTable =\n",
              "            await google.colab.kernel.invokeFunction('convertToInteractive',\n",
              "                                                     [key], {});\n",
              "          if (!dataTable) return;\n",
              "\n",
              "          const docLinkHtml = 'Like what you see? Visit the ' +\n",
              "            '<a target=\"_blank\" href=https://colab.research.google.com/notebooks/data_table.ipynb>data table notebook</a>'\n",
              "            + ' to learn more about interactive tables.';\n",
              "          element.innerHTML = '';\n",
              "          dataTable['output_type'] = 'display_data';\n",
              "          await google.colab.output.renderOutput(dataTable, element);\n",
              "          const docLink = document.createElement('div');\n",
              "          docLink.innerHTML = docLinkHtml;\n",
              "          element.appendChild(docLink);\n",
              "        }\n",
              "      </script>\n",
              "    </div>\n",
              "  </div>\n",
              "  "
            ]
          },
          "metadata": {},
          "execution_count": 5
        }
      ]
    },
    {
      "cell_type": "code",
      "source": [
        "insurance.sex"
      ],
      "metadata": {
        "colab": {
          "base_uri": "https://localhost:8080/"
        },
        "id": "KyqsiNcHS1V5",
        "outputId": "a91f95a6-46be-41c2-dd74-779150177995"
      },
      "execution_count": null,
      "outputs": [
        {
          "output_type": "execute_result",
          "data": {
            "text/plain": [
              "0       female\n",
              "1         male\n",
              "2         male\n",
              "3         male\n",
              "4         male\n",
              "         ...  \n",
              "1333      male\n",
              "1334    female\n",
              "1335    female\n",
              "1336    female\n",
              "1337    female\n",
              "Name: sex, Length: 1338, dtype: object"
            ]
          },
          "metadata": {},
          "execution_count": 99
        }
      ]
    },
    {
      "cell_type": "code",
      "source": [
        "df = pd.get_dummies(insurance)\n",
        "df"
      ],
      "metadata": {
        "colab": {
          "base_uri": "https://localhost:8080/",
          "height": 423
        },
        "id": "i8sQ2fGmS3R6",
        "outputId": "c3d36730-ab85-4e25-c74a-071b7f0906b5"
      },
      "execution_count": null,
      "outputs": [
        {
          "output_type": "execute_result",
          "data": {
            "text/plain": [
              "      age     bmi  children      charges  sex_female  sex_male  smoker_no  \\\n",
              "0      19  27.900         0  16884.92400           1         0          0   \n",
              "1      18  33.770         1   1725.55230           0         1          1   \n",
              "2      28  33.000         3   4449.46200           0         1          1   \n",
              "3      33  22.705         0  21984.47061           0         1          1   \n",
              "4      32  28.880         0   3866.85520           0         1          1   \n",
              "...   ...     ...       ...          ...         ...       ...        ...   \n",
              "1333   50  30.970         3  10600.54830           0         1          1   \n",
              "1334   18  31.920         0   2205.98080           1         0          1   \n",
              "1335   18  36.850         0   1629.83350           1         0          1   \n",
              "1336   21  25.800         0   2007.94500           1         0          1   \n",
              "1337   61  29.070         0  29141.36030           1         0          0   \n",
              "\n",
              "      smoker_yes  region_northeast  region_northwest  region_southeast  \\\n",
              "0              1                 0                 0                 0   \n",
              "1              0                 0                 0                 1   \n",
              "2              0                 0                 0                 1   \n",
              "3              0                 0                 1                 0   \n",
              "4              0                 0                 1                 0   \n",
              "...          ...               ...               ...               ...   \n",
              "1333           0                 0                 1                 0   \n",
              "1334           0                 1                 0                 0   \n",
              "1335           0                 0                 0                 1   \n",
              "1336           0                 0                 0                 0   \n",
              "1337           1                 0                 1                 0   \n",
              "\n",
              "      region_southwest  \n",
              "0                    1  \n",
              "1                    0  \n",
              "2                    0  \n",
              "3                    0  \n",
              "4                    0  \n",
              "...                ...  \n",
              "1333                 0  \n",
              "1334                 0  \n",
              "1335                 0  \n",
              "1336                 1  \n",
              "1337                 0  \n",
              "\n",
              "[1338 rows x 12 columns]"
            ],
            "text/html": [
              "\n",
              "  <div id=\"df-5930b567-1a10-4652-b4fb-9fa34a0c7cd7\">\n",
              "    <div class=\"colab-df-container\">\n",
              "      <div>\n",
              "<style scoped>\n",
              "    .dataframe tbody tr th:only-of-type {\n",
              "        vertical-align: middle;\n",
              "    }\n",
              "\n",
              "    .dataframe tbody tr th {\n",
              "        vertical-align: top;\n",
              "    }\n",
              "\n",
              "    .dataframe thead th {\n",
              "        text-align: right;\n",
              "    }\n",
              "</style>\n",
              "<table border=\"1\" class=\"dataframe\">\n",
              "  <thead>\n",
              "    <tr style=\"text-align: right;\">\n",
              "      <th></th>\n",
              "      <th>age</th>\n",
              "      <th>bmi</th>\n",
              "      <th>children</th>\n",
              "      <th>charges</th>\n",
              "      <th>sex_female</th>\n",
              "      <th>sex_male</th>\n",
              "      <th>smoker_no</th>\n",
              "      <th>smoker_yes</th>\n",
              "      <th>region_northeast</th>\n",
              "      <th>region_northwest</th>\n",
              "      <th>region_southeast</th>\n",
              "      <th>region_southwest</th>\n",
              "    </tr>\n",
              "  </thead>\n",
              "  <tbody>\n",
              "    <tr>\n",
              "      <th>0</th>\n",
              "      <td>19</td>\n",
              "      <td>27.900</td>\n",
              "      <td>0</td>\n",
              "      <td>16884.92400</td>\n",
              "      <td>1</td>\n",
              "      <td>0</td>\n",
              "      <td>0</td>\n",
              "      <td>1</td>\n",
              "      <td>0</td>\n",
              "      <td>0</td>\n",
              "      <td>0</td>\n",
              "      <td>1</td>\n",
              "    </tr>\n",
              "    <tr>\n",
              "      <th>1</th>\n",
              "      <td>18</td>\n",
              "      <td>33.770</td>\n",
              "      <td>1</td>\n",
              "      <td>1725.55230</td>\n",
              "      <td>0</td>\n",
              "      <td>1</td>\n",
              "      <td>1</td>\n",
              "      <td>0</td>\n",
              "      <td>0</td>\n",
              "      <td>0</td>\n",
              "      <td>1</td>\n",
              "      <td>0</td>\n",
              "    </tr>\n",
              "    <tr>\n",
              "      <th>2</th>\n",
              "      <td>28</td>\n",
              "      <td>33.000</td>\n",
              "      <td>3</td>\n",
              "      <td>4449.46200</td>\n",
              "      <td>0</td>\n",
              "      <td>1</td>\n",
              "      <td>1</td>\n",
              "      <td>0</td>\n",
              "      <td>0</td>\n",
              "      <td>0</td>\n",
              "      <td>1</td>\n",
              "      <td>0</td>\n",
              "    </tr>\n",
              "    <tr>\n",
              "      <th>3</th>\n",
              "      <td>33</td>\n",
              "      <td>22.705</td>\n",
              "      <td>0</td>\n",
              "      <td>21984.47061</td>\n",
              "      <td>0</td>\n",
              "      <td>1</td>\n",
              "      <td>1</td>\n",
              "      <td>0</td>\n",
              "      <td>0</td>\n",
              "      <td>1</td>\n",
              "      <td>0</td>\n",
              "      <td>0</td>\n",
              "    </tr>\n",
              "    <tr>\n",
              "      <th>4</th>\n",
              "      <td>32</td>\n",
              "      <td>28.880</td>\n",
              "      <td>0</td>\n",
              "      <td>3866.85520</td>\n",
              "      <td>0</td>\n",
              "      <td>1</td>\n",
              "      <td>1</td>\n",
              "      <td>0</td>\n",
              "      <td>0</td>\n",
              "      <td>1</td>\n",
              "      <td>0</td>\n",
              "      <td>0</td>\n",
              "    </tr>\n",
              "    <tr>\n",
              "      <th>...</th>\n",
              "      <td>...</td>\n",
              "      <td>...</td>\n",
              "      <td>...</td>\n",
              "      <td>...</td>\n",
              "      <td>...</td>\n",
              "      <td>...</td>\n",
              "      <td>...</td>\n",
              "      <td>...</td>\n",
              "      <td>...</td>\n",
              "      <td>...</td>\n",
              "      <td>...</td>\n",
              "      <td>...</td>\n",
              "    </tr>\n",
              "    <tr>\n",
              "      <th>1333</th>\n",
              "      <td>50</td>\n",
              "      <td>30.970</td>\n",
              "      <td>3</td>\n",
              "      <td>10600.54830</td>\n",
              "      <td>0</td>\n",
              "      <td>1</td>\n",
              "      <td>1</td>\n",
              "      <td>0</td>\n",
              "      <td>0</td>\n",
              "      <td>1</td>\n",
              "      <td>0</td>\n",
              "      <td>0</td>\n",
              "    </tr>\n",
              "    <tr>\n",
              "      <th>1334</th>\n",
              "      <td>18</td>\n",
              "      <td>31.920</td>\n",
              "      <td>0</td>\n",
              "      <td>2205.98080</td>\n",
              "      <td>1</td>\n",
              "      <td>0</td>\n",
              "      <td>1</td>\n",
              "      <td>0</td>\n",
              "      <td>1</td>\n",
              "      <td>0</td>\n",
              "      <td>0</td>\n",
              "      <td>0</td>\n",
              "    </tr>\n",
              "    <tr>\n",
              "      <th>1335</th>\n",
              "      <td>18</td>\n",
              "      <td>36.850</td>\n",
              "      <td>0</td>\n",
              "      <td>1629.83350</td>\n",
              "      <td>1</td>\n",
              "      <td>0</td>\n",
              "      <td>1</td>\n",
              "      <td>0</td>\n",
              "      <td>0</td>\n",
              "      <td>0</td>\n",
              "      <td>1</td>\n",
              "      <td>0</td>\n",
              "    </tr>\n",
              "    <tr>\n",
              "      <th>1336</th>\n",
              "      <td>21</td>\n",
              "      <td>25.800</td>\n",
              "      <td>0</td>\n",
              "      <td>2007.94500</td>\n",
              "      <td>1</td>\n",
              "      <td>0</td>\n",
              "      <td>1</td>\n",
              "      <td>0</td>\n",
              "      <td>0</td>\n",
              "      <td>0</td>\n",
              "      <td>0</td>\n",
              "      <td>1</td>\n",
              "    </tr>\n",
              "    <tr>\n",
              "      <th>1337</th>\n",
              "      <td>61</td>\n",
              "      <td>29.070</td>\n",
              "      <td>0</td>\n",
              "      <td>29141.36030</td>\n",
              "      <td>1</td>\n",
              "      <td>0</td>\n",
              "      <td>0</td>\n",
              "      <td>1</td>\n",
              "      <td>0</td>\n",
              "      <td>1</td>\n",
              "      <td>0</td>\n",
              "      <td>0</td>\n",
              "    </tr>\n",
              "  </tbody>\n",
              "</table>\n",
              "<p>1338 rows × 12 columns</p>\n",
              "</div>\n",
              "      <button class=\"colab-df-convert\" onclick=\"convertToInteractive('df-5930b567-1a10-4652-b4fb-9fa34a0c7cd7')\"\n",
              "              title=\"Convert this dataframe to an interactive table.\"\n",
              "              style=\"display:none;\">\n",
              "        \n",
              "  <svg xmlns=\"http://www.w3.org/2000/svg\" height=\"24px\"viewBox=\"0 0 24 24\"\n",
              "       width=\"24px\">\n",
              "    <path d=\"M0 0h24v24H0V0z\" fill=\"none\"/>\n",
              "    <path d=\"M18.56 5.44l.94 2.06.94-2.06 2.06-.94-2.06-.94-.94-2.06-.94 2.06-2.06.94zm-11 1L8.5 8.5l.94-2.06 2.06-.94-2.06-.94L8.5 2.5l-.94 2.06-2.06.94zm10 10l.94 2.06.94-2.06 2.06-.94-2.06-.94-.94-2.06-.94 2.06-2.06.94z\"/><path d=\"M17.41 7.96l-1.37-1.37c-.4-.4-.92-.59-1.43-.59-.52 0-1.04.2-1.43.59L10.3 9.45l-7.72 7.72c-.78.78-.78 2.05 0 2.83L4 21.41c.39.39.9.59 1.41.59.51 0 1.02-.2 1.41-.59l7.78-7.78 2.81-2.81c.8-.78.8-2.07 0-2.86zM5.41 20L4 18.59l7.72-7.72 1.47 1.35L5.41 20z\"/>\n",
              "  </svg>\n",
              "      </button>\n",
              "      \n",
              "  <style>\n",
              "    .colab-df-container {\n",
              "      display:flex;\n",
              "      flex-wrap:wrap;\n",
              "      gap: 12px;\n",
              "    }\n",
              "\n",
              "    .colab-df-convert {\n",
              "      background-color: #E8F0FE;\n",
              "      border: none;\n",
              "      border-radius: 50%;\n",
              "      cursor: pointer;\n",
              "      display: none;\n",
              "      fill: #1967D2;\n",
              "      height: 32px;\n",
              "      padding: 0 0 0 0;\n",
              "      width: 32px;\n",
              "    }\n",
              "\n",
              "    .colab-df-convert:hover {\n",
              "      background-color: #E2EBFA;\n",
              "      box-shadow: 0px 1px 2px rgba(60, 64, 67, 0.3), 0px 1px 3px 1px rgba(60, 64, 67, 0.15);\n",
              "      fill: #174EA6;\n",
              "    }\n",
              "\n",
              "    [theme=dark] .colab-df-convert {\n",
              "      background-color: #3B4455;\n",
              "      fill: #D2E3FC;\n",
              "    }\n",
              "\n",
              "    [theme=dark] .colab-df-convert:hover {\n",
              "      background-color: #434B5C;\n",
              "      box-shadow: 0px 1px 3px 1px rgba(0, 0, 0, 0.15);\n",
              "      filter: drop-shadow(0px 1px 2px rgba(0, 0, 0, 0.3));\n",
              "      fill: #FFFFFF;\n",
              "    }\n",
              "  </style>\n",
              "\n",
              "      <script>\n",
              "        const buttonEl =\n",
              "          document.querySelector('#df-5930b567-1a10-4652-b4fb-9fa34a0c7cd7 button.colab-df-convert');\n",
              "        buttonEl.style.display =\n",
              "          google.colab.kernel.accessAllowed ? 'block' : 'none';\n",
              "\n",
              "        async function convertToInteractive(key) {\n",
              "          const element = document.querySelector('#df-5930b567-1a10-4652-b4fb-9fa34a0c7cd7');\n",
              "          const dataTable =\n",
              "            await google.colab.kernel.invokeFunction('convertToInteractive',\n",
              "                                                     [key], {});\n",
              "          if (!dataTable) return;\n",
              "\n",
              "          const docLinkHtml = 'Like what you see? Visit the ' +\n",
              "            '<a target=\"_blank\" href=https://colab.research.google.com/notebooks/data_table.ipynb>data table notebook</a>'\n",
              "            + ' to learn more about interactive tables.';\n",
              "          element.innerHTML = '';\n",
              "          dataTable['output_type'] = 'display_data';\n",
              "          await google.colab.output.renderOutput(dataTable, element);\n",
              "          const docLink = document.createElement('div');\n",
              "          docLink.innerHTML = docLinkHtml;\n",
              "          element.appendChild(docLink);\n",
              "        }\n",
              "      </script>\n",
              "    </div>\n",
              "  </div>\n",
              "  "
            ]
          },
          "metadata": {},
          "execution_count": 6
        }
      ]
    },
    {
      "cell_type": "code",
      "source": [
        "X = df.drop(['charges'],axis = 'columns')\n",
        "X\n",
        "y = df.charges\n",
        "y"
      ],
      "metadata": {
        "colab": {
          "base_uri": "https://localhost:8080/"
        },
        "id": "FnfTnFlnTKyd",
        "outputId": "73665994-a4bd-4076-dff6-559eb230e0f3"
      },
      "execution_count": null,
      "outputs": [
        {
          "output_type": "execute_result",
          "data": {
            "text/plain": [
              "0       16884.92400\n",
              "1        1725.55230\n",
              "2        4449.46200\n",
              "3       21984.47061\n",
              "4        3866.85520\n",
              "           ...     \n",
              "1333    10600.54830\n",
              "1334     2205.98080\n",
              "1335     1629.83350\n",
              "1336     2007.94500\n",
              "1337    29141.36030\n",
              "Name: charges, Length: 1338, dtype: float64"
            ]
          },
          "metadata": {},
          "execution_count": 8
        }
      ]
    },
    {
      "cell_type": "code",
      "source": [
        "X.head()"
      ],
      "metadata": {
        "colab": {
          "base_uri": "https://localhost:8080/",
          "height": 206
        },
        "id": "7QEbzrcKUZrB",
        "outputId": "28e25183-2ce4-48ec-cb89-8c79271526c8"
      },
      "execution_count": null,
      "outputs": [
        {
          "output_type": "execute_result",
          "data": {
            "text/plain": [
              "   age     bmi  children  sex_female  sex_male  smoker_no  smoker_yes  \\\n",
              "0   19  27.900         0           1         0          0           1   \n",
              "1   18  33.770         1           0         1          1           0   \n",
              "2   28  33.000         3           0         1          1           0   \n",
              "3   33  22.705         0           0         1          1           0   \n",
              "4   32  28.880         0           0         1          1           0   \n",
              "\n",
              "   region_northeast  region_northwest  region_southeast  region_southwest  \n",
              "0                 0                 0                 0                 1  \n",
              "1                 0                 0                 1                 0  \n",
              "2                 0                 0                 1                 0  \n",
              "3                 0                 1                 0                 0  \n",
              "4                 0                 1                 0                 0  "
            ],
            "text/html": [
              "\n",
              "  <div id=\"df-c5433f87-7509-41eb-8d06-66f4bd74dab8\">\n",
              "    <div class=\"colab-df-container\">\n",
              "      <div>\n",
              "<style scoped>\n",
              "    .dataframe tbody tr th:only-of-type {\n",
              "        vertical-align: middle;\n",
              "    }\n",
              "\n",
              "    .dataframe tbody tr th {\n",
              "        vertical-align: top;\n",
              "    }\n",
              "\n",
              "    .dataframe thead th {\n",
              "        text-align: right;\n",
              "    }\n",
              "</style>\n",
              "<table border=\"1\" class=\"dataframe\">\n",
              "  <thead>\n",
              "    <tr style=\"text-align: right;\">\n",
              "      <th></th>\n",
              "      <th>age</th>\n",
              "      <th>bmi</th>\n",
              "      <th>children</th>\n",
              "      <th>sex_female</th>\n",
              "      <th>sex_male</th>\n",
              "      <th>smoker_no</th>\n",
              "      <th>smoker_yes</th>\n",
              "      <th>region_northeast</th>\n",
              "      <th>region_northwest</th>\n",
              "      <th>region_southeast</th>\n",
              "      <th>region_southwest</th>\n",
              "    </tr>\n",
              "  </thead>\n",
              "  <tbody>\n",
              "    <tr>\n",
              "      <th>0</th>\n",
              "      <td>19</td>\n",
              "      <td>27.900</td>\n",
              "      <td>0</td>\n",
              "      <td>1</td>\n",
              "      <td>0</td>\n",
              "      <td>0</td>\n",
              "      <td>1</td>\n",
              "      <td>0</td>\n",
              "      <td>0</td>\n",
              "      <td>0</td>\n",
              "      <td>1</td>\n",
              "    </tr>\n",
              "    <tr>\n",
              "      <th>1</th>\n",
              "      <td>18</td>\n",
              "      <td>33.770</td>\n",
              "      <td>1</td>\n",
              "      <td>0</td>\n",
              "      <td>1</td>\n",
              "      <td>1</td>\n",
              "      <td>0</td>\n",
              "      <td>0</td>\n",
              "      <td>0</td>\n",
              "      <td>1</td>\n",
              "      <td>0</td>\n",
              "    </tr>\n",
              "    <tr>\n",
              "      <th>2</th>\n",
              "      <td>28</td>\n",
              "      <td>33.000</td>\n",
              "      <td>3</td>\n",
              "      <td>0</td>\n",
              "      <td>1</td>\n",
              "      <td>1</td>\n",
              "      <td>0</td>\n",
              "      <td>0</td>\n",
              "      <td>0</td>\n",
              "      <td>1</td>\n",
              "      <td>0</td>\n",
              "    </tr>\n",
              "    <tr>\n",
              "      <th>3</th>\n",
              "      <td>33</td>\n",
              "      <td>22.705</td>\n",
              "      <td>0</td>\n",
              "      <td>0</td>\n",
              "      <td>1</td>\n",
              "      <td>1</td>\n",
              "      <td>0</td>\n",
              "      <td>0</td>\n",
              "      <td>1</td>\n",
              "      <td>0</td>\n",
              "      <td>0</td>\n",
              "    </tr>\n",
              "    <tr>\n",
              "      <th>4</th>\n",
              "      <td>32</td>\n",
              "      <td>28.880</td>\n",
              "      <td>0</td>\n",
              "      <td>0</td>\n",
              "      <td>1</td>\n",
              "      <td>1</td>\n",
              "      <td>0</td>\n",
              "      <td>0</td>\n",
              "      <td>1</td>\n",
              "      <td>0</td>\n",
              "      <td>0</td>\n",
              "    </tr>\n",
              "  </tbody>\n",
              "</table>\n",
              "</div>\n",
              "      <button class=\"colab-df-convert\" onclick=\"convertToInteractive('df-c5433f87-7509-41eb-8d06-66f4bd74dab8')\"\n",
              "              title=\"Convert this dataframe to an interactive table.\"\n",
              "              style=\"display:none;\">\n",
              "        \n",
              "  <svg xmlns=\"http://www.w3.org/2000/svg\" height=\"24px\"viewBox=\"0 0 24 24\"\n",
              "       width=\"24px\">\n",
              "    <path d=\"M0 0h24v24H0V0z\" fill=\"none\"/>\n",
              "    <path d=\"M18.56 5.44l.94 2.06.94-2.06 2.06-.94-2.06-.94-.94-2.06-.94 2.06-2.06.94zm-11 1L8.5 8.5l.94-2.06 2.06-.94-2.06-.94L8.5 2.5l-.94 2.06-2.06.94zm10 10l.94 2.06.94-2.06 2.06-.94-2.06-.94-.94-2.06-.94 2.06-2.06.94z\"/><path d=\"M17.41 7.96l-1.37-1.37c-.4-.4-.92-.59-1.43-.59-.52 0-1.04.2-1.43.59L10.3 9.45l-7.72 7.72c-.78.78-.78 2.05 0 2.83L4 21.41c.39.39.9.59 1.41.59.51 0 1.02-.2 1.41-.59l7.78-7.78 2.81-2.81c.8-.78.8-2.07 0-2.86zM5.41 20L4 18.59l7.72-7.72 1.47 1.35L5.41 20z\"/>\n",
              "  </svg>\n",
              "      </button>\n",
              "      \n",
              "  <style>\n",
              "    .colab-df-container {\n",
              "      display:flex;\n",
              "      flex-wrap:wrap;\n",
              "      gap: 12px;\n",
              "    }\n",
              "\n",
              "    .colab-df-convert {\n",
              "      background-color: #E8F0FE;\n",
              "      border: none;\n",
              "      border-radius: 50%;\n",
              "      cursor: pointer;\n",
              "      display: none;\n",
              "      fill: #1967D2;\n",
              "      height: 32px;\n",
              "      padding: 0 0 0 0;\n",
              "      width: 32px;\n",
              "    }\n",
              "\n",
              "    .colab-df-convert:hover {\n",
              "      background-color: #E2EBFA;\n",
              "      box-shadow: 0px 1px 2px rgba(60, 64, 67, 0.3), 0px 1px 3px 1px rgba(60, 64, 67, 0.15);\n",
              "      fill: #174EA6;\n",
              "    }\n",
              "\n",
              "    [theme=dark] .colab-df-convert {\n",
              "      background-color: #3B4455;\n",
              "      fill: #D2E3FC;\n",
              "    }\n",
              "\n",
              "    [theme=dark] .colab-df-convert:hover {\n",
              "      background-color: #434B5C;\n",
              "      box-shadow: 0px 1px 3px 1px rgba(0, 0, 0, 0.15);\n",
              "      filter: drop-shadow(0px 1px 2px rgba(0, 0, 0, 0.3));\n",
              "      fill: #FFFFFF;\n",
              "    }\n",
              "  </style>\n",
              "\n",
              "      <script>\n",
              "        const buttonEl =\n",
              "          document.querySelector('#df-c5433f87-7509-41eb-8d06-66f4bd74dab8 button.colab-df-convert');\n",
              "        buttonEl.style.display =\n",
              "          google.colab.kernel.accessAllowed ? 'block' : 'none';\n",
              "\n",
              "        async function convertToInteractive(key) {\n",
              "          const element = document.querySelector('#df-c5433f87-7509-41eb-8d06-66f4bd74dab8');\n",
              "          const dataTable =\n",
              "            await google.colab.kernel.invokeFunction('convertToInteractive',\n",
              "                                                     [key], {});\n",
              "          if (!dataTable) return;\n",
              "\n",
              "          const docLinkHtml = 'Like what you see? Visit the ' +\n",
              "            '<a target=\"_blank\" href=https://colab.research.google.com/notebooks/data_table.ipynb>data table notebook</a>'\n",
              "            + ' to learn more about interactive tables.';\n",
              "          element.innerHTML = '';\n",
              "          dataTable['output_type'] = 'display_data';\n",
              "          await google.colab.output.renderOutput(dataTable, element);\n",
              "          const docLink = document.createElement('div');\n",
              "          docLink.innerHTML = docLinkHtml;\n",
              "          element.appendChild(docLink);\n",
              "        }\n",
              "      </script>\n",
              "    </div>\n",
              "  </div>\n",
              "  "
            ]
          },
          "metadata": {},
          "execution_count": 9
        }
      ]
    },
    {
      "cell_type": "code",
      "source": [
        "from sklearn.model_selection import train_test_split\n",
        "X_train,X_test,y_train,y_test = train_test_split(X,y,test_size = 0.2, ranodm_state = 42)\n",
        "\n"
      ],
      "metadata": {
        "id": "YvZonJ1kUfB2"
      },
      "execution_count": null,
      "outputs": []
    },
    {
      "cell_type": "code",
      "source": [
        "#  creat your model\n",
        "tf.random.set_seed(42)\n",
        "\n",
        "insurance_model = tf.keras.Sequential([\n",
        "    tf.keras.layers.Dense(1),\n",
        "    tf.keras.layers.Dense(1)\n",
        "])\n",
        "# compile\n",
        "insurance_model.compile(loss = tf.keras.losses.mae,\n",
        "                          optimizer = tf.keras.optimizers.SGD(),\n",
        "                          metrics =['mae'])\n",
        "\n",
        "# fit\n",
        "insurance_model.fit(tf.expand_dims(X_train, axis =-1),y_train,epochs = 100)\n"
      ],
      "metadata": {
        "colab": {
          "base_uri": "https://localhost:8080/"
        },
        "id": "EYG5ugulU0_0",
        "outputId": "aa6f4723-cc45-4834-87b8-e15591175f3e"
      },
      "execution_count": null,
      "outputs": [
        {
          "output_type": "stream",
          "name": "stdout",
          "text": [
            "Epoch 1/100\n",
            "34/34 [==============================] - 1s 2ms/step - loss: 12949.9668 - mae: 12949.9668\n",
            "Epoch 2/100\n",
            "34/34 [==============================] - 0s 2ms/step - loss: 12077.4209 - mae: 12077.4209\n",
            "Epoch 3/100\n",
            "34/34 [==============================] - 0s 2ms/step - loss: 11999.8389 - mae: 11999.8389\n",
            "Epoch 4/100\n",
            "34/34 [==============================] - 0s 2ms/step - loss: 11924.9463 - mae: 11924.9463\n",
            "Epoch 5/100\n",
            "34/34 [==============================] - 0s 2ms/step - loss: 11807.2871 - mae: 11807.2871\n",
            "Epoch 6/100\n",
            "34/34 [==============================] - 0s 2ms/step - loss: 11613.6934 - mae: 11613.6934\n",
            "Epoch 7/100\n",
            "34/34 [==============================] - 0s 2ms/step - loss: 11281.1689 - mae: 11281.1689\n",
            "Epoch 8/100\n",
            "34/34 [==============================] - 0s 2ms/step - loss: 10761.1191 - mae: 10761.1191\n",
            "Epoch 9/100\n",
            "34/34 [==============================] - 0s 2ms/step - loss: 10140.1074 - mae: 10140.1074\n",
            "Epoch 10/100\n",
            "34/34 [==============================] - 0s 2ms/step - loss: 9569.1641 - mae: 9569.1641\n",
            "Epoch 11/100\n",
            "34/34 [==============================] - 0s 2ms/step - loss: 9096.3525 - mae: 9096.3525\n",
            "Epoch 12/100\n",
            "34/34 [==============================] - 0s 2ms/step - loss: 8805.5508 - mae: 8805.5508\n",
            "Epoch 13/100\n",
            "34/34 [==============================] - 0s 2ms/step - loss: 8653.1172 - mae: 8653.1172\n",
            "Epoch 14/100\n",
            "34/34 [==============================] - 0s 3ms/step - loss: 8555.9170 - mae: 8555.9170\n",
            "Epoch 15/100\n",
            "34/34 [==============================] - 0s 2ms/step - loss: 8522.4102 - mae: 8522.4102\n",
            "Epoch 16/100\n",
            "34/34 [==============================] - 0s 2ms/step - loss: 8520.6660 - mae: 8520.6660\n",
            "Epoch 17/100\n",
            "34/34 [==============================] - 0s 3ms/step - loss: 8491.6191 - mae: 8491.6191\n",
            "Epoch 18/100\n",
            "34/34 [==============================] - 0s 2ms/step - loss: 8550.3418 - mae: 8550.3418\n",
            "Epoch 19/100\n",
            "34/34 [==============================] - 0s 2ms/step - loss: 8482.3457 - mae: 8482.3457\n",
            "Epoch 20/100\n",
            "34/34 [==============================] - 0s 2ms/step - loss: 8483.3828 - mae: 8483.3828\n",
            "Epoch 21/100\n",
            "34/34 [==============================] - 0s 3ms/step - loss: 8553.3203 - mae: 8553.3203\n",
            "Epoch 22/100\n",
            "34/34 [==============================] - 0s 3ms/step - loss: 8546.4717 - mae: 8546.4717\n",
            "Epoch 23/100\n",
            "34/34 [==============================] - 0s 2ms/step - loss: 8455.8154 - mae: 8455.8154\n",
            "Epoch 24/100\n",
            "34/34 [==============================] - 0s 3ms/step - loss: 8462.6768 - mae: 8462.6768\n",
            "Epoch 25/100\n",
            "34/34 [==============================] - 0s 3ms/step - loss: 8574.0645 - mae: 8574.0645\n",
            "Epoch 26/100\n",
            "34/34 [==============================] - 0s 2ms/step - loss: 8482.5146 - mae: 8482.5146\n",
            "Epoch 27/100\n",
            "34/34 [==============================] - 0s 2ms/step - loss: 8476.3418 - mae: 8476.3418\n",
            "Epoch 28/100\n",
            "34/34 [==============================] - 0s 3ms/step - loss: 8451.6895 - mae: 8451.6895\n",
            "Epoch 29/100\n",
            "34/34 [==============================] - 0s 3ms/step - loss: 8459.8555 - mae: 8459.8555\n",
            "Epoch 30/100\n",
            "34/34 [==============================] - 0s 2ms/step - loss: 8530.9600 - mae: 8530.9600\n",
            "Epoch 31/100\n",
            "34/34 [==============================] - 0s 2ms/step - loss: 8465.4814 - mae: 8465.4814\n",
            "Epoch 32/100\n",
            "34/34 [==============================] - 0s 2ms/step - loss: 8415.6748 - mae: 8415.6748\n",
            "Epoch 33/100\n",
            "34/34 [==============================] - 0s 2ms/step - loss: 8464.9531 - mae: 8464.9531\n",
            "Epoch 34/100\n",
            "34/34 [==============================] - 0s 3ms/step - loss: 8441.3154 - mae: 8441.3154\n",
            "Epoch 35/100\n",
            "34/34 [==============================] - 0s 2ms/step - loss: 8450.7832 - mae: 8450.7832\n",
            "Epoch 36/100\n",
            "34/34 [==============================] - 0s 2ms/step - loss: 8414.0498 - mae: 8414.0498\n",
            "Epoch 37/100\n",
            "34/34 [==============================] - 0s 3ms/step - loss: 8465.5488 - mae: 8465.5488\n",
            "Epoch 38/100\n",
            "34/34 [==============================] - 0s 2ms/step - loss: 8514.1484 - mae: 8514.1484\n",
            "Epoch 39/100\n",
            "34/34 [==============================] - 0s 2ms/step - loss: 8479.1875 - mae: 8479.1875\n",
            "Epoch 40/100\n",
            "34/34 [==============================] - 0s 2ms/step - loss: 8474.3145 - mae: 8474.3145\n",
            "Epoch 41/100\n",
            "34/34 [==============================] - 0s 2ms/step - loss: 8420.6523 - mae: 8420.6523\n",
            "Epoch 42/100\n",
            "34/34 [==============================] - 0s 2ms/step - loss: 8390.7988 - mae: 8390.7988\n",
            "Epoch 43/100\n",
            "34/34 [==============================] - 0s 3ms/step - loss: 8419.9629 - mae: 8419.9629\n",
            "Epoch 44/100\n",
            "34/34 [==============================] - 0s 2ms/step - loss: 8421.4395 - mae: 8421.4395\n",
            "Epoch 45/100\n",
            "34/34 [==============================] - 0s 2ms/step - loss: 8408.7549 - mae: 8408.7549\n",
            "Epoch 46/100\n",
            "34/34 [==============================] - 0s 2ms/step - loss: 8435.9707 - mae: 8435.9707\n",
            "Epoch 47/100\n",
            "34/34 [==============================] - 0s 2ms/step - loss: 8434.8496 - mae: 8434.8496\n",
            "Epoch 48/100\n",
            "34/34 [==============================] - 0s 2ms/step - loss: 8444.6953 - mae: 8444.6953\n",
            "Epoch 49/100\n",
            "34/34 [==============================] - 0s 2ms/step - loss: 8462.8066 - mae: 8462.8066\n",
            "Epoch 50/100\n",
            "34/34 [==============================] - 0s 2ms/step - loss: 8436.2070 - mae: 8436.2070\n",
            "Epoch 51/100\n",
            "34/34 [==============================] - 0s 2ms/step - loss: 8421.8652 - mae: 8421.8652\n",
            "Epoch 52/100\n",
            "34/34 [==============================] - 0s 2ms/step - loss: 8391.1240 - mae: 8391.1240\n",
            "Epoch 53/100\n",
            "34/34 [==============================] - 0s 2ms/step - loss: 8485.2070 - mae: 8485.2070\n",
            "Epoch 54/100\n",
            "34/34 [==============================] - 0s 2ms/step - loss: 8442.2041 - mae: 8442.2041\n",
            "Epoch 55/100\n",
            "34/34 [==============================] - 0s 2ms/step - loss: 8440.9385 - mae: 8440.9385\n",
            "Epoch 56/100\n",
            "34/34 [==============================] - 0s 2ms/step - loss: 8406.3662 - mae: 8406.3672\n",
            "Epoch 57/100\n",
            "34/34 [==============================] - 0s 2ms/step - loss: 8421.4023 - mae: 8421.4023\n",
            "Epoch 58/100\n",
            "34/34 [==============================] - 0s 2ms/step - loss: 8412.8037 - mae: 8412.8037\n",
            "Epoch 59/100\n",
            "34/34 [==============================] - 0s 3ms/step - loss: 8405.5156 - mae: 8405.5156\n",
            "Epoch 60/100\n",
            "34/34 [==============================] - 0s 2ms/step - loss: 8429.4941 - mae: 8429.4941\n",
            "Epoch 61/100\n",
            "34/34 [==============================] - 0s 3ms/step - loss: 8440.8516 - mae: 8440.8516\n",
            "Epoch 62/100\n",
            "34/34 [==============================] - 0s 3ms/step - loss: 8410.2764 - mae: 8410.2764\n",
            "Epoch 63/100\n",
            "34/34 [==============================] - 0s 2ms/step - loss: 8426.0996 - mae: 8426.0996\n",
            "Epoch 64/100\n",
            "34/34 [==============================] - 0s 2ms/step - loss: 8415.3955 - mae: 8415.3955\n",
            "Epoch 65/100\n",
            "34/34 [==============================] - 0s 3ms/step - loss: 8355.3105 - mae: 8355.3105\n",
            "Epoch 66/100\n",
            "34/34 [==============================] - 0s 3ms/step - loss: 8356.5977 - mae: 8356.5977\n",
            "Epoch 67/100\n",
            "34/34 [==============================] - 0s 3ms/step - loss: 8393.1650 - mae: 8393.1650\n",
            "Epoch 68/100\n",
            "34/34 [==============================] - 0s 3ms/step - loss: 8402.5537 - mae: 8402.5537\n",
            "Epoch 69/100\n",
            "34/34 [==============================] - 0s 3ms/step - loss: 8401.2471 - mae: 8401.2471\n",
            "Epoch 70/100\n",
            "34/34 [==============================] - 0s 6ms/step - loss: 8369.5244 - mae: 8369.5244\n",
            "Epoch 71/100\n",
            "34/34 [==============================] - 0s 8ms/step - loss: 8406.4902 - mae: 8406.4902\n",
            "Epoch 72/100\n",
            "34/34 [==============================] - 0s 8ms/step - loss: 8383.5918 - mae: 8383.5918\n",
            "Epoch 73/100\n",
            "34/34 [==============================] - 0s 9ms/step - loss: 8447.2256 - mae: 8447.2256\n",
            "Epoch 74/100\n",
            "34/34 [==============================] - 0s 10ms/step - loss: 8395.6895 - mae: 8395.6895\n",
            "Epoch 75/100\n",
            "34/34 [==============================] - 0s 10ms/step - loss: 8381.5020 - mae: 8381.5020\n",
            "Epoch 76/100\n",
            "34/34 [==============================] - 0s 9ms/step - loss: 8383.4199 - mae: 8383.4199\n",
            "Epoch 77/100\n",
            "34/34 [==============================] - 0s 10ms/step - loss: 8399.2920 - mae: 8399.2920\n",
            "Epoch 78/100\n",
            "34/34 [==============================] - 0s 10ms/step - loss: 8364.0039 - mae: 8364.0039\n",
            "Epoch 79/100\n",
            "34/34 [==============================] - 0s 10ms/step - loss: 8427.1367 - mae: 8427.1367\n",
            "Epoch 80/100\n",
            "34/34 [==============================] - 0s 11ms/step - loss: 8398.1270 - mae: 8398.1270\n",
            "Epoch 81/100\n",
            "34/34 [==============================] - 0s 10ms/step - loss: 8393.5342 - mae: 8393.5342\n",
            "Epoch 82/100\n",
            "34/34 [==============================] - 0s 10ms/step - loss: 8394.1943 - mae: 8394.1943\n",
            "Epoch 83/100\n",
            "34/34 [==============================] - 0s 9ms/step - loss: 8398.1318 - mae: 8398.1318\n",
            "Epoch 84/100\n",
            "34/34 [==============================] - 0s 7ms/step - loss: 8391.2783 - mae: 8391.2783\n",
            "Epoch 85/100\n",
            "34/34 [==============================] - 0s 6ms/step - loss: 8414.3018 - mae: 8414.3018\n",
            "Epoch 86/100\n",
            "34/34 [==============================] - 0s 6ms/step - loss: 8383.0527 - mae: 8383.0527\n",
            "Epoch 87/100\n",
            "34/34 [==============================] - 0s 8ms/step - loss: 8357.1416 - mae: 8357.1416\n",
            "Epoch 88/100\n",
            "34/34 [==============================] - 0s 13ms/step - loss: 8410.2920 - mae: 8410.2920\n",
            "Epoch 89/100\n",
            "34/34 [==============================] - 0s 13ms/step - loss: 8363.7910 - mae: 8363.7910\n",
            "Epoch 90/100\n",
            "34/34 [==============================] - 0s 9ms/step - loss: 8397.2451 - mae: 8397.2451\n",
            "Epoch 91/100\n",
            "34/34 [==============================] - 0s 2ms/step - loss: 8376.7061 - mae: 8376.7061\n",
            "Epoch 92/100\n",
            "34/34 [==============================] - 0s 3ms/step - loss: 8462.6631 - mae: 8462.6631\n",
            "Epoch 93/100\n",
            "34/34 [==============================] - 0s 3ms/step - loss: 8396.4951 - mae: 8396.4951\n",
            "Epoch 94/100\n",
            "34/34 [==============================] - 0s 3ms/step - loss: 8380.3906 - mae: 8380.3906\n",
            "Epoch 95/100\n",
            "34/34 [==============================] - 0s 3ms/step - loss: 8369.9873 - mae: 8369.9873\n",
            "Epoch 96/100\n",
            "34/34 [==============================] - 0s 6ms/step - loss: 8335.9961 - mae: 8335.9961\n",
            "Epoch 97/100\n",
            "34/34 [==============================] - 0s 6ms/step - loss: 8359.5459 - mae: 8359.5459\n",
            "Epoch 98/100\n",
            "34/34 [==============================] - 0s 5ms/step - loss: 8389.2891 - mae: 8389.2891\n",
            "Epoch 99/100\n",
            "34/34 [==============================] - 0s 4ms/step - loss: 8395.9492 - mae: 8395.9492\n",
            "Epoch 100/100\n",
            "34/34 [==============================] - 0s 10ms/step - loss: 8416.9385 - mae: 8416.9385\n"
          ]
        },
        {
          "output_type": "execute_result",
          "data": {
            "text/plain": [
              "<keras.callbacks.History at 0x7f4b44309a50>"
            ]
          },
          "metadata": {},
          "execution_count": 25
        }
      ]
    },
    {
      "cell_type": "code",
      "source": [
        "\n",
        "# Check the results of the insurance model\n",
        "\n",
        "insurance_model.evaluate(X_test,y_test)"
      ],
      "metadata": {
        "colab": {
          "base_uri": "https://localhost:8080/"
        },
        "id": "w1OIzbHDV67I",
        "outputId": "33f8ed68-dec7-4587-8b1a-f86695aebc52"
      },
      "execution_count": null,
      "outputs": [
        {
          "output_type": "stream",
          "name": "stdout",
          "text": [
            "9/9 [==============================] - 0s 3ms/step - loss: 8471.2773 - mae: 8471.2773\n"
          ]
        },
        {
          "output_type": "execute_result",
          "data": {
            "text/plain": [
              "[8471.27734375, 8471.27734375]"
            ]
          },
          "metadata": {},
          "execution_count": 23
        }
      ]
    },
    {
      "cell_type": "code",
      "source": [
        "y_train.median(), y_train.mean()"
      ],
      "metadata": {
        "colab": {
          "base_uri": "https://localhost:8080/"
        },
        "id": "iNRBuYg4X20O",
        "outputId": "f5b7e391-b57e-497c-f76c-c2334c088c92"
      },
      "execution_count": null,
      "outputs": [
        {
          "output_type": "execute_result",
          "data": {
            "text/plain": [
              "(9331.610175000002, 13152.468258420562)"
            ]
          },
          "metadata": {},
          "execution_count": 27
        }
      ]
    },
    {
      "cell_type": "code",
      "source": [
        "#  right now our model isnt performing really well"
      ],
      "metadata": {
        "id": "_Dytk4KWYURL"
      },
      "execution_count": null,
      "outputs": []
    },
    {
      "cell_type": "code",
      "source": [
        "# Lets improve"
      ],
      "metadata": {
        "id": "j6n1dxKAY5XZ"
      },
      "execution_count": null,
      "outputs": []
    },
    {
      "cell_type": "code",
      "source": [
        "#  creat your model\n",
        "tf.random.set_seed(42)\n",
        "\n",
        "insurance_model_2 = tf.keras.Sequential([\n",
        "    tf.keras.layers.Dense(100),\n",
        "    tf.keras.layers.Dense(10),\n",
        "\n",
        "    tf.keras.layers.Dense(1)\n",
        "])\n",
        "# compile\n",
        "insurance_model_2.compile(loss = tf.keras.losses.mae,\n",
        "                          optimizer = tf.keras.optimizers.Adam(),\n",
        "                          metrics =['mae'])\n",
        "\n",
        "# fit\n",
        "history = insurance_model_2.fit(tf.expand_dims(X_train, axis =-1),y_train,epochs = 100, verbose =0)\n"
      ],
      "metadata": {
        "id": "0uc8tSckY7mV"
      },
      "execution_count": null,
      "outputs": []
    },
    {
      "cell_type": "code",
      "source": [
        "insurance_model_2.evaluate(X_test,y_test)"
      ],
      "metadata": {
        "colab": {
          "base_uri": "https://localhost:8080/"
        },
        "id": "-RignBFsZ_Ez",
        "outputId": "a9fb17df-f728-46ff-bcfd-46926960d7ed"
      },
      "execution_count": null,
      "outputs": [
        {
          "output_type": "stream",
          "name": "stdout",
          "text": [
            "9/9 [==============================] - 0s 6ms/step - loss: 8454.1904 - mae: 8454.1904\n"
          ]
        },
        {
          "output_type": "execute_result",
          "data": {
            "text/plain": [
              "[8454.1904296875, 8454.1904296875]"
            ]
          },
          "metadata": {},
          "execution_count": 70
        }
      ]
    },
    {
      "cell_type": "code",
      "source": [
        "#  plot history(training/loss curve)\n",
        "pd.DataFrame(history.history).plot()\n",
        "plt.xlabel(\"loss\")\n",
        "plt.ylabel(\"epochs\")"
      ],
      "metadata": {
        "colab": {
          "base_uri": "https://localhost:8080/",
          "height": 467
        },
        "id": "ttH4y4RbaRIk",
        "outputId": "9a4bd426-1421-4c73-ddb7-c51978ce05a2"
      },
      "execution_count": null,
      "outputs": [
        {
          "output_type": "execute_result",
          "data": {
            "text/plain": [
              "Text(0, 0.5, 'epochs')"
            ]
          },
          "metadata": {},
          "execution_count": 71
        },
        {
          "output_type": "display_data",
          "data": {
            "text/plain": [
              "<Figure size 640x480 with 1 Axes>"
            ],
            "image/png": "[encoded data removed]"
          },
          "metadata": {}
        }
      ]
    },
    {
      "cell_type": "code",
      "source": [
        "# hown long should you train"
      ],
      "metadata": {
        "id": "8CIkgp7BdAmo"
      },
      "execution_count": null,
      "outputs": []
    },
    {
      "cell_type": "code",
      "source": [
        "#  EarlyStopping callback\n",
        "#  stops training once it stops improving"
      ],
      "metadata": {
        "id": "HGiEpFwTdqxf"
      },
      "execution_count": null,
      "outputs": []
    },
    {
      "cell_type": "code",
      "source": [
        "history_2 = insurance_model_2.fit(tf.expand_dims(X_train, axis =-1),y_train,epochs = 100, verbose =0)\n"
      ],
      "metadata": {
        "id": "TLqjwyIeh-ql"
      },
      "execution_count": null,
      "outputs": []
    },
    {
      "cell_type": "code",
      "source": [],
      "metadata": {
        "colab": {
          "base_uri": "https://localhost:8080/",
          "height": 449
        },
        "id": "WBvj6CNLjAA3",
        "outputId": "957275e6-d778-429c-af97-cd8eff43aa6c"
      },
      "execution_count": null,
      "outputs": [
        {
          "output_type": "display_data",
          "data": {
            "text/plain": [
              "<Figure size 640x480 with 1 Axes>"
            ],
            "image/png": "[encoded data removed]"
          },
          "metadata": {}
        }
      ]
    },
    {
      "cell_type": "code",
      "source": [
        "\n",
        "# Evaluate the model trained for 200 total epochs\n",
        "insurance_model_2_loss, insurance_model_2_mae = insurance_model_2.evaluate(X_test, y_test)\n",
        "insurance_model_2_loss, insurance_model_2_mae\n",
        "\n"
      ],
      "metadata": {
        "colab": {
          "base_uri": "https://localhost:8080/"
        },
        "id": "XekM_rFhi6TR",
        "outputId": "adb2436d-2107-4630-f655-fad117386033"
      },
      "execution_count": null,
      "outputs": [
        {
          "output_type": "stream",
          "name": "stdout",
          "text": [
            "9/9 [==============================] - 0s 4ms/step - loss: 8452.6797 - mae: 8452.6797\n"
          ]
        },
        {
          "output_type": "execute_result",
          "data": {
            "text/plain": [
              "(8452.6796875, 8452.6796875)"
            ]
          },
          "metadata": {},
          "execution_count": 80
        }
      ]
    },
    {
      "cell_type": "code",
      "source": [
        "# Plot the model trained for 200 total epochs loss curves\n",
        "pd.DataFrame(history_2.history).plot()\n",
        "plt.ylabel(\"loss\")\n",
        "plt.xlabel(\"epochs\"); # note: epochs will only show 100 since we overrid the history variab"
      ],
      "metadata": {
        "colab": {
          "base_uri": "https://localhost:8080/",
          "height": 449
        },
        "id": "CesnQ0IfjG7V",
        "outputId": "e2384d3a-8d11-421b-afa4-3f3f75a4cbaf"
      },
      "execution_count": null,
      "outputs": [
        {
          "output_type": "display_data",
          "data": {
            "text/plain": [
              "<Figure size 640x480 with 1 Axes>"
            ],
            "image/png": "[encoded data removed]"
          },
          "metadata": {}
        }
      ]
    },
    {
      "cell_type": "markdown",
      "source": [
        "## Preprocessing data (normalization and standardization)"
      ],
      "metadata": {
        "id": "8CnlCR0GhPSi"
      }
    },
    {
      "cell_type": "code",
      "source": [
        "# A common practice when working with neural networks is to make sure all of the data you pass to them is in the range 0 to 1.\n",
        "\n",
        "# This practice is called normalization (scaling all values from their original range to, e.g. between 0 and 100,000 to be between 0 and 1).\n",
        "\n",
        "# There is another process call standardization which converts all of your data to unit variance and 0 mean.\n",
        "\n",
        "# These two practices are often part of a preprocessing pipeline (a series of functions to prepare your data for use with neural networks).\n",
        "\n",
        "# Knowing this, some of the major steps you'll take to preprocess your data for a neural network include:\n",
        "\n",
        "# Turning all of your data to numbers (a neural network can't handle strings).\n",
        "# Making sure your data is in the right shape (verifying input and output shapes).\n",
        "# Feature scaling:\n",
        "# Normalizing data (making sure all values are between 0 and 1). This is done by subtracting the minimum value then dividing by the maximum value minus the minimum. This is also referred to as min-max scaling.\n",
        "# Standardization (making sure all values have a mean of 0 and a variance of 1). This is done by subtracting the mean value from the target feature and then dividing it by the standard deviation.\n",
        "# Which one should you use?\n",
        "# With neural networks you'll tend to favour normalization as they tend to prefer values between 0 and 1 (you'll see this espcially with image processing), however, you'll often find a neural network can perform pretty well with minimal feature scaling.\n",
        "# 📖 Resource: For more on preprocessing data, I'd recommend reading the following resources:\n",
        "\n",
        "# Scikit-Learn's documentation on preprocessing data.\n",
        "# Scale, Standardize or Normalize with Scikit-Learn by Jeff Hale.\n",
        "# We've already turned our data into numbers using get_dummies(), let's see how we'd normalize it as well."
      ],
      "metadata": {
        "id": "pE4lGu-Pd5TP"
      },
      "execution_count": null,
      "outputs": []
    },
    {
      "cell_type": "code",
      "source": [
        "\n",
        "import pandas as pd\n",
        "import matplotlib.pyplot as plt\n",
        "import tensorflow as tf\n",
        "\n",
        "# Read in the insurance dataset\n",
        "insurance = pd.read_csv(\"https://raw.githubusercontent.com/stedy/Machine-Learning-with-R-datasets/master/insurance.csv\")\n",
        "\n",
        "\n",
        "# Check out the data\n",
        "insurance.head()\n"
      ],
      "metadata": {
        "colab": {
          "base_uri": "https://localhost:8080/",
          "height": 206
        },
        "id": "AM5QAkS7hXs4",
        "outputId": "e51e23ac-794f-4d13-c9da-89c7c42545d2"
      },
      "execution_count": null,
      "outputs": [
        {
          "output_type": "execute_result",
          "data": {
            "text/plain": [
              "   age     sex     bmi  children smoker     region      charges\n",
              "0   19  female  27.900         0    yes  southwest  16884.92400\n",
              "1   18    male  33.770         1     no  southeast   1725.55230\n",
              "2   28    male  33.000         3     no  southeast   4449.46200\n",
              "3   33    male  22.705         0     no  northwest  21984.47061\n",
              "4   32    male  28.880         0     no  northwest   3866.85520"
            ],
            "text/html": [
              "\n",
              "  <div id=\"df-58795bb5-78a5-4fc2-8582-60130a68d05b\">\n",
              "    <div class=\"colab-df-container\">\n",
              "      <div>\n",
              "<style scoped>\n",
              "    .dataframe tbody tr th:only-of-type {\n",
              "        vertical-align: middle;\n",
              "    }\n",
              "\n",
              "    .dataframe tbody tr th {\n",
              "        vertical-align: top;\n",
              "    }\n",
              "\n",
              "    .dataframe thead th {\n",
              "        text-align: right;\n",
              "    }\n",
              "</style>\n",
              "<table border=\"1\" class=\"dataframe\">\n",
              "  <thead>\n",
              "    <tr style=\"text-align: right;\">\n",
              "      <th></th>\n",
              "      <th>age</th>\n",
              "      <th>sex</th>\n",
              "      <th>bmi</th>\n",
              "      <th>children</th>\n",
              "      <th>smoker</th>\n",
              "      <th>region</th>\n",
              "      <th>charges</th>\n",
              "    </tr>\n",
              "  </thead>\n",
              "  <tbody>\n",
              "    <tr>\n",
              "      <th>0</th>\n",
              "      <td>19</td>\n",
              "      <td>female</td>\n",
              "      <td>27.900</td>\n",
              "      <td>0</td>\n",
              "      <td>yes</td>\n",
              "      <td>southwest</td>\n",
              "      <td>16884.92400</td>\n",
              "    </tr>\n",
              "    <tr>\n",
              "      <th>1</th>\n",
              "      <td>18</td>\n",
              "      <td>male</td>\n",
              "      <td>33.770</td>\n",
              "      <td>1</td>\n",
              "      <td>no</td>\n",
              "      <td>southeast</td>\n",
              "      <td>1725.55230</td>\n",
              "    </tr>\n",
              "    <tr>\n",
              "      <th>2</th>\n",
              "      <td>28</td>\n",
              "      <td>male</td>\n",
              "      <td>33.000</td>\n",
              "      <td>3</td>\n",
              "      <td>no</td>\n",
              "      <td>southeast</td>\n",
              "      <td>4449.46200</td>\n",
              "    </tr>\n",
              "    <tr>\n",
              "      <th>3</th>\n",
              "      <td>33</td>\n",
              "      <td>male</td>\n",
              "      <td>22.705</td>\n",
              "      <td>0</td>\n",
              "      <td>no</td>\n",
              "      <td>northwest</td>\n",
              "      <td>21984.47061</td>\n",
              "    </tr>\n",
              "    <tr>\n",
              "      <th>4</th>\n",
              "      <td>32</td>\n",
              "      <td>male</td>\n",
              "      <td>28.880</td>\n",
              "      <td>0</td>\n",
              "      <td>no</td>\n",
              "      <td>northwest</td>\n",
              "      <td>3866.85520</td>\n",
              "    </tr>\n",
              "  </tbody>\n",
              "</table>\n",
              "</div>\n",
              "      <button class=\"colab-df-convert\" onclick=\"convertToInteractive('df-58795bb5-78a5-4fc2-8582-60130a68d05b')\"\n",
              "              title=\"Convert this dataframe to an interactive table.\"\n",
              "              style=\"display:none;\">\n",
              "        \n",
              "  <svg xmlns=\"http://www.w3.org/2000/svg\" height=\"24px\"viewBox=\"0 0 24 24\"\n",
              "       width=\"24px\">\n",
              "    <path d=\"M0 0h24v24H0V0z\" fill=\"none\"/>\n",
              "    <path d=\"M18.56 5.44l.94 2.06.94-2.06 2.06-.94-2.06-.94-.94-2.06-.94 2.06-2.06.94zm-11 1L8.5 8.5l.94-2.06 2.06-.94-2.06-.94L8.5 2.5l-.94 2.06-2.06.94zm10 10l.94 2.06.94-2.06 2.06-.94-2.06-.94-.94-2.06-.94 2.06-2.06.94z\"/><path d=\"M17.41 7.96l-1.37-1.37c-.4-.4-.92-.59-1.43-.59-.52 0-1.04.2-1.43.59L10.3 9.45l-7.72 7.72c-.78.78-.78 2.05 0 2.83L4 21.41c.39.39.9.59 1.41.59.51 0 1.02-.2 1.41-.59l7.78-7.78 2.81-2.81c.8-.78.8-2.07 0-2.86zM5.41 20L4 18.59l7.72-7.72 1.47 1.35L5.41 20z\"/>\n",
              "  </svg>\n",
              "      </button>\n",
              "      \n",
              "  <style>\n",
              "    .colab-df-container {\n",
              "      display:flex;\n",
              "      flex-wrap:wrap;\n",
              "      gap: 12px;\n",
              "    }\n",
              "\n",
              "    .colab-df-convert {\n",
              "      background-color: #E8F0FE;\n",
              "      border: none;\n",
              "      border-radius: 50%;\n",
              "      cursor: pointer;\n",
              "      display: none;\n",
              "      fill: #1967D2;\n",
              "      height: 32px;\n",
              "      padding: 0 0 0 0;\n",
              "      width: 32px;\n",
              "    }\n",
              "\n",
              "    .colab-df-convert:hover {\n",
              "      background-color: #E2EBFA;\n",
              "      box-shadow: 0px 1px 2px rgba(60, 64, 67, 0.3), 0px 1px 3px 1px rgba(60, 64, 67, 0.15);\n",
              "      fill: #174EA6;\n",
              "    }\n",
              "\n",
              "    [theme=dark] .colab-df-convert {\n",
              "      background-color: #3B4455;\n",
              "      fill: #D2E3FC;\n",
              "    }\n",
              "\n",
              "    [theme=dark] .colab-df-convert:hover {\n",
              "      background-color: #434B5C;\n",
              "      box-shadow: 0px 1px 3px 1px rgba(0, 0, 0, 0.15);\n",
              "      filter: drop-shadow(0px 1px 2px rgba(0, 0, 0, 0.3));\n",
              "      fill: #FFFFFF;\n",
              "    }\n",
              "  </style>\n",
              "\n",
              "      <script>\n",
              "        const buttonEl =\n",
              "          document.querySelector('#df-58795bb5-78a5-4fc2-8582-60130a68d05b button.colab-df-convert');\n",
              "        buttonEl.style.display =\n",
              "          google.colab.kernel.accessAllowed ? 'block' : 'none';\n",
              "\n",
              "        async function convertToInteractive(key) {\n",
              "          const element = document.querySelector('#df-58795bb5-78a5-4fc2-8582-60130a68d05b');\n",
              "          const dataTable =\n",
              "            await google.colab.kernel.invokeFunction('convertToInteractive',\n",
              "                                                     [key], {});\n",
              "          if (!dataTable) return;\n",
              "\n",
              "          const docLinkHtml = 'Like what you see? Visit the ' +\n",
              "            '<a target=\"_blank\" href=https://colab.research.google.com/notebooks/data_table.ipynb>data table notebook</a>'\n",
              "            + ' to learn more about interactive tables.';\n",
              "          element.innerHTML = '';\n",
              "          dataTable['output_type'] = 'display_data';\n",
              "          await google.colab.output.renderOutput(dataTable, element);\n",
              "          const docLink = document.createElement('div');\n",
              "          docLink.innerHTML = docLinkHtml;\n",
              "          element.appendChild(docLink);\n",
              "        }\n",
              "      </script>\n",
              "    </div>\n",
              "  </div>\n",
              "  "
            ]
          },
          "metadata": {},
          "execution_count": 82
        }
      ]
    },
    {
      "cell_type": "code",
      "source": [
        "# Now, just as before, we need to transform the non-numerical columns into numbers and this time we'll also be normalizing the numerical columns with different ranges (to make sure they're all between 0 and 1).\n",
        "\n",
        "# To do this, we're going to use a few classes from Scikit-Learn:\n",
        "\n",
        "# make_column_transformer - build a multi-step data preprocessing function for the folllowing transformations:\n",
        "# MinMaxScaler - make sure all numerical columns are normalized (between 0 and 1).\n",
        "# OneHotEncoder - one hot encode the non-numerical columns.\n",
        "# Let's see them in action."
      ],
      "metadata": {
        "id": "HcVM8eSHlRP9"
      },
      "execution_count": null,
      "outputs": []
    },
    {
      "cell_type": "code",
      "source": [
        "\n",
        "from sklearn.compose import make_column_transformer\n",
        "from sklearn.preprocessing import MinMaxScaler, OneHotEncoder\n",
        "\n",
        "# Create column transformer (this will help us normalize/preprocess our data)\n",
        "ct = make_column_transformer(\n",
        "    (MinMaxScaler(), [\"age\", \"bmi\", \"children\"]), # get all values between 0 and 1\n",
        "    (OneHotEncoder(handle_unknown=\"ignore\"), [\"sex\", \"smoker\", \"region\"])\n",
        ")\n",
        "\n",
        "# Create X & y\n",
        "X = insurance.drop(\"charges\", axis=1)\n",
        "y = insurance[\"charges\"]\n",
        "\n",
        "# Build our train and test sets (use random state to ensure same split as before)\n",
        "X_train, X_test, y_train, y_test = train_test_split(X, y, test_size=0.2, random_state=42)\n",
        "\n",
        "# Fit column transformer on the training data only (doing so on test data would result in data leakage)\n",
        "ct.fit(X_train)\n",
        "\n",
        "# Transform training and test data with normalization (MinMaxScalar) and one hot encoding (OneHotEncoder)\n",
        "X_train_normal = ct.transform(X_train)\n",
        "X_test_normal = ct.transform(X_test)"
      ],
      "metadata": {
        "id": "ivFzjWo_lYhJ"
      },
      "execution_count": null,
      "outputs": []
    },
    {
      "cell_type": "code",
      "source": [
        "X_train.loc[0]"
      ],
      "metadata": {
        "colab": {
          "base_uri": "https://localhost:8080/"
        },
        "id": "xEG8eWwSpTcU",
        "outputId": "77aadc35-6014-4002-8a86-77560dd9b556"
      },
      "execution_count": null,
      "outputs": [
        {
          "output_type": "execute_result",
          "data": {
            "text/plain": [
              "age                19\n",
              "sex            female\n",
              "bmi              27.9\n",
              "children            0\n",
              "smoker            yes\n",
              "region      southwest\n",
              "Name: 0, dtype: object"
            ]
          },
          "metadata": {},
          "execution_count": 87
        }
      ]
    },
    {
      "cell_type": "code",
      "source": [
        "X_train_normal[0]"
      ],
      "metadata": {
        "colab": {
          "base_uri": "https://localhost:8080/"
        },
        "id": "0n7YFVxmpp1I",
        "outputId": "53fc842d-36fe-4a2f-b659-35f1605f930e"
      },
      "execution_count": null,
      "outputs": [
        {
          "output_type": "execute_result",
          "data": {
            "text/plain": [
              "array([0.60869565, 0.10734463, 0.4       , 1.        , 0.        ,\n",
              "       1.        , 0.        , 0.        , 1.        , 0.        ,\n",
              "       0.        ])"
            ]
          },
          "metadata": {},
          "execution_count": 89
        }
      ]
    },
    {
      "cell_type": "code",
      "source": [
        "#  Notice the normalized/one-hot encoded shape is larger because of the extra columns\n",
        "X_train_normal.shape, X_train.shape"
      ],
      "metadata": {
        "colab": {
          "base_uri": "https://localhost:8080/"
        },
        "id": "CmGpLWwdps9n",
        "outputId": "ae07512a-a2e8-45a2-9092-f08130e0ac0a"
      },
      "execution_count": null,
      "outputs": [
        {
          "output_type": "execute_result",
          "data": {
            "text/plain": [
              "((1070, 11), (1070, 6))"
            ]
          },
          "metadata": {},
          "execution_count": 91
        }
      ]
    },
    {
      "cell_type": "code",
      "source": [
        "# Set random seed\n",
        "tf.random.set_seed(42)\n",
        "\n",
        "# Build the model (3 layers, 100, 10, 1 units)\n",
        "insurance_model_3 = tf.keras.Sequential([\n",
        "  tf.keras.layers.Dense(100),\n",
        "  tf.keras.layers.Dense(10),\n",
        "  tf.keras.layers.Dense(1)\n",
        "])\n",
        "\n",
        "# Compile the model\n",
        "insurance_model_3.compile(loss=tf.keras.losses.mae,\n",
        "                          optimizer=tf.keras.optimizers.Adam(),\n",
        "                          metrics=['mae'])\n",
        "\n",
        "# Fit the model for 200 epochs (same as insurance_model_2)\n",
        "history_3= insurance_model_3.fit(X_train_normal, y_train, epochs=200, verbose=0)"
      ],
      "metadata": {
        "id": "JQ6cSN4ypytS"
      },
      "execution_count": null,
      "outputs": []
    },
    {
      "cell_type": "code",
      "source": [
        "# evaluate\n",
        "# Evaulate 3rd model\n",
        "insurance_model_3_loss, insurance_model_3_mae = insurance_model_3.evaluate(X_test_normal, y_test)"
      ],
      "metadata": {
        "colab": {
          "base_uri": "https://localhost:8080/"
        },
        "id": "YGLlsVicp7xJ",
        "outputId": "1cd9938a-dfb4-470f-9e6d-f24d41ccd2e7"
      },
      "execution_count": null,
      "outputs": [
        {
          "output_type": "stream",
          "name": "stdout",
          "text": [
            "9/9 [==============================] - 0s 2ms/step - loss: 3175.1389 - mae: 3175.1389\n"
          ]
        }
      ]
    },
    {
      "cell_type": "code",
      "source": [
        "# And finally, let's compare the results from insurance_model_2 (trained on non-normalized data) and insurance_model_3 (trained on normalized data)."
      ],
      "metadata": {
        "id": "nEGdJQQeqZv6"
      },
      "execution_count": null,
      "outputs": []
    },
    {
      "cell_type": "code",
      "source": [
        "\n",
        "# Compare modelling results from non-normalized data and normalized data\n",
        "insurance_model_2_mae, insurance_model_3_mae\n",
        "\n",
        "\n",
        "\n"
      ],
      "metadata": {
        "colab": {
          "base_uri": "https://localhost:8080/"
        },
        "id": "i5wU-0tfq63u",
        "outputId": "b9dcda05-6a1c-4788-d4a7-6f88a00a604a"
      },
      "execution_count": null,
      "outputs": [
        {
          "output_type": "execute_result",
          "data": {
            "text/plain": [
              "(8452.6796875, 3175.138916015625)"
            ]
          },
          "metadata": {},
          "execution_count": 100
        }
      ]
    },
    {
      "cell_type": "code",
      "source": [
        "# Plot the model trained for 200 total epochs loss curves\n",
        "pd.DataFrame(history_3.history).plot()\n",
        "plt.ylabel(\"loss\")\n",
        "plt.xlabel(\"epochs\"); # note: epochs will only show 100 since we overrid the history variab"
      ],
      "metadata": {
        "colab": {
          "base_uri": "https://localhost:8080/",
          "height": 449
        },
        "id": "alqsocKyrhql",
        "outputId": "18b67e03-ec48-4739-890f-ae3dcf40909e"
      },
      "execution_count": null,
      "outputs": [
        {
          "output_type": "display_data",
          "data": {
            "text/plain": [
              "<Figure size 640x480 with 1 Axes>"
            ],
            "image/png": "[encoded data removed]"
          },
          "metadata": {}
        }
      ]
    },
    {
      "cell_type": "code",
      "source": [
        "# From this we can see normalizing the data results in 10% less error using the same model than not normalizing the data.\n",
        "\n",
        "# This is one of the main benefits of normalization: faster convergence time (a fancy way of saying, your model gets to better results faster).\n",
        "\n",
        "# insurance_model_2 may have eventually achieved the same results as insurance_model_3 if we left it training for longer.\n",
        "\n",
        "# Also, the results may change if we were to alter the architectures of the models, e.g. more hidden units per layer or more layers.\n",
        "\n",
        "# But since our main goal as neural network practitioners is to decrease the time between experiments, anything that helps us get better results sooner is a plus."
      ],
      "metadata": {
        "id": "ZCxQwwyyq-h0"
      },
      "execution_count": null,
      "outputs": []
    }
  ]
}